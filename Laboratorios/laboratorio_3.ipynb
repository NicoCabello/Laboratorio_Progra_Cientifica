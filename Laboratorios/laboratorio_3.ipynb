{
 "cells": [
  {
   "cell_type": "markdown",
   "metadata": {
    "cell_id": "00000-ae4bce0d-d467-4e5f-a49a-58fb5129bd6c",
    "deepnote_cell_height": 156.390625,
    "deepnote_cell_type": "markdown",
    "id": "XUZ1dFPHzAHl"
   },
   "source": [
    "<h1><center>Laboratorio 3: El Pandas no muerde (act. I) 🐼</center></h1>\n",
    "\n",
    "<center><strong>MDS7202: Laboratorio de Programación Científica para Ciencia de Datos</strong></center>"
   ]
  },
  {
   "cell_type": "markdown",
   "metadata": {
    "cell_id": "00001-c0f83a9b-e822-4864-8c65-718da74b60b9",
    "deepnote_cell_height": 284.1875,
    "deepnote_cell_type": "markdown",
    "id": "UD8X1uhGzAHq"
   },
   "source": [
    "### Cuerpo Docente:\n",
    "\n",
    "- Profesor: Matías Rojas y Mauricio Araneda\n",
    "- Auxiliar: Ignacio Meza D.\n",
    "- Ayudante: Rodrigo Guerra"
   ]
  },
  {
   "cell_type": "markdown",
   "metadata": {
    "cell_id": "00002-155246d6-4c8d-43be-872f-880dede73522",
    "deepnote_cell_height": 139.796875,
    "deepnote_cell_type": "markdown",
    "id": "tXflExjqzAHr"
   },
   "source": [
    "### Equipo: SUPER IMPORTANTE - notebooks sin nombre no serán revisados\n",
    "\n",
    "- Nombre de alumno 1: Nicolás Cabello\n",
    "- Nombre de alumno 2: Esteban Muñoz\n"
   ]
  },
  {
   "cell_type": "markdown",
   "metadata": {
    "cell_id": "00003-97391d1f-df36-4c70-90b7-bfd91cd6e49e",
    "deepnote_cell_height": 62,
    "deepnote_cell_type": "markdown",
    "id": "AD-V0bbZzAHr"
   },
   "source": [
    "### **Link de repositorio de GitHub:** `https://github.com/NicoCabello/Laboratorio_Progra_Cientifica`"
   ]
  },
  {
   "cell_type": "markdown",
   "metadata": {
    "cell_id": "00004-0e0866f8-5d50-4988-906a-d868ede07df1",
    "deepnote_cell_height": 241.390625,
    "deepnote_cell_type": "markdown",
    "tags": []
   },
   "source": [
    "### Reglas:\n",
    "\n",
    "- **Grupos de máximo 2 personas**\n",
    "- **Ausentes** deberán realizar la actividad solos. \n",
    "- Cualquier duda fuera del horario de clases al foro. Mensajes al equipo docente serán respondidos por este medio.\n",
    "- Prohibidas las copias. \n",
    "- Pueden usar cualquer matrial del curso que estimen conveniente."
   ]
  },
  {
   "cell_type": "markdown",
   "metadata": {
    "cell_id": "00005-ea6a4d75-61c0-4a2b-ac8d-1ac736216350",
    "deepnote_cell_height": 114.390625,
    "deepnote_cell_type": "markdown",
    "tags": []
   },
   "source": [
    "### Temas a tratar\n",
    "\n",
    "- Introducción al manejo de datos tabulares por medio de la libreria `pandas`."
   ]
  },
  {
   "cell_type": "markdown",
   "metadata": {
    "cell_id": "00006-fbe17074-fb3c-4ddb-bb19-2bfd042bf921",
    "deepnote_cell_height": 243.390625,
    "deepnote_cell_type": "markdown",
    "id": "6uBLPj1PzAHs"
   },
   "source": [
    "### Objetivos principales del laboratorio\n",
    "\n",
    "- Entender, aplicar y aprovechar las ventajas que nos ofrece la libreria `pandas` para manejar datos tabulares.\n",
    "- Aprender a utilizar la documentación de pandas (y en general, de cualquier librería de python) como también a buscar soluciones en la web.\n",
    "\n",
    "> **Nota**: El laboratorio deberá ser desarrollado sin el uso indiscriminado de iteradores nativos de python (aka \"for\", \"while\"). La idea es que aprendan a exprimir al máximo las funciones optimizadas que nos entrega `pandas`, las cuales vale mencionar, son bastante más eficientes que los iteradores nativos sobre DataFrames."
   ]
  },
  {
   "cell_type": "markdown",
   "metadata": {
    "cell_id": "00007-93c4d22f-7d4f-4cc0-bca9-a2c35a9b8b3e",
    "deepnote_cell_height": 62,
    "deepnote_cell_type": "markdown",
    "id": "MhISwri4zAHy"
   },
   "source": [
    "### Librerias utiles para el Lab 😸"
   ]
  },
  {
   "cell_type": "code",
   "execution_count": 1,
   "metadata": {
    "ExecuteTime": {
     "end_time": "2021-03-29T00:08:16.884674Z",
     "start_time": "2021-03-29T00:08:16.349846Z"
    },
    "cell_id": "00008-58834915-07fa-4589-93b7-f1fb0c08b816",
    "colab": {
     "base_uri": "https://localhost:8080/"
    },
    "deepnote_cell_height": 327,
    "deepnote_cell_type": "code",
    "deepnote_to_be_reexecuted": false,
    "executionInfo": {
     "elapsed": 4847,
     "status": "ok",
     "timestamp": 1619205948702,
     "user": {
      "displayName": "IGNACIO ALEJANDRO MEZA",
      "photoUrl": "",
      "userId": "17011121633069169364"
     },
     "user_tz": 240
    },
    "execution_millis": 4154,
    "execution_start": 1632493418117,
    "id": "uyc33dKdzAHy",
    "outputId": "0b8ebbb5-c76c-45a4-9d3e-1b6dba06a278",
    "source_hash": "8da0b14b"
   },
   "outputs": [],
   "source": [
    "# Libreria Core del lab.\n",
    "import numpy as np\n",
    "import pandas as pd\n",
    "from IPython.display import display\n",
    "\n",
    "#Libreria para plotear\n",
    "import plotly.express as px\n",
    "\n",
    "# Librerias utiles\n",
    "from sklearn.preprocessing import StandardScaler"
   ]
  },
  {
   "cell_type": "markdown",
   "metadata": {
    "cell_id": "00009-429ae3f2-fb38-4b64-b588-014a84e630dd",
    "deepnote_cell_height": 82,
    "deepnote_cell_type": "markdown",
    "id": "xpOTbQcxbSiy"
   },
   "source": [
    "# 1. Rendimiento en Estudiantes 📚"
   ]
  },
  {
   "cell_type": "markdown",
   "metadata": {
    "cell_id": "00011-2ad31a90-832d-4d5e-9c29-4e5d686375fa",
    "deepnote_cell_height": 119.59375,
    "deepnote_cell_type": "markdown",
    "id": "jnmZfFpxTTYX"
   },
   "source": [
    "Para este laboratorio deberán trabajar con el dataset `students_grades.json` el cual contiene información sobre el rendimiento de alumnos en distintos ramos. \n",
    "El objetivo principal será el de realizar un trabajo de limpieza de prepración y exploración de datos utilizando exclusivamente `DataFrames` y sus métodos asociados. \n",
    "\n",
    "\n"
   ]
  },
  {
   "cell_type": "code",
   "execution_count": 2,
   "metadata": {
    "cell_id": "00012-6ef52018-06ac-4eb8-8b0a-4142b81e04aa",
    "colab": {
     "base_uri": "https://localhost:8080/"
    },
    "deepnote_cell_height": 215,
    "deepnote_cell_type": "code",
    "deepnote_to_be_reexecuted": false,
    "executionInfo": {
     "elapsed": 625,
     "status": "ok",
     "timestamp": 1619205948705,
     "user": {
      "displayName": "IGNACIO ALEJANDRO MEZA",
      "photoUrl": "",
      "userId": "17011121633069169364"
     },
     "user_tz": 240
    },
    "execution_millis": 8,
    "execution_start": 1632493422315,
    "id": "Jqq-s010Iwl1",
    "outputId": "d90c065b-1e2f-43f6-81eb-c92ed177f5f5",
    "source_hash": "c60dc4a7"
   },
   "outputs": [
    {
     "name": "stdout",
     "output_type": "stream",
     "text": [
      "Ignorando conexión drive-colab\n"
     ]
    }
   ],
   "source": [
    "# Si usted está utilizando Colabolatory le puede ser útil este código para cargar los archivos.\n",
    "try:\n",
    "    from google.colab import drive\n",
    "    drive.mount(\"/content/drive\")\n",
    "    path = 'Dirección donde tiene los archivos en el Drive'\n",
    "except: \n",
    "    print('Ignorando conexión drive-colab')"
   ]
  },
  {
   "cell_type": "markdown",
   "metadata": {
    "cell_id": "00013-61182eec-37fa-401b-8e56-9aec91671835",
    "deepnote_cell_height": 493.1875,
    "deepnote_cell_type": "markdown",
    "id": "Y7sGYwOpN1VJ"
   },
   "source": [
    "## 1.1 Carga e Inspección de Datos [1.5 Puntos]\n",
    "\n",
    "\n",
    "<p align=\"center\">\n",
    "  <img src=\"https://drive.google.com/uc?export=view&id=1hZZaPQlZe4VupFOXt76_wjuUA5NpUhrw\" width=\"300\" height=\"300\">\n",
    "</p>\n"
   ]
  },
  {
   "cell_type": "markdown",
   "metadata": {
    "cell_id": "00014-19b7ef4c-d646-4d3c-bc96-0fcf03730924",
    "deepnote_cell_height": 822.796875,
    "deepnote_cell_type": "markdown",
    "tags": []
   },
   "source": [
    "*Don Caguayo*, rector de la Universidad de la Cachaña, les comenta que actualmente la Universidad no tiene una subdirección de análisis de datos, pero que tiene un gran interés en formar una. Es por esto, que se contacta con ud. y su equipo para iniciar de forma exploratoria diversas tareas de análisis y consolidación de datos respectivos al rendimiento de sus alumnos.\n",
    "\n",
    "Previo a su primera reunión con el rector, el rector le envía una copia de la base de datos, la cuál a usted y su equipo le encantaría examinar. Para esto, la primera tarea que debe realizar es abrir y cargar el dataset. \n",
    "\n",
    "\n",
    "> **Notar que es sumamente importante el formato que posee cada columna** para su manipulación y que posiblemente ustedes deberán especificar algunos tipos de datos a mano. Ver la documentación del método `read_json` para mayor información.\n",
    "\n",
    "A continuación se muestra un ejemplo de los dos primeros registros del dataset:\n",
    "\n",
    "```json\n",
    "[\n",
    "  {\n",
    "    \"names\": \"Rita Courtney\",\n",
    "    \"gender\": \"female\",\n",
    "    \"race/ethnicity\": \"group B\",\n",
    "    \"parental level of education\": \"some high school\",\n",
    "    \"lunch\": \"standard\",\n",
    "    \"test preparation course\": \"none\",\n",
    "    \"math score\": 37,\n",
    "    \"reading score\": 46,\n",
    "    \"writing score\": 46\n",
    "  },\n",
    "  {\n",
    "    \"names\": \"Madeline Fuller\",\n",
    "    \"gender\": \"female\",\n",
    "    \"race/ethnicity\": \"group C\",\n",
    "    \"parental level of education\": \"some high school\",\n",
    "    \"lunch\": \"standard\",\n",
    "    \"test preparation course\": \"none\",\n",
    "    \"math score\": 124,\n",
    "    \"reading score\": 142,\n",
    "    \"writing score\": 142\n",
    "  }\n",
    "]\n",
    "```\n",
    "\n",
    "\n",
    "\n"
   ]
  },
  {
   "cell_type": "code",
   "execution_count": 3,
   "metadata": {
    "cell_id": "00014-cf0912c5-504c-459e-a7cb-0bfae6cff886",
    "deepnote_cell_height": 61,
    "deepnote_cell_type": "code",
    "tags": []
   },
   "outputs": [],
   "source": [
    "col_type = {\n",
    "    \"math score\": float,\n",
    "    \"reading score\": float,\n",
    "    \"writing score\": float\n",
    "    }\n",
    "\n",
    "df_grades = pd.read_json(\"./students_grades.json\", orient=\"records\", dtype=col_type)"
   ]
  },
  {
   "cell_type": "code",
   "execution_count": 4,
   "metadata": {},
   "outputs": [],
   "source": [
    "# El diccionario col_types no cambio los datos a float, por lo que se realizó\n",
    "# de forma manual.\n",
    "df_grades[\"math score\"] = pd.to_numeric(df_grades[\"math score\"], errors=\"ignore\")\n",
    "df_grades[\"reading score\"] = pd.to_numeric(df_grades[\"reading score\"], errors=\"ignore\")\n",
    "df_grades[\"writing score\"] = pd.to_numeric(df_grades[\"writing score\"], errors=\"ignore\")"
   ]
  },
  {
   "cell_type": "markdown",
   "metadata": {
    "cell_id": "00014-21b2a755-ee5d-4b46-88cc-1d6ec13f2d8e",
    "deepnote_cell_height": 308,
    "deepnote_cell_type": "markdown",
    "id": "sgVJGeVMMshn"
   },
   "source": [
    "\n",
    "<p align=\"center\">\n",
    "  <img src=\"https://i.giphy.com/media/4FQMuOKR6zQRO/giphy.webp\">\n",
    "</p>\n",
    "\n",
    "\n",
    "Posteriormente, el rector les comenta que la sección de TI posee una base de datos con más de **875** filas, en donde cada fila representa un alumno matriculado. Sin embargo, cree fuertemente que existen errores en esta: solo tiene registro de **875** matriculas. Por este motivo, especula que se han realizado malas prácticas al registrar dichos datos.\n",
    "\n",
    "En consecuencia, el rector les solicita a ustedes como tarea inicial que exploren la base de datos y encuentre posibles falencias dentro de sus registros. Para esto, usted debe estar al tanto que las notas están en una escala que van del **0 al 100** (porcentaje de logro) y **no es posible que un alumno haya dado más de una vez el mismo examen**. Cualquier alumno que posea un valor diferente a esta escala, debería ser eliminado de la base de datos.\n"
   ]
  },
  {
   "cell_type": "markdown",
   "metadata": {
    "cell_id": "00015-e3e66248-1ff0-488e-8455-35ab2d49d172",
    "deepnote_cell_height": 661.796875,
    "deepnote_cell_type": "markdown",
    "tags": []
   },
   "source": [
    "> **Instrucciones**\n",
    "\n",
    "**Cree una función** que tome un `DataFrame` y que le permita revisar si las diferentes variables que lo componen son coherentes y si es posible observar anomalías en estas. \n",
    "\n",
    "**To-Do**\n",
    "1. [ ] Imprimir un mensaje con las dimensiones del Dataframe.\n",
    "2. [ ] Imprimir un mensaje con los nombres de las columnas que conforman el DataFrame.\n",
    "3. [ ] Mostrar los primeros 5, los últimos 5 elementos del DataFrame y realice un muestreo de 5 elementos de forma aleatoria.\n",
    "4. [ ] Mostrar una descripción rápida de las variables numéricas del DataFrame (utilice un método visto en clases).\n",
    "5. [ ] Imprimir un mensaje con la cantidad de valores nulos (investigue el método `isna()` y `sum()` de los DataFrames).\n",
    "6. [ ] Imprimir un mensaje que detalle la cantidad de valores unicos (investigue `nunique()`) .\n",
    "7. [ ] Imprimir un mensaje con el total de filas que contengan nombres duplicados (investigue `duplicated()` y su parámetro `subset`).\n",
    "8. [ ] Mostrar las filas que contengan nombres sean duplicados (investigue `duplicated()` y su parámetro `subset`).\n",
    "9. [ ] A traves de `.plot.box()` plotear el boxplot de las notas. De ser necesario, invetigue como funcionan los gráficos de caja (esta sección es provista).\n",
    "10. [ ] Finalmente responda la siguiente pregunta:\n",
    "\n",
    "> ¿Que anomalias es posible observar de los datos que componen el DataFrame? ¿Existen valores nulos o duplicados? ¿Qué puede interpretar de la distribución de las notas en el boxplot? (), comente esto en la celda ubicada debajo de **justificación**.\n",
    "\n",
    "> **Nota:** Para imprmir utilice `print(...)`. Para mostrar `DataFrames`, utilice `display(...)` ya que este permite mostrar estos elementos como tablas.\n",
    "\n",
    "> **Nota 2:** Utilice la documentación de [pandas](https://pandas.pydata.org/docs/index.html) como también StackOverflow para resolver cualquier problema o inconveniente.\n",
    "\n",
    "> **Nota 3:** Si no ha trabajado con boxplot antes, el siguiente link puede serle de mucha ayuda: [boxplot](https://medium.com/dayem-siddiqui/understanding-and-interpreting-box-plots-d07aab9d1b6c) "
   ]
  },
  {
   "cell_type": "markdown",
   "metadata": {
    "cell_id": "00016-f844817e-2dbb-4ef6-8b07-bfb37043bb52",
    "deepnote_cell_height": 52.390625,
    "deepnote_cell_type": "markdown",
    "tags": []
   },
   "source": [
    "**Respuesta:** "
   ]
  },
  {
   "cell_type": "code",
   "execution_count": 5,
   "metadata": {
    "cell_id": "00017-5f922af5-3edd-4012-8688-1573576c2703",
    "deepnote_cell_height": 97,
    "deepnote_cell_type": "code",
    "tags": []
   },
   "outputs": [],
   "source": [
    "def exploratory_data_analysis(dataframe):\n",
    "    \"\"\"Entrega información obtenida durante el análisis exploratorio.\n",
    "\n",
    "    Parameters\n",
    "    ----------\n",
    "    dataframe : pd.Dataframe\n",
    "        Dataframe con los datos a explorar.\n",
    "    \"\"\"\n",
    "\n",
    "    # To do 1\n",
    "    shape = dataframe.shape\n",
    "    print(f\"1.- El DataFrame tiene {shape[0]} filas y {shape[1]} columnas.\")\n",
    "    print()\n",
    "    \n",
    "    # To do 2\n",
    "    cols_names = list(dataframe.columns)\n",
    "    print(f\"2.- El DataFrame está compuesto por las siguientes columnas: {cols_names}.\")\n",
    "    print()\n",
    "\n",
    "    # To do 3\n",
    "    print(\"3.- Ejemplos de filas del DataFrame:\")\n",
    "    print()\n",
    "    print(\"Primeras 5 filas:\")\n",
    "    display(dataframe.head())\n",
    "    print()\n",
    "\n",
    "    print(\"Últimas 5 filas:\")\n",
    "    display(dataframe.tail())\n",
    "    print()\n",
    "\n",
    "    print(\"Muestreo aleatorio de 5 filas:\")\n",
    "    display(dataframe.sample(n=5, random_state=1234))\n",
    "    print()\n",
    "\n",
    "    # To do 4\n",
    "    print(\"4.- Descripción numérica del Dataframe:\")\n",
    "    display(dataframe.describe())\n",
    "    print()\n",
    "\n",
    "    # To do 5\n",
    "    print(\"5.- Cantidad de valores nulos por columna:\")\n",
    "    display(dataframe.isna().sum())\n",
    "    print()\n",
    "\n",
    "    # To do 6\n",
    "    print(\"6.- Cantidad de valores únicos por columna:\")\n",
    "    display(dataframe.nunique())\n",
    "    print()\n",
    "\n",
    "    # To do 7\n",
    "    duplicated_names = dataframe.duplicated(subset=[\"names\"])\n",
    "    print(f\"7.- Presenta un total de {duplicated_names.sum()} filas con nombres duplicados.\")\n",
    "    print()\n",
    "\n",
    "    # To do 8\n",
    "    print(\"8.- Las filas con nombres duplicados son:\")\n",
    "    display(dataframe[duplicated_names])\n",
    "\n",
    "    # To do 9\n",
    "    print(\"9.- Boxplot de notas:\")\n",
    "    dataframe.plot.box()"
   ]
  },
  {
   "cell_type": "code",
   "execution_count": 6,
   "metadata": {},
   "outputs": [
    {
     "name": "stdout",
     "output_type": "stream",
     "text": [
      "1.- El DataFrame tiene 1400 filas y 9 columnas.\n",
      "\n",
      "2.- El DataFrame está compuesto por las siguientes columnas: ['names', 'gender', 'race/ethnicity', 'parental level of education', 'lunch', 'test preparation course', 'math score', 'reading score', 'writing score'].\n",
      "\n",
      "3.- Ejemplos de filas del DataFrame:\n",
      "\n",
      "Primeras 5 filas:\n"
     ]
    },
    {
     "data": {
      "text/html": [
       "<div>\n",
       "<style scoped>\n",
       "    .dataframe tbody tr th:only-of-type {\n",
       "        vertical-align: middle;\n",
       "    }\n",
       "\n",
       "    .dataframe tbody tr th {\n",
       "        vertical-align: top;\n",
       "    }\n",
       "\n",
       "    .dataframe thead th {\n",
       "        text-align: right;\n",
       "    }\n",
       "</style>\n",
       "<table border=\"1\" class=\"dataframe\">\n",
       "  <thead>\n",
       "    <tr style=\"text-align: right;\">\n",
       "      <th></th>\n",
       "      <th>names</th>\n",
       "      <th>gender</th>\n",
       "      <th>race/ethnicity</th>\n",
       "      <th>parental level of education</th>\n",
       "      <th>lunch</th>\n",
       "      <th>test preparation course</th>\n",
       "      <th>math score</th>\n",
       "      <th>reading score</th>\n",
       "      <th>writing score</th>\n",
       "    </tr>\n",
       "  </thead>\n",
       "  <tbody>\n",
       "    <tr>\n",
       "      <th>0</th>\n",
       "      <td>Rita Courtney</td>\n",
       "      <td>female</td>\n",
       "      <td>group B</td>\n",
       "      <td>some high school</td>\n",
       "      <td>standard</td>\n",
       "      <td>none</td>\n",
       "      <td>37.0</td>\n",
       "      <td>46.0</td>\n",
       "      <td>46.0</td>\n",
       "    </tr>\n",
       "    <tr>\n",
       "      <th>1</th>\n",
       "      <td>Madeline Fuller</td>\n",
       "      <td>female</td>\n",
       "      <td>group C</td>\n",
       "      <td>some high school</td>\n",
       "      <td>standard</td>\n",
       "      <td>none</td>\n",
       "      <td>124.0</td>\n",
       "      <td>142.0</td>\n",
       "      <td>142.0</td>\n",
       "    </tr>\n",
       "    <tr>\n",
       "      <th>2</th>\n",
       "      <td>Daniel Rester</td>\n",
       "      <td>male</td>\n",
       "      <td>group E</td>\n",
       "      <td>associate's degree</td>\n",
       "      <td>standard</td>\n",
       "      <td>none</td>\n",
       "      <td>156.0</td>\n",
       "      <td>196.0</td>\n",
       "      <td>193.0</td>\n",
       "    </tr>\n",
       "    <tr>\n",
       "      <th>3</th>\n",
       "      <td>Charles Linstrom</td>\n",
       "      <td>male</td>\n",
       "      <td>group A</td>\n",
       "      <td>bachelor's degree</td>\n",
       "      <td>standard</td>\n",
       "      <td>completed</td>\n",
       "      <td>80.0</td>\n",
       "      <td>78.0</td>\n",
       "      <td>81.0</td>\n",
       "    </tr>\n",
       "    <tr>\n",
       "      <th>4</th>\n",
       "      <td>Geraldine Hale</td>\n",
       "      <td>female</td>\n",
       "      <td>group A</td>\n",
       "      <td>associate's degree</td>\n",
       "      <td>standard</td>\n",
       "      <td>none</td>\n",
       "      <td>131.0</td>\n",
       "      <td>166.0</td>\n",
       "      <td>166.0</td>\n",
       "    </tr>\n",
       "  </tbody>\n",
       "</table>\n",
       "</div>"
      ],
      "text/plain": [
       "              names  gender race/ethnicity parental level of education  \\\n",
       "0     Rita Courtney  female        group B            some high school   \n",
       "1   Madeline Fuller  female        group C            some high school   \n",
       "2     Daniel Rester    male        group E          associate's degree   \n",
       "3  Charles Linstrom    male        group A           bachelor's degree   \n",
       "4    Geraldine Hale  female        group A          associate's degree   \n",
       "\n",
       "      lunch test preparation course  math score  reading score  writing score  \n",
       "0  standard                    none        37.0           46.0           46.0  \n",
       "1  standard                    none       124.0          142.0          142.0  \n",
       "2  standard                    none       156.0          196.0          193.0  \n",
       "3  standard               completed        80.0           78.0           81.0  \n",
       "4  standard                    none       131.0          166.0          166.0  "
      ]
     },
     "metadata": {},
     "output_type": "display_data"
    },
    {
     "name": "stdout",
     "output_type": "stream",
     "text": [
      "\n",
      "Últimas 5 filas:\n"
     ]
    },
    {
     "data": {
      "text/html": [
       "<div>\n",
       "<style scoped>\n",
       "    .dataframe tbody tr th:only-of-type {\n",
       "        vertical-align: middle;\n",
       "    }\n",
       "\n",
       "    .dataframe tbody tr th {\n",
       "        vertical-align: top;\n",
       "    }\n",
       "\n",
       "    .dataframe thead th {\n",
       "        text-align: right;\n",
       "    }\n",
       "</style>\n",
       "<table border=\"1\" class=\"dataframe\">\n",
       "  <thead>\n",
       "    <tr style=\"text-align: right;\">\n",
       "      <th></th>\n",
       "      <th>names</th>\n",
       "      <th>gender</th>\n",
       "      <th>race/ethnicity</th>\n",
       "      <th>parental level of education</th>\n",
       "      <th>lunch</th>\n",
       "      <th>test preparation course</th>\n",
       "      <th>math score</th>\n",
       "      <th>reading score</th>\n",
       "      <th>writing score</th>\n",
       "    </tr>\n",
       "  </thead>\n",
       "  <tbody>\n",
       "    <tr>\n",
       "      <th>1395</th>\n",
       "      <td>Alexander Dillon</td>\n",
       "      <td>male</td>\n",
       "      <td>group D</td>\n",
       "      <td>associate's degree</td>\n",
       "      <td>standard</td>\n",
       "      <td>none</td>\n",
       "      <td>193.0</td>\n",
       "      <td>142.0</td>\n",
       "      <td>193.0</td>\n",
       "    </tr>\n",
       "    <tr>\n",
       "      <th>1396</th>\n",
       "      <td>Marina Zeigler</td>\n",
       "      <td>female</td>\n",
       "      <td>group C</td>\n",
       "      <td>bachelor's degree</td>\n",
       "      <td>free/reduced</td>\n",
       "      <td>completed</td>\n",
       "      <td>66.0</td>\n",
       "      <td>74.0</td>\n",
       "      <td>81.0</td>\n",
       "    </tr>\n",
       "    <tr>\n",
       "      <th>1397</th>\n",
       "      <td>Laurie Carter</td>\n",
       "      <td>female</td>\n",
       "      <td>group B</td>\n",
       "      <td>some high school</td>\n",
       "      <td>standard</td>\n",
       "      <td>completed</td>\n",
       "      <td>54.0</td>\n",
       "      <td>61.0</td>\n",
       "      <td>62.0</td>\n",
       "    </tr>\n",
       "    <tr>\n",
       "      <th>1398</th>\n",
       "      <td>Joseph Mccoy</td>\n",
       "      <td>male</td>\n",
       "      <td>group D</td>\n",
       "      <td>some college</td>\n",
       "      <td>free/reduced</td>\n",
       "      <td>none</td>\n",
       "      <td>193.0</td>\n",
       "      <td>196.0</td>\n",
       "      <td>193.0</td>\n",
       "    </tr>\n",
       "    <tr>\n",
       "      <th>1399</th>\n",
       "      <td>Amanda Perez</td>\n",
       "      <td>female</td>\n",
       "      <td>group A</td>\n",
       "      <td>high school</td>\n",
       "      <td>standard</td>\n",
       "      <td>completed</td>\n",
       "      <td>68.0</td>\n",
       "      <td>80.0</td>\n",
       "      <td>76.0</td>\n",
       "    </tr>\n",
       "  </tbody>\n",
       "</table>\n",
       "</div>"
      ],
      "text/plain": [
       "                 names  gender race/ethnicity parental level of education  \\\n",
       "1395  Alexander Dillon    male        group D          associate's degree   \n",
       "1396    Marina Zeigler  female        group C           bachelor's degree   \n",
       "1397     Laurie Carter  female        group B            some high school   \n",
       "1398      Joseph Mccoy    male        group D                some college   \n",
       "1399      Amanda Perez  female        group A                 high school   \n",
       "\n",
       "             lunch test preparation course  math score  reading score  \\\n",
       "1395      standard                    none       193.0          142.0   \n",
       "1396  free/reduced               completed        66.0           74.0   \n",
       "1397      standard               completed        54.0           61.0   \n",
       "1398  free/reduced                    none       193.0          196.0   \n",
       "1399      standard               completed        68.0           80.0   \n",
       "\n",
       "      writing score  \n",
       "1395          193.0  \n",
       "1396           81.0  \n",
       "1397           62.0  \n",
       "1398          193.0  \n",
       "1399           76.0  "
      ]
     },
     "metadata": {},
     "output_type": "display_data"
    },
    {
     "name": "stdout",
     "output_type": "stream",
     "text": [
      "\n",
      "Muestreo aleatorio de 5 filas:\n"
     ]
    },
    {
     "data": {
      "text/html": [
       "<div>\n",
       "<style scoped>\n",
       "    .dataframe tbody tr th:only-of-type {\n",
       "        vertical-align: middle;\n",
       "    }\n",
       "\n",
       "    .dataframe tbody tr th {\n",
       "        vertical-align: top;\n",
       "    }\n",
       "\n",
       "    .dataframe thead th {\n",
       "        text-align: right;\n",
       "    }\n",
       "</style>\n",
       "<table border=\"1\" class=\"dataframe\">\n",
       "  <thead>\n",
       "    <tr style=\"text-align: right;\">\n",
       "      <th></th>\n",
       "      <th>names</th>\n",
       "      <th>gender</th>\n",
       "      <th>race/ethnicity</th>\n",
       "      <th>parental level of education</th>\n",
       "      <th>lunch</th>\n",
       "      <th>test preparation course</th>\n",
       "      <th>math score</th>\n",
       "      <th>reading score</th>\n",
       "      <th>writing score</th>\n",
       "    </tr>\n",
       "  </thead>\n",
       "  <tbody>\n",
       "    <tr>\n",
       "      <th>1245</th>\n",
       "      <td>Sheron Luzar</td>\n",
       "      <td>female</td>\n",
       "      <td>group B</td>\n",
       "      <td>some high school</td>\n",
       "      <td>free/reduced</td>\n",
       "      <td>completed</td>\n",
       "      <td>196.0</td>\n",
       "      <td>NaN</td>\n",
       "      <td>64.0</td>\n",
       "    </tr>\n",
       "    <tr>\n",
       "      <th>885</th>\n",
       "      <td>Joanna Gardner</td>\n",
       "      <td>female</td>\n",
       "      <td>group C</td>\n",
       "      <td>bachelor's degree</td>\n",
       "      <td>standard</td>\n",
       "      <td>none</td>\n",
       "      <td>124.0</td>\n",
       "      <td>188.0</td>\n",
       "      <td>142.0</td>\n",
       "    </tr>\n",
       "    <tr>\n",
       "      <th>576</th>\n",
       "      <td>Albert Vaughn</td>\n",
       "      <td>male</td>\n",
       "      <td>group E</td>\n",
       "      <td>some college</td>\n",
       "      <td>free/reduced</td>\n",
       "      <td>completed</td>\n",
       "      <td>87.0</td>\n",
       "      <td>74.0</td>\n",
       "      <td>70.0</td>\n",
       "    </tr>\n",
       "    <tr>\n",
       "      <th>1069</th>\n",
       "      <td>Anthony Latouche</td>\n",
       "      <td>male</td>\n",
       "      <td>group B</td>\n",
       "      <td>bachelor's degree</td>\n",
       "      <td>free/reduced</td>\n",
       "      <td>none</td>\n",
       "      <td>48.0</td>\n",
       "      <td>51.0</td>\n",
       "      <td>46.0</td>\n",
       "    </tr>\n",
       "    <tr>\n",
       "      <th>227</th>\n",
       "      <td>David Davis</td>\n",
       "      <td>male</td>\n",
       "      <td>group C</td>\n",
       "      <td>bachelor's degree</td>\n",
       "      <td>free/reduced</td>\n",
       "      <td>none</td>\n",
       "      <td>53.0</td>\n",
       "      <td>58.0</td>\n",
       "      <td>55.0</td>\n",
       "    </tr>\n",
       "  </tbody>\n",
       "</table>\n",
       "</div>"
      ],
      "text/plain": [
       "                 names  gender race/ethnicity parental level of education  \\\n",
       "1245      Sheron Luzar  female        group B            some high school   \n",
       "885     Joanna Gardner  female        group C           bachelor's degree   \n",
       "576      Albert Vaughn    male        group E                some college   \n",
       "1069  Anthony Latouche    male        group B           bachelor's degree   \n",
       "227        David Davis    male        group C           bachelor's degree   \n",
       "\n",
       "             lunch test preparation course  math score  reading score  \\\n",
       "1245  free/reduced               completed       196.0            NaN   \n",
       "885       standard                    none       124.0          188.0   \n",
       "576   free/reduced               completed        87.0           74.0   \n",
       "1069  free/reduced                    none        48.0           51.0   \n",
       "227   free/reduced                    none        53.0           58.0   \n",
       "\n",
       "      writing score  \n",
       "1245           64.0  \n",
       "885           142.0  \n",
       "576            70.0  \n",
       "1069           46.0  \n",
       "227            55.0  "
      ]
     },
     "metadata": {},
     "output_type": "display_data"
    },
    {
     "name": "stdout",
     "output_type": "stream",
     "text": [
      "\n",
      "4.- Descripción numérica del Dataframe:\n"
     ]
    },
    {
     "data": {
      "text/html": [
       "<div>\n",
       "<style scoped>\n",
       "    .dataframe tbody tr th:only-of-type {\n",
       "        vertical-align: middle;\n",
       "    }\n",
       "\n",
       "    .dataframe tbody tr th {\n",
       "        vertical-align: top;\n",
       "    }\n",
       "\n",
       "    .dataframe thead th {\n",
       "        text-align: right;\n",
       "    }\n",
       "</style>\n",
       "<table border=\"1\" class=\"dataframe\">\n",
       "  <thead>\n",
       "    <tr style=\"text-align: right;\">\n",
       "      <th></th>\n",
       "      <th>math score</th>\n",
       "      <th>reading score</th>\n",
       "      <th>writing score</th>\n",
       "    </tr>\n",
       "  </thead>\n",
       "  <tbody>\n",
       "    <tr>\n",
       "      <th>count</th>\n",
       "      <td>1360.000000</td>\n",
       "      <td>1360.000000</td>\n",
       "      <td>1353.000000</td>\n",
       "    </tr>\n",
       "    <tr>\n",
       "      <th>mean</th>\n",
       "      <td>89.538971</td>\n",
       "      <td>93.086029</td>\n",
       "      <td>91.852919</td>\n",
       "    </tr>\n",
       "    <tr>\n",
       "      <th>std</th>\n",
       "      <td>47.152422</td>\n",
       "      <td>46.385775</td>\n",
       "      <td>47.043570</td>\n",
       "    </tr>\n",
       "    <tr>\n",
       "      <th>min</th>\n",
       "      <td>0.000000</td>\n",
       "      <td>17.000000</td>\n",
       "      <td>10.000000</td>\n",
       "    </tr>\n",
       "    <tr>\n",
       "      <th>25%</th>\n",
       "      <td>59.000000</td>\n",
       "      <td>63.000000</td>\n",
       "      <td>62.000000</td>\n",
       "    </tr>\n",
       "    <tr>\n",
       "      <th>50%</th>\n",
       "      <td>72.000000</td>\n",
       "      <td>76.000000</td>\n",
       "      <td>75.000000</td>\n",
       "    </tr>\n",
       "    <tr>\n",
       "      <th>75%</th>\n",
       "      <td>97.250000</td>\n",
       "      <td>100.000000</td>\n",
       "      <td>100.000000</td>\n",
       "    </tr>\n",
       "    <tr>\n",
       "      <th>max</th>\n",
       "      <td>196.000000</td>\n",
       "      <td>196.000000</td>\n",
       "      <td>196.000000</td>\n",
       "    </tr>\n",
       "  </tbody>\n",
       "</table>\n",
       "</div>"
      ],
      "text/plain": [
       "        math score  reading score  writing score\n",
       "count  1360.000000    1360.000000    1353.000000\n",
       "mean     89.538971      93.086029      91.852919\n",
       "std      47.152422      46.385775      47.043570\n",
       "min       0.000000      17.000000      10.000000\n",
       "25%      59.000000      63.000000      62.000000\n",
       "50%      72.000000      76.000000      75.000000\n",
       "75%      97.250000     100.000000     100.000000\n",
       "max     196.000000     196.000000     196.000000"
      ]
     },
     "metadata": {},
     "output_type": "display_data"
    },
    {
     "name": "stdout",
     "output_type": "stream",
     "text": [
      "\n",
      "5.- Cantidad de valores nulos por columna:\n"
     ]
    },
    {
     "data": {
      "text/plain": [
       "names                           0\n",
       "gender                          0\n",
       "race/ethnicity                  0\n",
       "parental level of education     0\n",
       "lunch                           0\n",
       "test preparation course         0\n",
       "math score                     40\n",
       "reading score                  40\n",
       "writing score                  47\n",
       "dtype: int64"
      ]
     },
     "metadata": {},
     "output_type": "display_data"
    },
    {
     "name": "stdout",
     "output_type": "stream",
     "text": [
      "\n",
      "6.- Cantidad de valores únicos por columna:\n"
     ]
    },
    {
     "data": {
      "text/plain": [
       "names                          1153\n",
       "gender                            2\n",
       "race/ethnicity                    5\n",
       "parental level of education       6\n",
       "lunch                             2\n",
       "test preparation course           2\n",
       "math score                       96\n",
       "reading score                    88\n",
       "writing score                    92\n",
       "dtype: int64"
      ]
     },
     "metadata": {},
     "output_type": "display_data"
    },
    {
     "name": "stdout",
     "output_type": "stream",
     "text": [
      "\n",
      "7.- Presenta un total de 247 filas con nombres duplicados.\n",
      "\n",
      "8.- Las filas con nombres duplicados son:\n"
     ]
    },
    {
     "data": {
      "text/html": [
       "<div>\n",
       "<style scoped>\n",
       "    .dataframe tbody tr th:only-of-type {\n",
       "        vertical-align: middle;\n",
       "    }\n",
       "\n",
       "    .dataframe tbody tr th {\n",
       "        vertical-align: top;\n",
       "    }\n",
       "\n",
       "    .dataframe thead th {\n",
       "        text-align: right;\n",
       "    }\n",
       "</style>\n",
       "<table border=\"1\" class=\"dataframe\">\n",
       "  <thead>\n",
       "    <tr style=\"text-align: right;\">\n",
       "      <th></th>\n",
       "      <th>names</th>\n",
       "      <th>gender</th>\n",
       "      <th>race/ethnicity</th>\n",
       "      <th>parental level of education</th>\n",
       "      <th>lunch</th>\n",
       "      <th>test preparation course</th>\n",
       "      <th>math score</th>\n",
       "      <th>reading score</th>\n",
       "      <th>writing score</th>\n",
       "    </tr>\n",
       "  </thead>\n",
       "  <tbody>\n",
       "    <tr>\n",
       "      <th>12</th>\n",
       "      <td>Rita Courtney</td>\n",
       "      <td>female</td>\n",
       "      <td>group B</td>\n",
       "      <td>some high school</td>\n",
       "      <td>standard</td>\n",
       "      <td>none</td>\n",
       "      <td>193.0</td>\n",
       "      <td>193.0</td>\n",
       "      <td>193.0</td>\n",
       "    </tr>\n",
       "    <tr>\n",
       "      <th>81</th>\n",
       "      <td>Elizabeth Quintero</td>\n",
       "      <td>female</td>\n",
       "      <td>group B</td>\n",
       "      <td>some college</td>\n",
       "      <td>standard</td>\n",
       "      <td>none</td>\n",
       "      <td>82.0</td>\n",
       "      <td>85.0</td>\n",
       "      <td>87.0</td>\n",
       "    </tr>\n",
       "    <tr>\n",
       "      <th>160</th>\n",
       "      <td>Michelle Gonzales</td>\n",
       "      <td>female</td>\n",
       "      <td>group B</td>\n",
       "      <td>some high school</td>\n",
       "      <td>standard</td>\n",
       "      <td>completed</td>\n",
       "      <td>60.0</td>\n",
       "      <td>70.0</td>\n",
       "      <td>74.0</td>\n",
       "    </tr>\n",
       "    <tr>\n",
       "      <th>170</th>\n",
       "      <td>Carla Mendoza</td>\n",
       "      <td>female</td>\n",
       "      <td>group D</td>\n",
       "      <td>associate's degree</td>\n",
       "      <td>free/reduced</td>\n",
       "      <td>none</td>\n",
       "      <td>43.0</td>\n",
       "      <td>60.0</td>\n",
       "      <td>58.0</td>\n",
       "    </tr>\n",
       "    <tr>\n",
       "      <th>176</th>\n",
       "      <td>Darlene Parker</td>\n",
       "      <td>female</td>\n",
       "      <td>group C</td>\n",
       "      <td>associate's degree</td>\n",
       "      <td>standard</td>\n",
       "      <td>none</td>\n",
       "      <td>54.0</td>\n",
       "      <td>61.0</td>\n",
       "      <td>58.0</td>\n",
       "    </tr>\n",
       "    <tr>\n",
       "      <th>...</th>\n",
       "      <td>...</td>\n",
       "      <td>...</td>\n",
       "      <td>...</td>\n",
       "      <td>...</td>\n",
       "      <td>...</td>\n",
       "      <td>...</td>\n",
       "      <td>...</td>\n",
       "      <td>...</td>\n",
       "      <td>...</td>\n",
       "    </tr>\n",
       "    <tr>\n",
       "      <th>1385</th>\n",
       "      <td>James Crawford</td>\n",
       "      <td>male</td>\n",
       "      <td>group D</td>\n",
       "      <td>master's degree</td>\n",
       "      <td>standard</td>\n",
       "      <td>none</td>\n",
       "      <td>193.0</td>\n",
       "      <td>147.0</td>\n",
       "      <td>131.0</td>\n",
       "    </tr>\n",
       "    <tr>\n",
       "      <th>1390</th>\n",
       "      <td>Gloria Bradford</td>\n",
       "      <td>female</td>\n",
       "      <td>group B</td>\n",
       "      <td>high school</td>\n",
       "      <td>standard</td>\n",
       "      <td>none</td>\n",
       "      <td>124.0</td>\n",
       "      <td>64.0</td>\n",
       "      <td>193.0</td>\n",
       "    </tr>\n",
       "    <tr>\n",
       "      <th>1393</th>\n",
       "      <td>Adam Romero</td>\n",
       "      <td>male</td>\n",
       "      <td>group C</td>\n",
       "      <td>high school</td>\n",
       "      <td>standard</td>\n",
       "      <td>completed</td>\n",
       "      <td>124.0</td>\n",
       "      <td>193.0</td>\n",
       "      <td>49.0</td>\n",
       "    </tr>\n",
       "    <tr>\n",
       "      <th>1395</th>\n",
       "      <td>Alexander Dillon</td>\n",
       "      <td>male</td>\n",
       "      <td>group D</td>\n",
       "      <td>associate's degree</td>\n",
       "      <td>standard</td>\n",
       "      <td>none</td>\n",
       "      <td>193.0</td>\n",
       "      <td>142.0</td>\n",
       "      <td>193.0</td>\n",
       "    </tr>\n",
       "    <tr>\n",
       "      <th>1398</th>\n",
       "      <td>Joseph Mccoy</td>\n",
       "      <td>male</td>\n",
       "      <td>group D</td>\n",
       "      <td>some college</td>\n",
       "      <td>free/reduced</td>\n",
       "      <td>none</td>\n",
       "      <td>193.0</td>\n",
       "      <td>196.0</td>\n",
       "      <td>193.0</td>\n",
       "    </tr>\n",
       "  </tbody>\n",
       "</table>\n",
       "<p>247 rows × 9 columns</p>\n",
       "</div>"
      ],
      "text/plain": [
       "                   names  gender race/ethnicity parental level of education  \\\n",
       "12         Rita Courtney  female        group B            some high school   \n",
       "81    Elizabeth Quintero  female        group B                some college   \n",
       "160    Michelle Gonzales  female        group B            some high school   \n",
       "170        Carla Mendoza  female        group D          associate's degree   \n",
       "176       Darlene Parker  female        group C          associate's degree   \n",
       "...                  ...     ...            ...                         ...   \n",
       "1385      James Crawford    male        group D             master's degree   \n",
       "1390     Gloria Bradford  female        group B                 high school   \n",
       "1393         Adam Romero    male        group C                 high school   \n",
       "1395    Alexander Dillon    male        group D          associate's degree   \n",
       "1398        Joseph Mccoy    male        group D                some college   \n",
       "\n",
       "             lunch test preparation course  math score  reading score  \\\n",
       "12        standard                    none       193.0          193.0   \n",
       "81        standard                    none        82.0           85.0   \n",
       "160       standard               completed        60.0           70.0   \n",
       "170   free/reduced                    none        43.0           60.0   \n",
       "176       standard                    none        54.0           61.0   \n",
       "...            ...                     ...         ...            ...   \n",
       "1385      standard                    none       193.0          147.0   \n",
       "1390      standard                    none       124.0           64.0   \n",
       "1393      standard               completed       124.0          193.0   \n",
       "1395      standard                    none       193.0          142.0   \n",
       "1398  free/reduced                    none       193.0          196.0   \n",
       "\n",
       "      writing score  \n",
       "12            193.0  \n",
       "81             87.0  \n",
       "160            74.0  \n",
       "170            58.0  \n",
       "176            58.0  \n",
       "...             ...  \n",
       "1385          131.0  \n",
       "1390          193.0  \n",
       "1393           49.0  \n",
       "1395          193.0  \n",
       "1398          193.0  \n",
       "\n",
       "[247 rows x 9 columns]"
      ]
     },
     "metadata": {},
     "output_type": "display_data"
    },
    {
     "name": "stdout",
     "output_type": "stream",
     "text": [
      "9.- Boxplot de notas:\n"
     ]
    },
    {
     "data": {
      "image/png": "[encoded data removed]",
      "text/plain": [
       "<Figure size 432x288 with 1 Axes>"
      ]
     },
     "metadata": {
      "needs_background": "light"
     },
     "output_type": "display_data"
    }
   ],
   "source": [
    "exploratory_data_analysis(df_grades)"
   ]
  },
  {
   "cell_type": "markdown",
   "metadata": {
    "cell_id": "00021-f548a297-97a4-4d9b-9501-ae5571aa3068",
    "deepnote_cell_height": 52.390625,
    "deepnote_cell_type": "markdown",
    "id": "nxRj-Hi2QUHQ"
   },
   "source": [
    "**Justificación:**"
   ]
  },
  {
   "cell_type": "markdown",
   "metadata": {
    "cell_id": "00022-a0fee108-5903-4074-8b11-104b98a94a67",
    "deepnote_cell_height": 70.796875,
    "deepnote_cell_type": "markdown",
    "id": "CR2ZEOcbQW9X"
   },
   "source": [
    "El dataset presenta 2 tipos de irregularidades: alumnos con más de un registro, y alumnos con una nota mayor a la máxima obtenible. La primera observación se desprende del hecho de que 247 registros contienen nombres repetidos, de modo que algunos alumnos obtuvieron más de una nota por examen, lo que no debiese ser posible. La segunda observación se infiere de la nota máxima que se encuentra en le dataset: para cada uno de los test, la nota más alta es 196, cuando el máximo obtenible es 100.\n",
    "\n",
    "También existen datos faltantes en cada uno de los test. Ante la falta de información sobre el proceso, no es posible afirmar si la falta de datos se debe a un error en la imputación, si es posible faltar a alguna de las evaluaciones, o si se relaciona con las irregularidades que presenta el conjunto de datos.\n",
    "\n",
    "De acuerdo al análisis numérico, el tercer cuartil (75% de los datos) del reading score y el writing score se encuentra en los 100 puntos; y el tercer cuartil del math score corresponde a 97.25 puntos. Esto deja a un 25% del total de los alumnos con una nota mayor a la máxima nota posible, lo que se puede apreciar gráficamente en el boxplot. A pesar de ello, existe un skewness positivo en los 3 puntajes, por lo que una parte importante de los datos se concentra entre el primer cuartil y la mediana en cada uno de los scores.\n",
    "\n",
    "También se puede observar que la media muestral se ha sesgado hacia valores altos, encontrándose más de 16 puntos por sobre la mediana en cada score. Junto al análisis de boxplot, esta información muestra que las calificaciones que se manejan en la base de datos se han corrido hacia valores más altos de lo normal. Como consecuencia de este fenómeno, los alumnos cuyas notas no se encuentren alteradas se ven en la obligación de obtener mejores notas para quedar sobre el 50% del total de alumnos."
   ]
  },
  {
   "cell_type": "markdown",
   "metadata": {
    "cell_id": "00017-b4a9f1a1-c50d-47f6-95af-4ce1416feed7",
    "deepnote_cell_height": 52.390625,
    "deepnote_cell_type": "markdown",
    "id": "45jxMTJHNPC3"
   },
   "source": [
    "**Respuesta Esperada:**"
   ]
  },
  {
   "cell_type": "code",
   "execution_count": 7,
   "metadata": {
    "cell_id": "00020-9bc24dfa-b47a-4545-8336-6470008a1527",
    "colab": {
     "base_uri": "https://localhost:8080/",
     "height": 1000
    },
    "deepnote_cell_height": 3055.796875,
    "deepnote_cell_type": "code",
    "deepnote_to_be_reexecuted": false,
    "executionInfo": {
     "elapsed": 565,
     "status": "ok",
     "timestamp": 1619205954456,
     "user": {
      "displayName": "IGNACIO ALEJANDRO MEZA",
      "photoUrl": "",
      "userId": "17011121633069169364"
     },
     "user_tz": 240
    },
    "execution_millis": 1940,
    "execution_start": 1632493422320,
    "id": "Vu2Y7Q4wuBXg",
    "outputId": "589784c1-3dc8-4c6a-c63d-2d0aa4211878",
    "source_hash": "fc6a5c17"
   },
   "outputs": [
    {
     "name": "stdout",
     "output_type": "stream",
     "text": [
      "1.- El DataFrame tiene 1400 filas y 9 columnas.\n",
      "\n",
      "2.- El DataFrame está compuesto por las siguientes columnas: ['names', 'gender', 'race/ethnicity', 'parental level of education', 'lunch', 'test preparation course', 'math score', 'reading score', 'writing score'].\n",
      "\n",
      "3.- Ejemplos de filas del DataFrame:\n",
      "\n",
      "Primeras 5 filas:\n"
     ]
    },
    {
     "data": {
      "text/html": [
       "<div>\n",
       "<style scoped>\n",
       "    .dataframe tbody tr th:only-of-type {\n",
       "        vertical-align: middle;\n",
       "    }\n",
       "\n",
       "    .dataframe tbody tr th {\n",
       "        vertical-align: top;\n",
       "    }\n",
       "\n",
       "    .dataframe thead th {\n",
       "        text-align: right;\n",
       "    }\n",
       "</style>\n",
       "<table border=\"1\" class=\"dataframe\">\n",
       "  <thead>\n",
       "    <tr style=\"text-align: right;\">\n",
       "      <th></th>\n",
       "      <th>names</th>\n",
       "      <th>gender</th>\n",
       "      <th>race/ethnicity</th>\n",
       "      <th>parental level of education</th>\n",
       "      <th>lunch</th>\n",
       "      <th>test preparation course</th>\n",
       "      <th>math score</th>\n",
       "      <th>reading score</th>\n",
       "      <th>writing score</th>\n",
       "    </tr>\n",
       "  </thead>\n",
       "  <tbody>\n",
       "    <tr>\n",
       "      <th>0</th>\n",
       "      <td>Rita Courtney</td>\n",
       "      <td>female</td>\n",
       "      <td>group B</td>\n",
       "      <td>some high school</td>\n",
       "      <td>standard</td>\n",
       "      <td>none</td>\n",
       "      <td>37.0</td>\n",
       "      <td>46.0</td>\n",
       "      <td>46.0</td>\n",
       "    </tr>\n",
       "    <tr>\n",
       "      <th>1</th>\n",
       "      <td>Madeline Fuller</td>\n",
       "      <td>female</td>\n",
       "      <td>group C</td>\n",
       "      <td>some high school</td>\n",
       "      <td>standard</td>\n",
       "      <td>none</td>\n",
       "      <td>124.0</td>\n",
       "      <td>142.0</td>\n",
       "      <td>142.0</td>\n",
       "    </tr>\n",
       "    <tr>\n",
       "      <th>2</th>\n",
       "      <td>Daniel Rester</td>\n",
       "      <td>male</td>\n",
       "      <td>group E</td>\n",
       "      <td>associate's degree</td>\n",
       "      <td>standard</td>\n",
       "      <td>none</td>\n",
       "      <td>156.0</td>\n",
       "      <td>196.0</td>\n",
       "      <td>193.0</td>\n",
       "    </tr>\n",
       "    <tr>\n",
       "      <th>3</th>\n",
       "      <td>Charles Linstrom</td>\n",
       "      <td>male</td>\n",
       "      <td>group A</td>\n",
       "      <td>bachelor's degree</td>\n",
       "      <td>standard</td>\n",
       "      <td>completed</td>\n",
       "      <td>80.0</td>\n",
       "      <td>78.0</td>\n",
       "      <td>81.0</td>\n",
       "    </tr>\n",
       "    <tr>\n",
       "      <th>4</th>\n",
       "      <td>Geraldine Hale</td>\n",
       "      <td>female</td>\n",
       "      <td>group A</td>\n",
       "      <td>associate's degree</td>\n",
       "      <td>standard</td>\n",
       "      <td>none</td>\n",
       "      <td>131.0</td>\n",
       "      <td>166.0</td>\n",
       "      <td>166.0</td>\n",
       "    </tr>\n",
       "  </tbody>\n",
       "</table>\n",
       "</div>"
      ],
      "text/plain": [
       "              names  gender race/ethnicity parental level of education  \\\n",
       "0     Rita Courtney  female        group B            some high school   \n",
       "1   Madeline Fuller  female        group C            some high school   \n",
       "2     Daniel Rester    male        group E          associate's degree   \n",
       "3  Charles Linstrom    male        group A           bachelor's degree   \n",
       "4    Geraldine Hale  female        group A          associate's degree   \n",
       "\n",
       "      lunch test preparation course  math score  reading score  writing score  \n",
       "0  standard                    none        37.0           46.0           46.0  \n",
       "1  standard                    none       124.0          142.0          142.0  \n",
       "2  standard                    none       156.0          196.0          193.0  \n",
       "3  standard               completed        80.0           78.0           81.0  \n",
       "4  standard                    none       131.0          166.0          166.0  "
      ]
     },
     "metadata": {},
     "output_type": "display_data"
    },
    {
     "name": "stdout",
     "output_type": "stream",
     "text": [
      "\n",
      "Últimas 5 filas:\n"
     ]
    },
    {
     "data": {
      "text/html": [
       "<div>\n",
       "<style scoped>\n",
       "    .dataframe tbody tr th:only-of-type {\n",
       "        vertical-align: middle;\n",
       "    }\n",
       "\n",
       "    .dataframe tbody tr th {\n",
       "        vertical-align: top;\n",
       "    }\n",
       "\n",
       "    .dataframe thead th {\n",
       "        text-align: right;\n",
       "    }\n",
       "</style>\n",
       "<table border=\"1\" class=\"dataframe\">\n",
       "  <thead>\n",
       "    <tr style=\"text-align: right;\">\n",
       "      <th></th>\n",
       "      <th>names</th>\n",
       "      <th>gender</th>\n",
       "      <th>race/ethnicity</th>\n",
       "      <th>parental level of education</th>\n",
       "      <th>lunch</th>\n",
       "      <th>test preparation course</th>\n",
       "      <th>math score</th>\n",
       "      <th>reading score</th>\n",
       "      <th>writing score</th>\n",
       "    </tr>\n",
       "  </thead>\n",
       "  <tbody>\n",
       "    <tr>\n",
       "      <th>1395</th>\n",
       "      <td>Alexander Dillon</td>\n",
       "      <td>male</td>\n",
       "      <td>group D</td>\n",
       "      <td>associate's degree</td>\n",
       "      <td>standard</td>\n",
       "      <td>none</td>\n",
       "      <td>193.0</td>\n",
       "      <td>142.0</td>\n",
       "      <td>193.0</td>\n",
       "    </tr>\n",
       "    <tr>\n",
       "      <th>1396</th>\n",
       "      <td>Marina Zeigler</td>\n",
       "      <td>female</td>\n",
       "      <td>group C</td>\n",
       "      <td>bachelor's degree</td>\n",
       "      <td>free/reduced</td>\n",
       "      <td>completed</td>\n",
       "      <td>66.0</td>\n",
       "      <td>74.0</td>\n",
       "      <td>81.0</td>\n",
       "    </tr>\n",
       "    <tr>\n",
       "      <th>1397</th>\n",
       "      <td>Laurie Carter</td>\n",
       "      <td>female</td>\n",
       "      <td>group B</td>\n",
       "      <td>some high school</td>\n",
       "      <td>standard</td>\n",
       "      <td>completed</td>\n",
       "      <td>54.0</td>\n",
       "      <td>61.0</td>\n",
       "      <td>62.0</td>\n",
       "    </tr>\n",
       "    <tr>\n",
       "      <th>1398</th>\n",
       "      <td>Joseph Mccoy</td>\n",
       "      <td>male</td>\n",
       "      <td>group D</td>\n",
       "      <td>some college</td>\n",
       "      <td>free/reduced</td>\n",
       "      <td>none</td>\n",
       "      <td>193.0</td>\n",
       "      <td>196.0</td>\n",
       "      <td>193.0</td>\n",
       "    </tr>\n",
       "    <tr>\n",
       "      <th>1399</th>\n",
       "      <td>Amanda Perez</td>\n",
       "      <td>female</td>\n",
       "      <td>group A</td>\n",
       "      <td>high school</td>\n",
       "      <td>standard</td>\n",
       "      <td>completed</td>\n",
       "      <td>68.0</td>\n",
       "      <td>80.0</td>\n",
       "      <td>76.0</td>\n",
       "    </tr>\n",
       "  </tbody>\n",
       "</table>\n",
       "</div>"
      ],
      "text/plain": [
       "                 names  gender race/ethnicity parental level of education  \\\n",
       "1395  Alexander Dillon    male        group D          associate's degree   \n",
       "1396    Marina Zeigler  female        group C           bachelor's degree   \n",
       "1397     Laurie Carter  female        group B            some high school   \n",
       "1398      Joseph Mccoy    male        group D                some college   \n",
       "1399      Amanda Perez  female        group A                 high school   \n",
       "\n",
       "             lunch test preparation course  math score  reading score  \\\n",
       "1395      standard                    none       193.0          142.0   \n",
       "1396  free/reduced               completed        66.0           74.0   \n",
       "1397      standard               completed        54.0           61.0   \n",
       "1398  free/reduced                    none       193.0          196.0   \n",
       "1399      standard               completed        68.0           80.0   \n",
       "\n",
       "      writing score  \n",
       "1395          193.0  \n",
       "1396           81.0  \n",
       "1397           62.0  \n",
       "1398          193.0  \n",
       "1399           76.0  "
      ]
     },
     "metadata": {},
     "output_type": "display_data"
    },
    {
     "name": "stdout",
     "output_type": "stream",
     "text": [
      "\n",
      "Muestreo aleatorio de 5 filas:\n"
     ]
    },
    {
     "data": {
      "text/html": [
       "<div>\n",
       "<style scoped>\n",
       "    .dataframe tbody tr th:only-of-type {\n",
       "        vertical-align: middle;\n",
       "    }\n",
       "\n",
       "    .dataframe tbody tr th {\n",
       "        vertical-align: top;\n",
       "    }\n",
       "\n",
       "    .dataframe thead th {\n",
       "        text-align: right;\n",
       "    }\n",
       "</style>\n",
       "<table border=\"1\" class=\"dataframe\">\n",
       "  <thead>\n",
       "    <tr style=\"text-align: right;\">\n",
       "      <th></th>\n",
       "      <th>names</th>\n",
       "      <th>gender</th>\n",
       "      <th>race/ethnicity</th>\n",
       "      <th>parental level of education</th>\n",
       "      <th>lunch</th>\n",
       "      <th>test preparation course</th>\n",
       "      <th>math score</th>\n",
       "      <th>reading score</th>\n",
       "      <th>writing score</th>\n",
       "    </tr>\n",
       "  </thead>\n",
       "  <tbody>\n",
       "    <tr>\n",
       "      <th>1245</th>\n",
       "      <td>Sheron Luzar</td>\n",
       "      <td>female</td>\n",
       "      <td>group B</td>\n",
       "      <td>some high school</td>\n",
       "      <td>free/reduced</td>\n",
       "      <td>completed</td>\n",
       "      <td>196.0</td>\n",
       "      <td>NaN</td>\n",
       "      <td>64.0</td>\n",
       "    </tr>\n",
       "    <tr>\n",
       "      <th>885</th>\n",
       "      <td>Joanna Gardner</td>\n",
       "      <td>female</td>\n",
       "      <td>group C</td>\n",
       "      <td>bachelor's degree</td>\n",
       "      <td>standard</td>\n",
       "      <td>none</td>\n",
       "      <td>124.0</td>\n",
       "      <td>188.0</td>\n",
       "      <td>142.0</td>\n",
       "    </tr>\n",
       "    <tr>\n",
       "      <th>576</th>\n",
       "      <td>Albert Vaughn</td>\n",
       "      <td>male</td>\n",
       "      <td>group E</td>\n",
       "      <td>some college</td>\n",
       "      <td>free/reduced</td>\n",
       "      <td>completed</td>\n",
       "      <td>87.0</td>\n",
       "      <td>74.0</td>\n",
       "      <td>70.0</td>\n",
       "    </tr>\n",
       "    <tr>\n",
       "      <th>1069</th>\n",
       "      <td>Anthony Latouche</td>\n",
       "      <td>male</td>\n",
       "      <td>group B</td>\n",
       "      <td>bachelor's degree</td>\n",
       "      <td>free/reduced</td>\n",
       "      <td>none</td>\n",
       "      <td>48.0</td>\n",
       "      <td>51.0</td>\n",
       "      <td>46.0</td>\n",
       "    </tr>\n",
       "    <tr>\n",
       "      <th>227</th>\n",
       "      <td>David Davis</td>\n",
       "      <td>male</td>\n",
       "      <td>group C</td>\n",
       "      <td>bachelor's degree</td>\n",
       "      <td>free/reduced</td>\n",
       "      <td>none</td>\n",
       "      <td>53.0</td>\n",
       "      <td>58.0</td>\n",
       "      <td>55.0</td>\n",
       "    </tr>\n",
       "  </tbody>\n",
       "</table>\n",
       "</div>"
      ],
      "text/plain": [
       "                 names  gender race/ethnicity parental level of education  \\\n",
       "1245      Sheron Luzar  female        group B            some high school   \n",
       "885     Joanna Gardner  female        group C           bachelor's degree   \n",
       "576      Albert Vaughn    male        group E                some college   \n",
       "1069  Anthony Latouche    male        group B           bachelor's degree   \n",
       "227        David Davis    male        group C           bachelor's degree   \n",
       "\n",
       "             lunch test preparation course  math score  reading score  \\\n",
       "1245  free/reduced               completed       196.0            NaN   \n",
       "885       standard                    none       124.0          188.0   \n",
       "576   free/reduced               completed        87.0           74.0   \n",
       "1069  free/reduced                    none        48.0           51.0   \n",
       "227   free/reduced                    none        53.0           58.0   \n",
       "\n",
       "      writing score  \n",
       "1245           64.0  \n",
       "885           142.0  \n",
       "576            70.0  \n",
       "1069           46.0  \n",
       "227            55.0  "
      ]
     },
     "metadata": {},
     "output_type": "display_data"
    },
    {
     "name": "stdout",
     "output_type": "stream",
     "text": [
      "\n",
      "4.- Descripción numérica del Dataframe:\n"
     ]
    },
    {
     "data": {
      "text/html": [
       "<div>\n",
       "<style scoped>\n",
       "    .dataframe tbody tr th:only-of-type {\n",
       "        vertical-align: middle;\n",
       "    }\n",
       "\n",
       "    .dataframe tbody tr th {\n",
       "        vertical-align: top;\n",
       "    }\n",
       "\n",
       "    .dataframe thead th {\n",
       "        text-align: right;\n",
       "    }\n",
       "</style>\n",
       "<table border=\"1\" class=\"dataframe\">\n",
       "  <thead>\n",
       "    <tr style=\"text-align: right;\">\n",
       "      <th></th>\n",
       "      <th>math score</th>\n",
       "      <th>reading score</th>\n",
       "      <th>writing score</th>\n",
       "    </tr>\n",
       "  </thead>\n",
       "  <tbody>\n",
       "    <tr>\n",
       "      <th>count</th>\n",
       "      <td>1360.000000</td>\n",
       "      <td>1360.000000</td>\n",
       "      <td>1353.000000</td>\n",
       "    </tr>\n",
       "    <tr>\n",
       "      <th>mean</th>\n",
       "      <td>89.538971</td>\n",
       "      <td>93.086029</td>\n",
       "      <td>91.852919</td>\n",
       "    </tr>\n",
       "    <tr>\n",
       "      <th>std</th>\n",
       "      <td>47.152422</td>\n",
       "      <td>46.385775</td>\n",
       "      <td>47.043570</td>\n",
       "    </tr>\n",
       "    <tr>\n",
       "      <th>min</th>\n",
       "      <td>0.000000</td>\n",
       "      <td>17.000000</td>\n",
       "      <td>10.000000</td>\n",
       "    </tr>\n",
       "    <tr>\n",
       "      <th>25%</th>\n",
       "      <td>59.000000</td>\n",
       "      <td>63.000000</td>\n",
       "      <td>62.000000</td>\n",
       "    </tr>\n",
       "    <tr>\n",
       "      <th>50%</th>\n",
       "      <td>72.000000</td>\n",
       "      <td>76.000000</td>\n",
       "      <td>75.000000</td>\n",
       "    </tr>\n",
       "    <tr>\n",
       "      <th>75%</th>\n",
       "      <td>97.250000</td>\n",
       "      <td>100.000000</td>\n",
       "      <td>100.000000</td>\n",
       "    </tr>\n",
       "    <tr>\n",
       "      <th>max</th>\n",
       "      <td>196.000000</td>\n",
       "      <td>196.000000</td>\n",
       "      <td>196.000000</td>\n",
       "    </tr>\n",
       "  </tbody>\n",
       "</table>\n",
       "</div>"
      ],
      "text/plain": [
       "        math score  reading score  writing score\n",
       "count  1360.000000    1360.000000    1353.000000\n",
       "mean     89.538971      93.086029      91.852919\n",
       "std      47.152422      46.385775      47.043570\n",
       "min       0.000000      17.000000      10.000000\n",
       "25%      59.000000      63.000000      62.000000\n",
       "50%      72.000000      76.000000      75.000000\n",
       "75%      97.250000     100.000000     100.000000\n",
       "max     196.000000     196.000000     196.000000"
      ]
     },
     "metadata": {},
     "output_type": "display_data"
    },
    {
     "name": "stdout",
     "output_type": "stream",
     "text": [
      "\n",
      "5.- Cantidad de valores nulos por columna:\n"
     ]
    },
    {
     "data": {
      "text/plain": [
       "names                           0\n",
       "gender                          0\n",
       "race/ethnicity                  0\n",
       "parental level of education     0\n",
       "lunch                           0\n",
       "test preparation course         0\n",
       "math score                     40\n",
       "reading score                  40\n",
       "writing score                  47\n",
       "dtype: int64"
      ]
     },
     "metadata": {},
     "output_type": "display_data"
    },
    {
     "name": "stdout",
     "output_type": "stream",
     "text": [
      "\n",
      "6.- Cantidad de valores únicos por columna:\n"
     ]
    },
    {
     "data": {
      "text/plain": [
       "names                          1153\n",
       "gender                            2\n",
       "race/ethnicity                    5\n",
       "parental level of education       6\n",
       "lunch                             2\n",
       "test preparation course           2\n",
       "math score                       96\n",
       "reading score                    88\n",
       "writing score                    92\n",
       "dtype: int64"
      ]
     },
     "metadata": {},
     "output_type": "display_data"
    },
    {
     "name": "stdout",
     "output_type": "stream",
     "text": [
      "\n",
      "7.- Presenta un total de 247 filas con nombres duplicados.\n",
      "\n",
      "8.- Las filas con nombres duplicados son:\n"
     ]
    },
    {
     "data": {
      "text/html": [
       "<div>\n",
       "<style scoped>\n",
       "    .dataframe tbody tr th:only-of-type {\n",
       "        vertical-align: middle;\n",
       "    }\n",
       "\n",
       "    .dataframe tbody tr th {\n",
       "        vertical-align: top;\n",
       "    }\n",
       "\n",
       "    .dataframe thead th {\n",
       "        text-align: right;\n",
       "    }\n",
       "</style>\n",
       "<table border=\"1\" class=\"dataframe\">\n",
       "  <thead>\n",
       "    <tr style=\"text-align: right;\">\n",
       "      <th></th>\n",
       "      <th>names</th>\n",
       "      <th>gender</th>\n",
       "      <th>race/ethnicity</th>\n",
       "      <th>parental level of education</th>\n",
       "      <th>lunch</th>\n",
       "      <th>test preparation course</th>\n",
       "      <th>math score</th>\n",
       "      <th>reading score</th>\n",
       "      <th>writing score</th>\n",
       "    </tr>\n",
       "  </thead>\n",
       "  <tbody>\n",
       "    <tr>\n",
       "      <th>12</th>\n",
       "      <td>Rita Courtney</td>\n",
       "      <td>female</td>\n",
       "      <td>group B</td>\n",
       "      <td>some high school</td>\n",
       "      <td>standard</td>\n",
       "      <td>none</td>\n",
       "      <td>193.0</td>\n",
       "      <td>193.0</td>\n",
       "      <td>193.0</td>\n",
       "    </tr>\n",
       "    <tr>\n",
       "      <th>81</th>\n",
       "      <td>Elizabeth Quintero</td>\n",
       "      <td>female</td>\n",
       "      <td>group B</td>\n",
       "      <td>some college</td>\n",
       "      <td>standard</td>\n",
       "      <td>none</td>\n",
       "      <td>82.0</td>\n",
       "      <td>85.0</td>\n",
       "      <td>87.0</td>\n",
       "    </tr>\n",
       "    <tr>\n",
       "      <th>160</th>\n",
       "      <td>Michelle Gonzales</td>\n",
       "      <td>female</td>\n",
       "      <td>group B</td>\n",
       "      <td>some high school</td>\n",
       "      <td>standard</td>\n",
       "      <td>completed</td>\n",
       "      <td>60.0</td>\n",
       "      <td>70.0</td>\n",
       "      <td>74.0</td>\n",
       "    </tr>\n",
       "    <tr>\n",
       "      <th>170</th>\n",
       "      <td>Carla Mendoza</td>\n",
       "      <td>female</td>\n",
       "      <td>group D</td>\n",
       "      <td>associate's degree</td>\n",
       "      <td>free/reduced</td>\n",
       "      <td>none</td>\n",
       "      <td>43.0</td>\n",
       "      <td>60.0</td>\n",
       "      <td>58.0</td>\n",
       "    </tr>\n",
       "    <tr>\n",
       "      <th>176</th>\n",
       "      <td>Darlene Parker</td>\n",
       "      <td>female</td>\n",
       "      <td>group C</td>\n",
       "      <td>associate's degree</td>\n",
       "      <td>standard</td>\n",
       "      <td>none</td>\n",
       "      <td>54.0</td>\n",
       "      <td>61.0</td>\n",
       "      <td>58.0</td>\n",
       "    </tr>\n",
       "    <tr>\n",
       "      <th>...</th>\n",
       "      <td>...</td>\n",
       "      <td>...</td>\n",
       "      <td>...</td>\n",
       "      <td>...</td>\n",
       "      <td>...</td>\n",
       "      <td>...</td>\n",
       "      <td>...</td>\n",
       "      <td>...</td>\n",
       "      <td>...</td>\n",
       "    </tr>\n",
       "    <tr>\n",
       "      <th>1385</th>\n",
       "      <td>James Crawford</td>\n",
       "      <td>male</td>\n",
       "      <td>group D</td>\n",
       "      <td>master's degree</td>\n",
       "      <td>standard</td>\n",
       "      <td>none</td>\n",
       "      <td>193.0</td>\n",
       "      <td>147.0</td>\n",
       "      <td>131.0</td>\n",
       "    </tr>\n",
       "    <tr>\n",
       "      <th>1390</th>\n",
       "      <td>Gloria Bradford</td>\n",
       "      <td>female</td>\n",
       "      <td>group B</td>\n",
       "      <td>high school</td>\n",
       "      <td>standard</td>\n",
       "      <td>none</td>\n",
       "      <td>124.0</td>\n",
       "      <td>64.0</td>\n",
       "      <td>193.0</td>\n",
       "    </tr>\n",
       "    <tr>\n",
       "      <th>1393</th>\n",
       "      <td>Adam Romero</td>\n",
       "      <td>male</td>\n",
       "      <td>group C</td>\n",
       "      <td>high school</td>\n",
       "      <td>standard</td>\n",
       "      <td>completed</td>\n",
       "      <td>124.0</td>\n",
       "      <td>193.0</td>\n",
       "      <td>49.0</td>\n",
       "    </tr>\n",
       "    <tr>\n",
       "      <th>1395</th>\n",
       "      <td>Alexander Dillon</td>\n",
       "      <td>male</td>\n",
       "      <td>group D</td>\n",
       "      <td>associate's degree</td>\n",
       "      <td>standard</td>\n",
       "      <td>none</td>\n",
       "      <td>193.0</td>\n",
       "      <td>142.0</td>\n",
       "      <td>193.0</td>\n",
       "    </tr>\n",
       "    <tr>\n",
       "      <th>1398</th>\n",
       "      <td>Joseph Mccoy</td>\n",
       "      <td>male</td>\n",
       "      <td>group D</td>\n",
       "      <td>some college</td>\n",
       "      <td>free/reduced</td>\n",
       "      <td>none</td>\n",
       "      <td>193.0</td>\n",
       "      <td>196.0</td>\n",
       "      <td>193.0</td>\n",
       "    </tr>\n",
       "  </tbody>\n",
       "</table>\n",
       "<p>247 rows × 9 columns</p>\n",
       "</div>"
      ],
      "text/plain": [
       "                   names  gender race/ethnicity parental level of education  \\\n",
       "12         Rita Courtney  female        group B            some high school   \n",
       "81    Elizabeth Quintero  female        group B                some college   \n",
       "160    Michelle Gonzales  female        group B            some high school   \n",
       "170        Carla Mendoza  female        group D          associate's degree   \n",
       "176       Darlene Parker  female        group C          associate's degree   \n",
       "...                  ...     ...            ...                         ...   \n",
       "1385      James Crawford    male        group D             master's degree   \n",
       "1390     Gloria Bradford  female        group B                 high school   \n",
       "1393         Adam Romero    male        group C                 high school   \n",
       "1395    Alexander Dillon    male        group D          associate's degree   \n",
       "1398        Joseph Mccoy    male        group D                some college   \n",
       "\n",
       "             lunch test preparation course  math score  reading score  \\\n",
       "12        standard                    none       193.0          193.0   \n",
       "81        standard                    none        82.0           85.0   \n",
       "160       standard               completed        60.0           70.0   \n",
       "170   free/reduced                    none        43.0           60.0   \n",
       "176       standard                    none        54.0           61.0   \n",
       "...            ...                     ...         ...            ...   \n",
       "1385      standard                    none       193.0          147.0   \n",
       "1390      standard                    none       124.0           64.0   \n",
       "1393      standard               completed       124.0          193.0   \n",
       "1395      standard                    none       193.0          142.0   \n",
       "1398  free/reduced                    none       193.0          196.0   \n",
       "\n",
       "      writing score  \n",
       "12            193.0  \n",
       "81             87.0  \n",
       "160            74.0  \n",
       "170            58.0  \n",
       "176            58.0  \n",
       "...             ...  \n",
       "1385          131.0  \n",
       "1390          193.0  \n",
       "1393           49.0  \n",
       "1395          193.0  \n",
       "1398          193.0  \n",
       "\n",
       "[247 rows x 9 columns]"
      ]
     },
     "metadata": {},
     "output_type": "display_data"
    },
    {
     "name": "stdout",
     "output_type": "stream",
     "text": [
      "9.- Boxplot de notas:\n"
     ]
    },
    {
     "data": {
      "image/png": "[encoded data removed]",
      "text/plain": [
       "<Figure size 432x288 with 1 Axes>"
      ]
     },
     "metadata": {
      "needs_background": "light"
     },
     "output_type": "display_data"
    }
   ],
   "source": [
    "exploratory_data_analysis(df_grades)"
   ]
  },
  {
   "cell_type": "markdown",
   "metadata": {
    "cell_id": "00023-ff3bb417-54d5-425c-9dfc-d6bb2115277e",
    "deepnote_cell_height": 193.1875,
    "deepnote_cell_type": "markdown",
    "id": "YJfqPXFZjQiA"
   },
   "source": [
    "## 1.2 Limpieza de Datos [1 punto]\n",
    "\n",
    "<p align=\"center\">\n",
    "  <img src=\"https://blogdatlas.files.wordpress.com/2020/07/datlas_mx_blog_limpieza_bds_data-scrubbing-service.gif\">\n",
    "</p>\n"
   ]
  },
  {
   "cell_type": "markdown",
   "metadata": {
    "cell_id": "00024-a0d43035-41b5-4b1c-99c6-f93dc8847789",
    "deepnote_cell_height": 268.1875,
    "deepnote_cell_type": "markdown",
    "id": "syO5lHKvv6Wt"
   },
   "source": [
    "En base a lo realizado anteriormente, realice una limpieza de los dataset. Asuma los supuestos señalados en la pregunta anterior para limpiar el `DataFrame` y cree una función que le permita limpiar los datos. Una vez limpiado cada uno de los `DataFrames` compruebe nuevamente los datos con la función creada en la sección 1.1.\n",
    "\n",
    "**To-Do:**\n",
    "\n",
    "- [ ] Crear función que permita limpiar el dataset.\n",
    "- [ ] Comprobar que no existen anomalías en los datos a traves de la función de la sección 1.1.\n",
    "\n",
    "**Hint**\n",
    "\n",
    "Puede ser útil los métodos ```.drop_duplicates()``` y ```.dropna()``` como también utilizar queries con máscaras booleanas.\n"
   ]
  },
  {
   "cell_type": "markdown",
   "metadata": {
    "cell_id": "00025-7728a191-b359-4030-ac04-3b7d9070c53d",
    "deepnote_cell_height": 52.390625,
    "deepnote_cell_type": "markdown",
    "tags": []
   },
   "source": [
    "**Respuesta:**"
   ]
  },
  {
   "cell_type": "code",
   "execution_count": 8,
   "metadata": {},
   "outputs": [],
   "source": [
    "def clean_data(dataframe):\n",
    "    \"\"\"Entrega un nuevo Dataframe limpio, sin irregularidades.\n",
    "\n",
    "    Parameters\n",
    "    ----------\n",
    "    dataframe : pd.DataFrame\n",
    "        Dataframe con los datos a limpiar.\n",
    "\n",
    "    Returns\n",
    "    -------\n",
    "    clean_dataframe : pd.DataFrame\n",
    "        Dataframe sin alumnos con situación irregular.\n",
    "    \"\"\"\n",
    "    clean_dataframe = dataframe.drop_duplicates(subset=[\"names\"])\n",
    "    clean_dataframe = clean_dataframe.dropna()\n",
    "\n",
    "    math_mask = clean_dataframe[\"math score\"] <= 100\n",
    "    reading_mask = clean_dataframe[\"reading score\"] <= 100\n",
    "    writing_mask = clean_dataframe[\"writing score\"] <= 100\n",
    "\n",
    "    clean_dataframe = clean_dataframe.loc[math_mask & reading_mask & writing_mask]\n",
    "    return clean_dataframe.reset_index(drop=True)"
   ]
  },
  {
   "cell_type": "code",
   "execution_count": 9,
   "metadata": {
    "cell_id": "00027-afa227d9-32aa-49eb-9ae8-7c2fb625253a",
    "colab": {
     "base_uri": "https://localhost:8080/",
     "height": 419
    },
    "deepnote_cell_height": 490.6875,
    "deepnote_cell_type": "code",
    "deepnote_to_be_reexecuted": false,
    "executionInfo": {
     "elapsed": 571,
     "status": "ok",
     "timestamp": 1619205960363,
     "user": {
      "displayName": "IGNACIO ALEJANDRO MEZA",
      "photoUrl": "",
      "userId": "17011121633069169364"
     },
     "user_tz": 240
    },
    "execution_millis": 73,
    "execution_start": 1632493424310,
    "id": "Vl6MkQYHhXao",
    "outputId": "f070312b-113e-4e31-f676-3ed33e06ef91",
    "source_hash": "2f2b6eb"
   },
   "outputs": [
    {
     "data": {
      "text/html": [
       "<div>\n",
       "<style scoped>\n",
       "    .dataframe tbody tr th:only-of-type {\n",
       "        vertical-align: middle;\n",
       "    }\n",
       "\n",
       "    .dataframe tbody tr th {\n",
       "        vertical-align: top;\n",
       "    }\n",
       "\n",
       "    .dataframe thead th {\n",
       "        text-align: right;\n",
       "    }\n",
       "</style>\n",
       "<table border=\"1\" class=\"dataframe\">\n",
       "  <thead>\n",
       "    <tr style=\"text-align: right;\">\n",
       "      <th></th>\n",
       "      <th>names</th>\n",
       "      <th>gender</th>\n",
       "      <th>race/ethnicity</th>\n",
       "      <th>parental level of education</th>\n",
       "      <th>lunch</th>\n",
       "      <th>test preparation course</th>\n",
       "      <th>math score</th>\n",
       "      <th>reading score</th>\n",
       "      <th>writing score</th>\n",
       "    </tr>\n",
       "  </thead>\n",
       "  <tbody>\n",
       "    <tr>\n",
       "      <th>0</th>\n",
       "      <td>Rita Courtney</td>\n",
       "      <td>female</td>\n",
       "      <td>group B</td>\n",
       "      <td>some high school</td>\n",
       "      <td>standard</td>\n",
       "      <td>none</td>\n",
       "      <td>37.0</td>\n",
       "      <td>46.0</td>\n",
       "      <td>46.0</td>\n",
       "    </tr>\n",
       "    <tr>\n",
       "      <th>1</th>\n",
       "      <td>Charles Linstrom</td>\n",
       "      <td>male</td>\n",
       "      <td>group A</td>\n",
       "      <td>bachelor's degree</td>\n",
       "      <td>standard</td>\n",
       "      <td>completed</td>\n",
       "      <td>80.0</td>\n",
       "      <td>78.0</td>\n",
       "      <td>81.0</td>\n",
       "    </tr>\n",
       "    <tr>\n",
       "      <th>2</th>\n",
       "      <td>Brian Young</td>\n",
       "      <td>male</td>\n",
       "      <td>group C</td>\n",
       "      <td>some high school</td>\n",
       "      <td>standard</td>\n",
       "      <td>none</td>\n",
       "      <td>73.0</td>\n",
       "      <td>66.0</td>\n",
       "      <td>63.0</td>\n",
       "    </tr>\n",
       "    <tr>\n",
       "      <th>3</th>\n",
       "      <td>Howard Jimenez</td>\n",
       "      <td>male</td>\n",
       "      <td>group E</td>\n",
       "      <td>some high school</td>\n",
       "      <td>standard</td>\n",
       "      <td>completed</td>\n",
       "      <td>81.0</td>\n",
       "      <td>75.0</td>\n",
       "      <td>76.0</td>\n",
       "    </tr>\n",
       "    <tr>\n",
       "      <th>4</th>\n",
       "      <td>Wayne Wilson</td>\n",
       "      <td>male</td>\n",
       "      <td>group B</td>\n",
       "      <td>some high school</td>\n",
       "      <td>standard</td>\n",
       "      <td>completed</td>\n",
       "      <td>94.0</td>\n",
       "      <td>86.0</td>\n",
       "      <td>87.0</td>\n",
       "    </tr>\n",
       "    <tr>\n",
       "      <th>...</th>\n",
       "      <td>...</td>\n",
       "      <td>...</td>\n",
       "      <td>...</td>\n",
       "      <td>...</td>\n",
       "      <td>...</td>\n",
       "      <td>...</td>\n",
       "      <td>...</td>\n",
       "      <td>...</td>\n",
       "      <td>...</td>\n",
       "    </tr>\n",
       "    <tr>\n",
       "      <th>870</th>\n",
       "      <td>Richard Young</td>\n",
       "      <td>male</td>\n",
       "      <td>group D</td>\n",
       "      <td>high school</td>\n",
       "      <td>standard</td>\n",
       "      <td>none</td>\n",
       "      <td>69.0</td>\n",
       "      <td>75.0</td>\n",
       "      <td>71.0</td>\n",
       "    </tr>\n",
       "    <tr>\n",
       "      <th>871</th>\n",
       "      <td>Wanda Russell</td>\n",
       "      <td>female</td>\n",
       "      <td>group B</td>\n",
       "      <td>high school</td>\n",
       "      <td>free/reduced</td>\n",
       "      <td>completed</td>\n",
       "      <td>23.0</td>\n",
       "      <td>44.0</td>\n",
       "      <td>36.0</td>\n",
       "    </tr>\n",
       "    <tr>\n",
       "      <th>872</th>\n",
       "      <td>Marina Zeigler</td>\n",
       "      <td>female</td>\n",
       "      <td>group C</td>\n",
       "      <td>bachelor's degree</td>\n",
       "      <td>free/reduced</td>\n",
       "      <td>completed</td>\n",
       "      <td>66.0</td>\n",
       "      <td>74.0</td>\n",
       "      <td>81.0</td>\n",
       "    </tr>\n",
       "    <tr>\n",
       "      <th>873</th>\n",
       "      <td>Laurie Carter</td>\n",
       "      <td>female</td>\n",
       "      <td>group B</td>\n",
       "      <td>some high school</td>\n",
       "      <td>standard</td>\n",
       "      <td>completed</td>\n",
       "      <td>54.0</td>\n",
       "      <td>61.0</td>\n",
       "      <td>62.0</td>\n",
       "    </tr>\n",
       "    <tr>\n",
       "      <th>874</th>\n",
       "      <td>Amanda Perez</td>\n",
       "      <td>female</td>\n",
       "      <td>group A</td>\n",
       "      <td>high school</td>\n",
       "      <td>standard</td>\n",
       "      <td>completed</td>\n",
       "      <td>68.0</td>\n",
       "      <td>80.0</td>\n",
       "      <td>76.0</td>\n",
       "    </tr>\n",
       "  </tbody>\n",
       "</table>\n",
       "<p>875 rows × 9 columns</p>\n",
       "</div>"
      ],
      "text/plain": [
       "                names  gender race/ethnicity parental level of education  \\\n",
       "0       Rita Courtney  female        group B            some high school   \n",
       "1    Charles Linstrom    male        group A           bachelor's degree   \n",
       "2         Brian Young    male        group C            some high school   \n",
       "3      Howard Jimenez    male        group E            some high school   \n",
       "4        Wayne Wilson    male        group B            some high school   \n",
       "..                ...     ...            ...                         ...   \n",
       "870     Richard Young    male        group D                 high school   \n",
       "871     Wanda Russell  female        group B                 high school   \n",
       "872    Marina Zeigler  female        group C           bachelor's degree   \n",
       "873     Laurie Carter  female        group B            some high school   \n",
       "874      Amanda Perez  female        group A                 high school   \n",
       "\n",
       "            lunch test preparation course  math score  reading score  \\\n",
       "0        standard                    none        37.0           46.0   \n",
       "1        standard               completed        80.0           78.0   \n",
       "2        standard                    none        73.0           66.0   \n",
       "3        standard               completed        81.0           75.0   \n",
       "4        standard               completed        94.0           86.0   \n",
       "..            ...                     ...         ...            ...   \n",
       "870      standard                    none        69.0           75.0   \n",
       "871  free/reduced               completed        23.0           44.0   \n",
       "872  free/reduced               completed        66.0           74.0   \n",
       "873      standard               completed        54.0           61.0   \n",
       "874      standard               completed        68.0           80.0   \n",
       "\n",
       "     writing score  \n",
       "0             46.0  \n",
       "1             81.0  \n",
       "2             63.0  \n",
       "3             76.0  \n",
       "4             87.0  \n",
       "..             ...  \n",
       "870           71.0  \n",
       "871           36.0  \n",
       "872           81.0  \n",
       "873           62.0  \n",
       "874           76.0  \n",
       "\n",
       "[875 rows x 9 columns]"
      ]
     },
     "execution_count": 9,
     "metadata": {},
     "output_type": "execute_result"
    }
   ],
   "source": [
    "df_grades = clean_data(df_grades)\n",
    "df_grades"
   ]
  },
  {
   "cell_type": "markdown",
   "metadata": {
    "cell_id": "00028-7d461c3c-584a-437b-a3b0-8eb3a9a60b08",
    "deepnote_cell_height": 66.390625,
    "deepnote_cell_type": "markdown",
    "id": "iAnb7kcRj9gJ"
   },
   "source": [
    "> Utilice la función creada en el punto 1.1 para verificar sus resultados."
   ]
  },
  {
   "cell_type": "code",
   "execution_count": 10,
   "metadata": {},
   "outputs": [
    {
     "name": "stdout",
     "output_type": "stream",
     "text": [
      "1.- El DataFrame tiene 875 filas y 9 columnas.\n",
      "\n",
      "2.- El DataFrame está compuesto por las siguientes columnas: ['names', 'gender', 'race/ethnicity', 'parental level of education', 'lunch', 'test preparation course', 'math score', 'reading score', 'writing score'].\n",
      "\n",
      "3.- Ejemplos de filas del DataFrame:\n",
      "\n",
      "Primeras 5 filas:\n"
     ]
    },
    {
     "data": {
      "text/html": [
       "<div>\n",
       "<style scoped>\n",
       "    .dataframe tbody tr th:only-of-type {\n",
       "        vertical-align: middle;\n",
       "    }\n",
       "\n",
       "    .dataframe tbody tr th {\n",
       "        vertical-align: top;\n",
       "    }\n",
       "\n",
       "    .dataframe thead th {\n",
       "        text-align: right;\n",
       "    }\n",
       "</style>\n",
       "<table border=\"1\" class=\"dataframe\">\n",
       "  <thead>\n",
       "    <tr style=\"text-align: right;\">\n",
       "      <th></th>\n",
       "      <th>names</th>\n",
       "      <th>gender</th>\n",
       "      <th>race/ethnicity</th>\n",
       "      <th>parental level of education</th>\n",
       "      <th>lunch</th>\n",
       "      <th>test preparation course</th>\n",
       "      <th>math score</th>\n",
       "      <th>reading score</th>\n",
       "      <th>writing score</th>\n",
       "    </tr>\n",
       "  </thead>\n",
       "  <tbody>\n",
       "    <tr>\n",
       "      <th>0</th>\n",
       "      <td>Rita Courtney</td>\n",
       "      <td>female</td>\n",
       "      <td>group B</td>\n",
       "      <td>some high school</td>\n",
       "      <td>standard</td>\n",
       "      <td>none</td>\n",
       "      <td>37.0</td>\n",
       "      <td>46.0</td>\n",
       "      <td>46.0</td>\n",
       "    </tr>\n",
       "    <tr>\n",
       "      <th>1</th>\n",
       "      <td>Charles Linstrom</td>\n",
       "      <td>male</td>\n",
       "      <td>group A</td>\n",
       "      <td>bachelor's degree</td>\n",
       "      <td>standard</td>\n",
       "      <td>completed</td>\n",
       "      <td>80.0</td>\n",
       "      <td>78.0</td>\n",
       "      <td>81.0</td>\n",
       "    </tr>\n",
       "    <tr>\n",
       "      <th>2</th>\n",
       "      <td>Brian Young</td>\n",
       "      <td>male</td>\n",
       "      <td>group C</td>\n",
       "      <td>some high school</td>\n",
       "      <td>standard</td>\n",
       "      <td>none</td>\n",
       "      <td>73.0</td>\n",
       "      <td>66.0</td>\n",
       "      <td>63.0</td>\n",
       "    </tr>\n",
       "    <tr>\n",
       "      <th>3</th>\n",
       "      <td>Howard Jimenez</td>\n",
       "      <td>male</td>\n",
       "      <td>group E</td>\n",
       "      <td>some high school</td>\n",
       "      <td>standard</td>\n",
       "      <td>completed</td>\n",
       "      <td>81.0</td>\n",
       "      <td>75.0</td>\n",
       "      <td>76.0</td>\n",
       "    </tr>\n",
       "    <tr>\n",
       "      <th>4</th>\n",
       "      <td>Wayne Wilson</td>\n",
       "      <td>male</td>\n",
       "      <td>group B</td>\n",
       "      <td>some high school</td>\n",
       "      <td>standard</td>\n",
       "      <td>completed</td>\n",
       "      <td>94.0</td>\n",
       "      <td>86.0</td>\n",
       "      <td>87.0</td>\n",
       "    </tr>\n",
       "  </tbody>\n",
       "</table>\n",
       "</div>"
      ],
      "text/plain": [
       "              names  gender race/ethnicity parental level of education  \\\n",
       "0     Rita Courtney  female        group B            some high school   \n",
       "1  Charles Linstrom    male        group A           bachelor's degree   \n",
       "2       Brian Young    male        group C            some high school   \n",
       "3    Howard Jimenez    male        group E            some high school   \n",
       "4      Wayne Wilson    male        group B            some high school   \n",
       "\n",
       "      lunch test preparation course  math score  reading score  writing score  \n",
       "0  standard                    none        37.0           46.0           46.0  \n",
       "1  standard               completed        80.0           78.0           81.0  \n",
       "2  standard                    none        73.0           66.0           63.0  \n",
       "3  standard               completed        81.0           75.0           76.0  \n",
       "4  standard               completed        94.0           86.0           87.0  "
      ]
     },
     "metadata": {},
     "output_type": "display_data"
    },
    {
     "name": "stdout",
     "output_type": "stream",
     "text": [
      "\n",
      "Últimas 5 filas:\n"
     ]
    },
    {
     "data": {
      "text/html": [
       "<div>\n",
       "<style scoped>\n",
       "    .dataframe tbody tr th:only-of-type {\n",
       "        vertical-align: middle;\n",
       "    }\n",
       "\n",
       "    .dataframe tbody tr th {\n",
       "        vertical-align: top;\n",
       "    }\n",
       "\n",
       "    .dataframe thead th {\n",
       "        text-align: right;\n",
       "    }\n",
       "</style>\n",
       "<table border=\"1\" class=\"dataframe\">\n",
       "  <thead>\n",
       "    <tr style=\"text-align: right;\">\n",
       "      <th></th>\n",
       "      <th>names</th>\n",
       "      <th>gender</th>\n",
       "      <th>race/ethnicity</th>\n",
       "      <th>parental level of education</th>\n",
       "      <th>lunch</th>\n",
       "      <th>test preparation course</th>\n",
       "      <th>math score</th>\n",
       "      <th>reading score</th>\n",
       "      <th>writing score</th>\n",
       "    </tr>\n",
       "  </thead>\n",
       "  <tbody>\n",
       "    <tr>\n",
       "      <th>870</th>\n",
       "      <td>Richard Young</td>\n",
       "      <td>male</td>\n",
       "      <td>group D</td>\n",
       "      <td>high school</td>\n",
       "      <td>standard</td>\n",
       "      <td>none</td>\n",
       "      <td>69.0</td>\n",
       "      <td>75.0</td>\n",
       "      <td>71.0</td>\n",
       "    </tr>\n",
       "    <tr>\n",
       "      <th>871</th>\n",
       "      <td>Wanda Russell</td>\n",
       "      <td>female</td>\n",
       "      <td>group B</td>\n",
       "      <td>high school</td>\n",
       "      <td>free/reduced</td>\n",
       "      <td>completed</td>\n",
       "      <td>23.0</td>\n",
       "      <td>44.0</td>\n",
       "      <td>36.0</td>\n",
       "    </tr>\n",
       "    <tr>\n",
       "      <th>872</th>\n",
       "      <td>Marina Zeigler</td>\n",
       "      <td>female</td>\n",
       "      <td>group C</td>\n",
       "      <td>bachelor's degree</td>\n",
       "      <td>free/reduced</td>\n",
       "      <td>completed</td>\n",
       "      <td>66.0</td>\n",
       "      <td>74.0</td>\n",
       "      <td>81.0</td>\n",
       "    </tr>\n",
       "    <tr>\n",
       "      <th>873</th>\n",
       "      <td>Laurie Carter</td>\n",
       "      <td>female</td>\n",
       "      <td>group B</td>\n",
       "      <td>some high school</td>\n",
       "      <td>standard</td>\n",
       "      <td>completed</td>\n",
       "      <td>54.0</td>\n",
       "      <td>61.0</td>\n",
       "      <td>62.0</td>\n",
       "    </tr>\n",
       "    <tr>\n",
       "      <th>874</th>\n",
       "      <td>Amanda Perez</td>\n",
       "      <td>female</td>\n",
       "      <td>group A</td>\n",
       "      <td>high school</td>\n",
       "      <td>standard</td>\n",
       "      <td>completed</td>\n",
       "      <td>68.0</td>\n",
       "      <td>80.0</td>\n",
       "      <td>76.0</td>\n",
       "    </tr>\n",
       "  </tbody>\n",
       "</table>\n",
       "</div>"
      ],
      "text/plain": [
       "              names  gender race/ethnicity parental level of education  \\\n",
       "870   Richard Young    male        group D                 high school   \n",
       "871   Wanda Russell  female        group B                 high school   \n",
       "872  Marina Zeigler  female        group C           bachelor's degree   \n",
       "873   Laurie Carter  female        group B            some high school   \n",
       "874    Amanda Perez  female        group A                 high school   \n",
       "\n",
       "            lunch test preparation course  math score  reading score  \\\n",
       "870      standard                    none        69.0           75.0   \n",
       "871  free/reduced               completed        23.0           44.0   \n",
       "872  free/reduced               completed        66.0           74.0   \n",
       "873      standard               completed        54.0           61.0   \n",
       "874      standard               completed        68.0           80.0   \n",
       "\n",
       "     writing score  \n",
       "870           71.0  \n",
       "871           36.0  \n",
       "872           81.0  \n",
       "873           62.0  \n",
       "874           76.0  "
      ]
     },
     "metadata": {},
     "output_type": "display_data"
    },
    {
     "name": "stdout",
     "output_type": "stream",
     "text": [
      "\n",
      "Muestreo aleatorio de 5 filas:\n"
     ]
    },
    {
     "data": {
      "text/html": [
       "<div>\n",
       "<style scoped>\n",
       "    .dataframe tbody tr th:only-of-type {\n",
       "        vertical-align: middle;\n",
       "    }\n",
       "\n",
       "    .dataframe tbody tr th {\n",
       "        vertical-align: top;\n",
       "    }\n",
       "\n",
       "    .dataframe thead th {\n",
       "        text-align: right;\n",
       "    }\n",
       "</style>\n",
       "<table border=\"1\" class=\"dataframe\">\n",
       "  <thead>\n",
       "    <tr style=\"text-align: right;\">\n",
       "      <th></th>\n",
       "      <th>names</th>\n",
       "      <th>gender</th>\n",
       "      <th>race/ethnicity</th>\n",
       "      <th>parental level of education</th>\n",
       "      <th>lunch</th>\n",
       "      <th>test preparation course</th>\n",
       "      <th>math score</th>\n",
       "      <th>reading score</th>\n",
       "      <th>writing score</th>\n",
       "    </tr>\n",
       "  </thead>\n",
       "  <tbody>\n",
       "    <tr>\n",
       "      <th>766</th>\n",
       "      <td>Emmie Mooreland</td>\n",
       "      <td>female</td>\n",
       "      <td>group C</td>\n",
       "      <td>bachelor's degree</td>\n",
       "      <td>standard</td>\n",
       "      <td>completed</td>\n",
       "      <td>96.0</td>\n",
       "      <td>100.0</td>\n",
       "      <td>100.0</td>\n",
       "    </tr>\n",
       "    <tr>\n",
       "      <th>582</th>\n",
       "      <td>Shannon Bale</td>\n",
       "      <td>male</td>\n",
       "      <td>group E</td>\n",
       "      <td>associate's degree</td>\n",
       "      <td>free/reduced</td>\n",
       "      <td>completed</td>\n",
       "      <td>77.0</td>\n",
       "      <td>69.0</td>\n",
       "      <td>68.0</td>\n",
       "    </tr>\n",
       "    <tr>\n",
       "      <th>485</th>\n",
       "      <td>Stephen Broenneke</td>\n",
       "      <td>male</td>\n",
       "      <td>group B</td>\n",
       "      <td>some college</td>\n",
       "      <td>standard</td>\n",
       "      <td>none</td>\n",
       "      <td>54.0</td>\n",
       "      <td>52.0</td>\n",
       "      <td>51.0</td>\n",
       "    </tr>\n",
       "    <tr>\n",
       "      <th>503</th>\n",
       "      <td>Fallon Simson</td>\n",
       "      <td>female</td>\n",
       "      <td>group D</td>\n",
       "      <td>high school</td>\n",
       "      <td>standard</td>\n",
       "      <td>none</td>\n",
       "      <td>56.0</td>\n",
       "      <td>52.0</td>\n",
       "      <td>55.0</td>\n",
       "    </tr>\n",
       "    <tr>\n",
       "      <th>665</th>\n",
       "      <td>Barbara Barahona</td>\n",
       "      <td>female</td>\n",
       "      <td>group C</td>\n",
       "      <td>associate's degree</td>\n",
       "      <td>free/reduced</td>\n",
       "      <td>none</td>\n",
       "      <td>54.0</td>\n",
       "      <td>58.0</td>\n",
       "      <td>61.0</td>\n",
       "    </tr>\n",
       "  </tbody>\n",
       "</table>\n",
       "</div>"
      ],
      "text/plain": [
       "                 names  gender race/ethnicity parental level of education  \\\n",
       "766    Emmie Mooreland  female        group C           bachelor's degree   \n",
       "582       Shannon Bale    male        group E          associate's degree   \n",
       "485  Stephen Broenneke    male        group B                some college   \n",
       "503      Fallon Simson  female        group D                 high school   \n",
       "665   Barbara Barahona  female        group C          associate's degree   \n",
       "\n",
       "            lunch test preparation course  math score  reading score  \\\n",
       "766      standard               completed        96.0          100.0   \n",
       "582  free/reduced               completed        77.0           69.0   \n",
       "485      standard                    none        54.0           52.0   \n",
       "503      standard                    none        56.0           52.0   \n",
       "665  free/reduced                    none        54.0           58.0   \n",
       "\n",
       "     writing score  \n",
       "766          100.0  \n",
       "582           68.0  \n",
       "485           51.0  \n",
       "503           55.0  \n",
       "665           61.0  "
      ]
     },
     "metadata": {},
     "output_type": "display_data"
    },
    {
     "name": "stdout",
     "output_type": "stream",
     "text": [
      "\n",
      "4.- Descripción numérica del Dataframe:\n"
     ]
    },
    {
     "data": {
      "text/html": [
       "<div>\n",
       "<style scoped>\n",
       "    .dataframe tbody tr th:only-of-type {\n",
       "        vertical-align: middle;\n",
       "    }\n",
       "\n",
       "    .dataframe tbody tr th {\n",
       "        vertical-align: top;\n",
       "    }\n",
       "\n",
       "    .dataframe thead th {\n",
       "        text-align: right;\n",
       "    }\n",
       "</style>\n",
       "<table border=\"1\" class=\"dataframe\">\n",
       "  <thead>\n",
       "    <tr style=\"text-align: right;\">\n",
       "      <th></th>\n",
       "      <th>math score</th>\n",
       "      <th>reading score</th>\n",
       "      <th>writing score</th>\n",
       "    </tr>\n",
       "  </thead>\n",
       "  <tbody>\n",
       "    <tr>\n",
       "      <th>count</th>\n",
       "      <td>875.000000</td>\n",
       "      <td>875.000000</td>\n",
       "      <td>875.000000</td>\n",
       "    </tr>\n",
       "    <tr>\n",
       "      <th>mean</th>\n",
       "      <td>66.225143</td>\n",
       "      <td>69.195429</td>\n",
       "      <td>68.114286</td>\n",
       "    </tr>\n",
       "    <tr>\n",
       "      <th>std</th>\n",
       "      <td>15.076716</td>\n",
       "      <td>14.629270</td>\n",
       "      <td>15.174220</td>\n",
       "    </tr>\n",
       "    <tr>\n",
       "      <th>min</th>\n",
       "      <td>0.000000</td>\n",
       "      <td>17.000000</td>\n",
       "      <td>10.000000</td>\n",
       "    </tr>\n",
       "    <tr>\n",
       "      <th>25%</th>\n",
       "      <td>57.000000</td>\n",
       "      <td>59.000000</td>\n",
       "      <td>57.500000</td>\n",
       "    </tr>\n",
       "    <tr>\n",
       "      <th>50%</th>\n",
       "      <td>66.000000</td>\n",
       "      <td>70.000000</td>\n",
       "      <td>69.000000</td>\n",
       "    </tr>\n",
       "    <tr>\n",
       "      <th>75%</th>\n",
       "      <td>76.500000</td>\n",
       "      <td>79.000000</td>\n",
       "      <td>79.000000</td>\n",
       "    </tr>\n",
       "    <tr>\n",
       "      <th>max</th>\n",
       "      <td>100.000000</td>\n",
       "      <td>100.000000</td>\n",
       "      <td>100.000000</td>\n",
       "    </tr>\n",
       "  </tbody>\n",
       "</table>\n",
       "</div>"
      ],
      "text/plain": [
       "       math score  reading score  writing score\n",
       "count  875.000000     875.000000     875.000000\n",
       "mean    66.225143      69.195429      68.114286\n",
       "std     15.076716      14.629270      15.174220\n",
       "min      0.000000      17.000000      10.000000\n",
       "25%     57.000000      59.000000      57.500000\n",
       "50%     66.000000      70.000000      69.000000\n",
       "75%     76.500000      79.000000      79.000000\n",
       "max    100.000000     100.000000     100.000000"
      ]
     },
     "metadata": {},
     "output_type": "display_data"
    },
    {
     "name": "stdout",
     "output_type": "stream",
     "text": [
      "\n",
      "5.- Cantidad de valores nulos por columna:\n"
     ]
    },
    {
     "data": {
      "text/plain": [
       "names                          0\n",
       "gender                         0\n",
       "race/ethnicity                 0\n",
       "parental level of education    0\n",
       "lunch                          0\n",
       "test preparation course        0\n",
       "math score                     0\n",
       "reading score                  0\n",
       "writing score                  0\n",
       "dtype: int64"
      ]
     },
     "metadata": {},
     "output_type": "display_data"
    },
    {
     "name": "stdout",
     "output_type": "stream",
     "text": [
      "\n",
      "6.- Cantidad de valores únicos por columna:\n"
     ]
    },
    {
     "data": {
      "text/plain": [
       "names                          875\n",
       "gender                           2\n",
       "race/ethnicity                   5\n",
       "parental level of education      6\n",
       "lunch                            2\n",
       "test preparation course          2\n",
       "math score                      79\n",
       "reading score                   72\n",
       "writing score                   77\n",
       "dtype: int64"
      ]
     },
     "metadata": {},
     "output_type": "display_data"
    },
    {
     "name": "stdout",
     "output_type": "stream",
     "text": [
      "\n",
      "7.- Presenta un total de 0 filas con nombres duplicados.\n",
      "\n",
      "8.- Las filas con nombres duplicados son:\n"
     ]
    },
    {
     "data": {
      "text/html": [
       "<div>\n",
       "<style scoped>\n",
       "    .dataframe tbody tr th:only-of-type {\n",
       "        vertical-align: middle;\n",
       "    }\n",
       "\n",
       "    .dataframe tbody tr th {\n",
       "        vertical-align: top;\n",
       "    }\n",
       "\n",
       "    .dataframe thead th {\n",
       "        text-align: right;\n",
       "    }\n",
       "</style>\n",
       "<table border=\"1\" class=\"dataframe\">\n",
       "  <thead>\n",
       "    <tr style=\"text-align: right;\">\n",
       "      <th></th>\n",
       "      <th>names</th>\n",
       "      <th>gender</th>\n",
       "      <th>race/ethnicity</th>\n",
       "      <th>parental level of education</th>\n",
       "      <th>lunch</th>\n",
       "      <th>test preparation course</th>\n",
       "      <th>math score</th>\n",
       "      <th>reading score</th>\n",
       "      <th>writing score</th>\n",
       "    </tr>\n",
       "  </thead>\n",
       "  <tbody>\n",
       "  </tbody>\n",
       "</table>\n",
       "</div>"
      ],
      "text/plain": [
       "Empty DataFrame\n",
       "Columns: [names, gender, race/ethnicity, parental level of education, lunch, test preparation course, math score, reading score, writing score]\n",
       "Index: []"
      ]
     },
     "metadata": {},
     "output_type": "display_data"
    },
    {
     "name": "stdout",
     "output_type": "stream",
     "text": [
      "9.- Boxplot de notas:\n"
     ]
    },
    {
     "data": {
      "image/png": "[encoded data removed]",
      "text/plain": [
       "<Figure size 432x288 with 1 Axes>"
      ]
     },
     "metadata": {
      "needs_background": "light"
     },
     "output_type": "display_data"
    }
   ],
   "source": [
    "exploratory_data_analysis(df_grades)"
   ]
  },
  {
   "cell_type": "markdown",
   "metadata": {
    "cell_id": "00030-826810d6-9106-4a3f-9272-16f541b88ac0",
    "deepnote_cell_type": "markdown",
    "id": "mPmHNen3jZCX"
   },
   "source": [
    "**Justificación:**"
   ]
  },
  {
   "cell_type": "markdown",
   "metadata": {
    "cell_id": "00031-04187309-a1db-4ad3-a90b-75b312d9b39f",
    "deepnote_cell_type": "markdown",
    "id": "uCK_RZEajZHI"
   },
   "source": [
    "Luego de realizar una limpieza de datos, ya no se encuentran las irregularidades antes mencionadas en el conjunto de datos: se puede notar que ya no existen nombres repetidos en el dataset y el total de registros coincide con el número de alumnos matriculados; por otra parte, ya no hay alumnos con una nota superior a 100 en ninguna de sus evaluaciones, por lo que la distribución obtenida en cada boxplot es más cercana a la esperada. Se puede ver además que al eliminar las outliers la media muestral y la mediana adquieren valores similares entre sí."
   ]
  },
  {
   "cell_type": "markdown",
   "metadata": {
    "cell_id": "00032-35743f33-7587-4206-903d-5922c094c121",
    "deepnote_cell_type": "markdown",
    "id": "2tnenh4uOF6k"
   },
   "source": [
    "## 1.3 Trabajando con Datos\n",
    "\n",
    "<p align=\"center\">\n",
    "  <img src=\"https://media3.giphy.com/media/YQitE4YNQNahy/giphy-downsized-large.gif\">\n",
    "</p>"
   ]
  },
  {
   "cell_type": "markdown",
   "metadata": {
    "cell_id": "00033-ae1d6c24-6c73-49d9-961d-4f6a9da3f5a1",
    "deepnote_cell_type": "markdown",
    "id": "Qecw0sKor_Au"
   },
   "source": [
    "### 1.3.1 Transformación de notas a \"Nota Chilena\" [0.5 Puntos]"
   ]
  },
  {
   "cell_type": "markdown",
   "metadata": {
    "cell_id": "00034-0c2d3679-984b-4d24-8ab0-fc8de61bb42e",
    "deepnote_cell_type": "markdown",
    "id": "BfmD-9yi4PnX"
   },
   "source": [
    "En una de las reuniones con Don Caguayo este les comenta su intención de pasar todas sus notas a la \"Escala Chilena\". Para esto les facilita la siguiente ecuación:\n",
    "\n",
    "$$Nota \\, Chilena= \\% \\, de \\, logro*0.06 + 1$$\n",
    "\n",
    "Utilizando la ecuación entregada, cree una función que le permita pasar a la escala Chilena las notas que se escapan del rango [1,7] y entregue las notas redondeadas al segundo decimal.\n",
    "\n",
    "**To-Do**\n",
    "\n",
    "- [ ] Tranforme los valores a la escala chilena."
   ]
  },
  {
   "cell_type": "markdown",
   "metadata": {
    "cell_id": "00035-7dd5d2b3-12e5-4cb8-a9ab-e3f0e4870b94",
    "deepnote_cell_type": "markdown",
    "tags": []
   },
   "source": [
    "**Respuesta:**"
   ]
  },
  {
   "cell_type": "code",
   "execution_count": 11,
   "metadata": {
    "cell_id": "00036-4f869d3b-f09e-4986-8f77-604d440d0b99",
    "deepnote_cell_type": "code",
    "deepnote_to_be_reexecuted": false,
    "executionInfo": {
     "elapsed": 669,
     "status": "ok",
     "timestamp": 1619205969195,
     "user": {
      "displayName": "IGNACIO ALEJANDRO MEZA",
      "photoUrl": "",
      "userId": "17011121633069169364"
     },
     "user_tz": 240
    },
    "execution_millis": 1,
    "execution_start": 1632493424541,
    "id": "GQ0gDEvd3T1m",
    "source_hash": "e84f9f19"
   },
   "outputs": [],
   "source": [
    "def nota_chilena(dataframe_in, columna):\n",
    "  \"\"\"Transforma las columnas con notas a escala chilena.\n",
    "\n",
    "  Parameters\n",
    "  ----------\n",
    "  dataframe_in : pd.DataFrame\n",
    "      Dataframe con las notas a transformar.\n",
    "  columna : pd.Series\n",
    "      Columna del dataframe con notas a transformar\n",
    "  Returns\n",
    "  -------\n",
    "  new_dataframe : pd.DataFrame\n",
    "      Nuevo dataframe con las notas de columna en escala chilena.\n",
    "  \"\"\"\n",
    "  new_dataframe = dataframe_in.copy()\n",
    "  new_dataframe[columna] = (new_dataframe[columna]*0.06 + 1).round(2)\n",
    "  return new_dataframe"
   ]
  },
  {
   "cell_type": "markdown",
   "metadata": {
    "cell_id": "00038-3045a9c7-3dc1-4909-a993-3346ce27103d",
    "deepnote_cell_type": "markdown",
    "id": "QGe-Hb2UTAE1"
   },
   "source": [
    "### 1.3.2 Obtención de promedio de alumnos [0.5]"
   ]
  },
  {
   "cell_type": "markdown",
   "metadata": {
    "cell_id": "00039-5e16ce47-71fb-4750-9d81-c7bdb854141d",
    "deepnote_cell_type": "markdown",
    "id": "AEkWI5K-OZgt"
   },
   "source": [
    "Con todas las notas adjuntadas, la prestigiosa Universidad De la Cachaña necesita obtener el promedio general de cada uno de los alumnos. Para esto se le solicita que calcule el promedio con cada una de las asignaturas y el promedio se anexe como una nueva columna al final del DataFrame original. Cabe señalar que las notas deben ser redondeadas al segundo decimal.\n",
    "\n",
    "**To-Do:**\n",
    "- [ ] Crear función que nos permite obtener el promedio de cada uno de los alumnos y anexar esta información en el DataFrame original.\n"
   ]
  },
  {
   "cell_type": "markdown",
   "metadata": {
    "cell_id": "00040-ed949f3e-dd9b-44a7-aa8c-b75d7651546d",
    "deepnote_cell_type": "markdown",
    "tags": []
   },
   "source": [
    "**Respuesta:**"
   ]
  },
  {
   "cell_type": "code",
   "execution_count": 12,
   "metadata": {},
   "outputs": [],
   "source": [
    "def alumnos_promedio(dataframe_in):\n",
    "  \"\"\"Transforma todas las notas a escala chilena y agrega una columna con el promedio.\n",
    "\n",
    "  Parameters\n",
    "  ----------\n",
    "  dataframe_in : pd.DataFrame\n",
    "    Dataframe con notas\n",
    "\n",
    "  Returns\n",
    "  -------\n",
    "  df_with_mean : pd.DataFrame\n",
    "    Dataframe con todas las notas transformas a escala chilena y una nueva columna\n",
    "    con el promedio de notas.\n",
    "  \"\"\"\n",
    "  df_with_mean = dataframe_in.copy()\n",
    "\n",
    "  # Obtiene las columnas con una calificación\n",
    "  score_columns = df_with_mean.columns[df_with_mean.columns.str.contains(\"score\")]\n",
    "  \n",
    "  # Función que puede ser utilizada por el método apply de los dataframes\n",
    "  func = lambda x: nota_chilena(df_with_mean[score_columns], x.name)[x.name]\n",
    "\n",
    "  # Transforma las notas a escala chilena\n",
    "  df_with_mean[score_columns] = df_with_mean[score_columns].apply(func)\n",
    "\n",
    "  # Agrega el promedio de notas\n",
    "  df_with_mean[\"GPA\"] = df_with_mean[score_columns].mean(axis=1).round(2)\n",
    "  return df_with_mean"
   ]
  },
  {
   "cell_type": "markdown",
   "metadata": {
    "cell_id": "00042-507bb30d-9670-4be3-9854-1617ba8f2095",
    "deepnote_cell_type": "markdown",
    "id": "hrakfq02Si8z"
   },
   "source": [
    "**Respuesta Esperada:**"
   ]
  },
  {
   "cell_type": "code",
   "execution_count": 13,
   "metadata": {},
   "outputs": [
    {
     "data": {
      "text/html": [
       "<div>\n",
       "<style scoped>\n",
       "    .dataframe tbody tr th:only-of-type {\n",
       "        vertical-align: middle;\n",
       "    }\n",
       "\n",
       "    .dataframe tbody tr th {\n",
       "        vertical-align: top;\n",
       "    }\n",
       "\n",
       "    .dataframe thead th {\n",
       "        text-align: right;\n",
       "    }\n",
       "</style>\n",
       "<table border=\"1\" class=\"dataframe\">\n",
       "  <thead>\n",
       "    <tr style=\"text-align: right;\">\n",
       "      <th></th>\n",
       "      <th>names</th>\n",
       "      <th>gender</th>\n",
       "      <th>race/ethnicity</th>\n",
       "      <th>parental level of education</th>\n",
       "      <th>lunch</th>\n",
       "      <th>test preparation course</th>\n",
       "      <th>math score</th>\n",
       "      <th>reading score</th>\n",
       "      <th>writing score</th>\n",
       "      <th>GPA</th>\n",
       "    </tr>\n",
       "  </thead>\n",
       "  <tbody>\n",
       "    <tr>\n",
       "      <th>0</th>\n",
       "      <td>Rita Courtney</td>\n",
       "      <td>female</td>\n",
       "      <td>group B</td>\n",
       "      <td>some high school</td>\n",
       "      <td>standard</td>\n",
       "      <td>none</td>\n",
       "      <td>3.22</td>\n",
       "      <td>3.76</td>\n",
       "      <td>3.76</td>\n",
       "      <td>3.58</td>\n",
       "    </tr>\n",
       "    <tr>\n",
       "      <th>1</th>\n",
       "      <td>Charles Linstrom</td>\n",
       "      <td>male</td>\n",
       "      <td>group A</td>\n",
       "      <td>bachelor's degree</td>\n",
       "      <td>standard</td>\n",
       "      <td>completed</td>\n",
       "      <td>5.80</td>\n",
       "      <td>5.68</td>\n",
       "      <td>5.86</td>\n",
       "      <td>5.78</td>\n",
       "    </tr>\n",
       "    <tr>\n",
       "      <th>2</th>\n",
       "      <td>Brian Young</td>\n",
       "      <td>male</td>\n",
       "      <td>group C</td>\n",
       "      <td>some high school</td>\n",
       "      <td>standard</td>\n",
       "      <td>none</td>\n",
       "      <td>5.38</td>\n",
       "      <td>4.96</td>\n",
       "      <td>4.78</td>\n",
       "      <td>5.04</td>\n",
       "    </tr>\n",
       "    <tr>\n",
       "      <th>3</th>\n",
       "      <td>Howard Jimenez</td>\n",
       "      <td>male</td>\n",
       "      <td>group E</td>\n",
       "      <td>some high school</td>\n",
       "      <td>standard</td>\n",
       "      <td>completed</td>\n",
       "      <td>5.86</td>\n",
       "      <td>5.50</td>\n",
       "      <td>5.56</td>\n",
       "      <td>5.64</td>\n",
       "    </tr>\n",
       "    <tr>\n",
       "      <th>4</th>\n",
       "      <td>Wayne Wilson</td>\n",
       "      <td>male</td>\n",
       "      <td>group B</td>\n",
       "      <td>some high school</td>\n",
       "      <td>standard</td>\n",
       "      <td>completed</td>\n",
       "      <td>6.64</td>\n",
       "      <td>6.16</td>\n",
       "      <td>6.22</td>\n",
       "      <td>6.34</td>\n",
       "    </tr>\n",
       "  </tbody>\n",
       "</table>\n",
       "</div>"
      ],
      "text/plain": [
       "              names  gender race/ethnicity parental level of education  \\\n",
       "0     Rita Courtney  female        group B            some high school   \n",
       "1  Charles Linstrom    male        group A           bachelor's degree   \n",
       "2       Brian Young    male        group C            some high school   \n",
       "3    Howard Jimenez    male        group E            some high school   \n",
       "4      Wayne Wilson    male        group B            some high school   \n",
       "\n",
       "      lunch test preparation course  math score  reading score  writing score  \\\n",
       "0  standard                    none        3.22           3.76           3.76   \n",
       "1  standard               completed        5.80           5.68           5.86   \n",
       "2  standard                    none        5.38           4.96           4.78   \n",
       "3  standard               completed        5.86           5.50           5.56   \n",
       "4  standard               completed        6.64           6.16           6.22   \n",
       "\n",
       "    GPA  \n",
       "0  3.58  \n",
       "1  5.78  \n",
       "2  5.04  \n",
       "3  5.64  \n",
       "4  6.34  "
      ]
     },
     "execution_count": 13,
     "metadata": {},
     "output_type": "execute_result"
    }
   ],
   "source": [
    "df_grades = alumnos_promedio(df_grades)\n",
    "df_grades.head()"
   ]
  },
  {
   "cell_type": "markdown",
   "metadata": {
    "cell_id": "00044-362969a2-b0d5-4d45-a6f1-0293e36c0417",
    "deepnote_cell_type": "markdown",
    "id": "uA0ZXAWyBoLX"
   },
   "source": [
    "### 1.3.3 Reprobados y Destacados [1.5 Punto, 0.5 Cada DataFrame]"
   ]
  },
  {
   "cell_type": "markdown",
   "metadata": {
    "cell_id": "00045-7514bdf0-01ec-4c0a-83d1-12a2a8c8d3c3",
    "deepnote_cell_type": "markdown",
    "id": "k1FKahC3_g5_"
   },
   "source": [
    "Contentos con su desempeño, la Universidad les solicita que obtengan los alumnos quienes han reprobado el año y los que han tenido desempeño de destacado. Para esto se considerará que un alumno ha reprobado el año cuando el promedio de notas es inferior a 4.0 en la Escala Chilena, y se considerará destacado si posee notas superiores a 5.8 en todas las asignaturas (o sea notas superiores a 5.8 en `math score`, `reading score` y `writing score`).\n",
    "\n",
    "Cree una función que permita obtener tres Dataframes: \n",
    "- El primero deberá poseer solamente los alumnos que han reprobado en la prestigiosa universidad.\n",
    "- El segundo debe entregar un DataFrame similar al original, pero marcado con una \"R\" el promedio de notas de los alumnos reprobados.\n",
    "- El tercero será un Data Frame con los alumnos destacados ordenados de mayor a menor.\n",
    "\n",
    "**To-Do:**\n",
    "\n",
    "- [ ] Obtener DataFrame con los alumnos que reprobaron el año.\n",
    "- [ ] Obtener DataFrame similar al original, pero marcados con una \"R\" el atributo GPA de los alumnos reprobados.\n",
    "- [ ] Obtener DataFrame con los alumnos destacados ordenados de mayor a menor."
   ]
  },
  {
   "cell_type": "markdown",
   "metadata": {
    "cell_id": "00046-8337183c-cd19-4dc0-b936-9dadeda8418e",
    "deepnote_cell_type": "markdown",
    "tags": []
   },
   "source": [
    "**Respuesta:**"
   ]
  },
  {
   "cell_type": "code",
   "execution_count": 14,
   "metadata": {
    "cell_id": "00047-d6f8abcb-8fba-4e2a-9dde-de6844e4868b",
    "deepnote_cell_type": "code",
    "deepnote_to_be_reexecuted": false,
    "executionInfo": {
     "elapsed": 641,
     "status": "ok",
     "timestamp": 1619205977306,
     "user": {
      "displayName": "IGNACIO ALEJANDRO MEZA",
      "photoUrl": "",
      "userId": "17011121633069169364"
     },
     "user_tz": 240
    },
    "execution_millis": 2,
    "execution_start": 1632493424637,
    "id": "Yw52wzwMAXHW",
    "source_hash": "e3c68478"
   },
   "outputs": [],
   "source": [
    "def reprobados_destacados(dataframe_in):\n",
    "    \"\"\"Genera 3 dataframes: alumnos reprobados, marcados y alumnos destacados.\n",
    "\n",
    "    Parameters\n",
    "    ----------\n",
    "    dataframe_in : pd.DataFrame\n",
    "        Dataframe con notas en escala chilena y promedio de notas\n",
    "\n",
    "    Returns\n",
    "    -------\n",
    "    df_reprobados : pd.DataFrame\n",
    "        Dataframe con todos los alumnos reprobados. Un alumno se considera\n",
    "        reprobado si su GPA es inferior a 4.\n",
    "    df_marked : pd.DataFrame\n",
    "        Dataframe con el valor \"R\" en lugar de la nota de alumnos reprobados.\n",
    "    df_destacados : pd.DataFrame\n",
    "        Dataframe con todos los alumnos destacados. Un alumno se considera\n",
    "        destacado si todas sus notas son mayores a 5.8\n",
    "    \"\"\"\n",
    "    \n",
    "    idx_reprobados = dataframe_in[\"GPA\"] < 4\n",
    "    df_reprobados = dataframe_in.loc[idx_reprobados].reset_index(drop=True)\n",
    "\n",
    "    df_marked = dataframe_in.copy()\n",
    "    df_marked[\"GPA\"] = df_marked[\"GPA\"].where(~idx_reprobados, \"R\")\n",
    "\n",
    "    score_columns = dataframe_in.columns[dataframe_in.columns.str.contains(\"score\")]\n",
    "    idx_destacados = (dataframe_in[score_columns] > 5.8).all(axis=1)\n",
    "    df_destacados = dataframe_in.loc[idx_destacados]\n",
    "    df_destacados = df_destacados.sort_values(by=[\"GPA\"], ascending=False).reset_index(drop=True)\n",
    "\n",
    "    return df_reprobados, df_marked, df_destacados\n"
   ]
  },
  {
   "cell_type": "code",
   "execution_count": 15,
   "metadata": {
    "cell_id": "00048-58c77591-f1eb-4497-af40-252bcc9ed099",
    "colab": {
     "base_uri": "https://localhost:8080/",
     "height": 419
    },
    "deepnote_cell_type": "code",
    "deepnote_to_be_reexecuted": false,
    "executionInfo": {
     "elapsed": 611,
     "status": "ok",
     "timestamp": 1619205978676,
     "user": {
      "displayName": "IGNACIO ALEJANDRO MEZA",
      "photoUrl": "",
      "userId": "17011121633069169364"
     },
     "user_tz": 240
    },
    "execution_millis": 69,
    "execution_start": 1632493424642,
    "id": "LlxNXK11XBGn",
    "outputId": "a4572fe2-0758-4c0c-c9f3-cb444233134f",
    "source_hash": "73b6de2"
   },
   "outputs": [
    {
     "data": {
      "text/html": [
       "<div>\n",
       "<style scoped>\n",
       "    .dataframe tbody tr th:only-of-type {\n",
       "        vertical-align: middle;\n",
       "    }\n",
       "\n",
       "    .dataframe tbody tr th {\n",
       "        vertical-align: top;\n",
       "    }\n",
       "\n",
       "    .dataframe thead th {\n",
       "        text-align: right;\n",
       "    }\n",
       "</style>\n",
       "<table border=\"1\" class=\"dataframe\">\n",
       "  <thead>\n",
       "    <tr style=\"text-align: right;\">\n",
       "      <th></th>\n",
       "      <th>names</th>\n",
       "      <th>gender</th>\n",
       "      <th>race/ethnicity</th>\n",
       "      <th>parental level of education</th>\n",
       "      <th>lunch</th>\n",
       "      <th>test preparation course</th>\n",
       "      <th>math score</th>\n",
       "      <th>reading score</th>\n",
       "      <th>writing score</th>\n",
       "      <th>GPA</th>\n",
       "    </tr>\n",
       "  </thead>\n",
       "  <tbody>\n",
       "    <tr>\n",
       "      <th>0</th>\n",
       "      <td>Rita Courtney</td>\n",
       "      <td>female</td>\n",
       "      <td>group B</td>\n",
       "      <td>some high school</td>\n",
       "      <td>standard</td>\n",
       "      <td>none</td>\n",
       "      <td>3.22</td>\n",
       "      <td>3.76</td>\n",
       "      <td>3.76</td>\n",
       "      <td>3.58</td>\n",
       "    </tr>\n",
       "    <tr>\n",
       "      <th>1</th>\n",
       "      <td>Mikki Amaya</td>\n",
       "      <td>female</td>\n",
       "      <td>group A</td>\n",
       "      <td>high school</td>\n",
       "      <td>free/reduced</td>\n",
       "      <td>completed</td>\n",
       "      <td>3.04</td>\n",
       "      <td>3.88</td>\n",
       "      <td>3.46</td>\n",
       "      <td>3.46</td>\n",
       "    </tr>\n",
       "    <tr>\n",
       "      <th>2</th>\n",
       "      <td>Samuel Dougal</td>\n",
       "      <td>male</td>\n",
       "      <td>group C</td>\n",
       "      <td>master's degree</td>\n",
       "      <td>free/reduced</td>\n",
       "      <td>completed</td>\n",
       "      <td>3.76</td>\n",
       "      <td>3.52</td>\n",
       "      <td>3.76</td>\n",
       "      <td>3.68</td>\n",
       "    </tr>\n",
       "    <tr>\n",
       "      <th>3</th>\n",
       "      <td>Rodger Talavera</td>\n",
       "      <td>male</td>\n",
       "      <td>group B</td>\n",
       "      <td>high school</td>\n",
       "      <td>free/reduced</td>\n",
       "      <td>none</td>\n",
       "      <td>3.16</td>\n",
       "      <td>2.74</td>\n",
       "      <td>2.62</td>\n",
       "      <td>2.84</td>\n",
       "    </tr>\n",
       "    <tr>\n",
       "      <th>4</th>\n",
       "      <td>Morris Johnson</td>\n",
       "      <td>male</td>\n",
       "      <td>group A</td>\n",
       "      <td>associate's degree</td>\n",
       "      <td>free/reduced</td>\n",
       "      <td>completed</td>\n",
       "      <td>3.40</td>\n",
       "      <td>4.30</td>\n",
       "      <td>4.18</td>\n",
       "      <td>3.96</td>\n",
       "    </tr>\n",
       "    <tr>\n",
       "      <th>...</th>\n",
       "      <td>...</td>\n",
       "      <td>...</td>\n",
       "      <td>...</td>\n",
       "      <td>...</td>\n",
       "      <td>...</td>\n",
       "      <td>...</td>\n",
       "      <td>...</td>\n",
       "      <td>...</td>\n",
       "      <td>...</td>\n",
       "      <td>...</td>\n",
       "    </tr>\n",
       "    <tr>\n",
       "      <th>81</th>\n",
       "      <td>Charles Harian</td>\n",
       "      <td>male</td>\n",
       "      <td>group C</td>\n",
       "      <td>some high school</td>\n",
       "      <td>free/reduced</td>\n",
       "      <td>completed</td>\n",
       "      <td>3.70</td>\n",
       "      <td>4.12</td>\n",
       "      <td>3.94</td>\n",
       "      <td>3.92</td>\n",
       "    </tr>\n",
       "    <tr>\n",
       "      <th>82</th>\n",
       "      <td>Wendy Gunnell</td>\n",
       "      <td>female</td>\n",
       "      <td>group D</td>\n",
       "      <td>some high school</td>\n",
       "      <td>free/reduced</td>\n",
       "      <td>none</td>\n",
       "      <td>2.62</td>\n",
       "      <td>3.04</td>\n",
       "      <td>2.92</td>\n",
       "      <td>2.86</td>\n",
       "    </tr>\n",
       "    <tr>\n",
       "      <th>83</th>\n",
       "      <td>Diana Costa</td>\n",
       "      <td>female</td>\n",
       "      <td>group C</td>\n",
       "      <td>high school</td>\n",
       "      <td>free/reduced</td>\n",
       "      <td>none</td>\n",
       "      <td>3.46</td>\n",
       "      <td>3.76</td>\n",
       "      <td>3.58</td>\n",
       "      <td>3.60</td>\n",
       "    </tr>\n",
       "    <tr>\n",
       "      <th>84</th>\n",
       "      <td>Amy Sieving</td>\n",
       "      <td>female</td>\n",
       "      <td>group C</td>\n",
       "      <td>high school</td>\n",
       "      <td>standard</td>\n",
       "      <td>none</td>\n",
       "      <td>2.74</td>\n",
       "      <td>2.74</td>\n",
       "      <td>2.80</td>\n",
       "      <td>2.76</td>\n",
       "    </tr>\n",
       "    <tr>\n",
       "      <th>85</th>\n",
       "      <td>Wanda Russell</td>\n",
       "      <td>female</td>\n",
       "      <td>group B</td>\n",
       "      <td>high school</td>\n",
       "      <td>free/reduced</td>\n",
       "      <td>completed</td>\n",
       "      <td>2.38</td>\n",
       "      <td>3.64</td>\n",
       "      <td>3.16</td>\n",
       "      <td>3.06</td>\n",
       "    </tr>\n",
       "  </tbody>\n",
       "</table>\n",
       "<p>86 rows × 10 columns</p>\n",
       "</div>"
      ],
      "text/plain": [
       "              names  gender race/ethnicity parental level of education  \\\n",
       "0     Rita Courtney  female        group B            some high school   \n",
       "1       Mikki Amaya  female        group A                 high school   \n",
       "2     Samuel Dougal    male        group C             master's degree   \n",
       "3   Rodger Talavera    male        group B                 high school   \n",
       "4    Morris Johnson    male        group A          associate's degree   \n",
       "..              ...     ...            ...                         ...   \n",
       "81   Charles Harian    male        group C            some high school   \n",
       "82    Wendy Gunnell  female        group D            some high school   \n",
       "83      Diana Costa  female        group C                 high school   \n",
       "84      Amy Sieving  female        group C                 high school   \n",
       "85    Wanda Russell  female        group B                 high school   \n",
       "\n",
       "           lunch test preparation course  math score  reading score  \\\n",
       "0       standard                    none        3.22           3.76   \n",
       "1   free/reduced               completed        3.04           3.88   \n",
       "2   free/reduced               completed        3.76           3.52   \n",
       "3   free/reduced                    none        3.16           2.74   \n",
       "4   free/reduced               completed        3.40           4.30   \n",
       "..           ...                     ...         ...            ...   \n",
       "81  free/reduced               completed        3.70           4.12   \n",
       "82  free/reduced                    none        2.62           3.04   \n",
       "83  free/reduced                    none        3.46           3.76   \n",
       "84      standard                    none        2.74           2.74   \n",
       "85  free/reduced               completed        2.38           3.64   \n",
       "\n",
       "    writing score   GPA  \n",
       "0            3.76  3.58  \n",
       "1            3.46  3.46  \n",
       "2            3.76  3.68  \n",
       "3            2.62  2.84  \n",
       "4            4.18  3.96  \n",
       "..            ...   ...  \n",
       "81           3.94  3.92  \n",
       "82           2.92  2.86  \n",
       "83           3.58  3.60  \n",
       "84           2.80  2.76  \n",
       "85           3.16  3.06  \n",
       "\n",
       "[86 rows x 10 columns]"
      ]
     },
     "execution_count": 15,
     "metadata": {},
     "output_type": "execute_result"
    }
   ],
   "source": [
    "dataframe1, dataframe2, dataframe3 = reprobados_destacados(df_grades)\n",
    "dataframe1"
   ]
  },
  {
   "cell_type": "code",
   "execution_count": 16,
   "metadata": {
    "cell_id": "00049-8240c0ec-b1ea-41d3-8b5e-4970d3ef59dc",
    "colab": {
     "base_uri": "https://localhost:8080/",
     "height": 419
    },
    "deepnote_cell_type": "code",
    "deepnote_to_be_reexecuted": false,
    "executionInfo": {
     "elapsed": 492,
     "status": "ok",
     "timestamp": 1619192503533,
     "user": {
      "displayName": "IGNACIO ALEJANDRO MEZA",
      "photoUrl": "",
      "userId": "17011121633069169364"
     },
     "user_tz": 240
    },
    "execution_millis": 67,
    "execution_start": 1632493424700,
    "id": "tpG_2VzNEpf7",
    "outputId": "08aaa113-1055-4075-a0f5-5b8f1a1b9b1f",
    "source_hash": "6205a86b"
   },
   "outputs": [
    {
     "data": {
      "text/html": [
       "<div>\n",
       "<style scoped>\n",
       "    .dataframe tbody tr th:only-of-type {\n",
       "        vertical-align: middle;\n",
       "    }\n",
       "\n",
       "    .dataframe tbody tr th {\n",
       "        vertical-align: top;\n",
       "    }\n",
       "\n",
       "    .dataframe thead th {\n",
       "        text-align: right;\n",
       "    }\n",
       "</style>\n",
       "<table border=\"1\" class=\"dataframe\">\n",
       "  <thead>\n",
       "    <tr style=\"text-align: right;\">\n",
       "      <th></th>\n",
       "      <th>names</th>\n",
       "      <th>gender</th>\n",
       "      <th>race/ethnicity</th>\n",
       "      <th>parental level of education</th>\n",
       "      <th>lunch</th>\n",
       "      <th>test preparation course</th>\n",
       "      <th>math score</th>\n",
       "      <th>reading score</th>\n",
       "      <th>writing score</th>\n",
       "      <th>GPA</th>\n",
       "    </tr>\n",
       "  </thead>\n",
       "  <tbody>\n",
       "    <tr>\n",
       "      <th>0</th>\n",
       "      <td>Rita Courtney</td>\n",
       "      <td>female</td>\n",
       "      <td>group B</td>\n",
       "      <td>some high school</td>\n",
       "      <td>standard</td>\n",
       "      <td>none</td>\n",
       "      <td>3.22</td>\n",
       "      <td>3.76</td>\n",
       "      <td>3.76</td>\n",
       "      <td>R</td>\n",
       "    </tr>\n",
       "    <tr>\n",
       "      <th>1</th>\n",
       "      <td>Charles Linstrom</td>\n",
       "      <td>male</td>\n",
       "      <td>group A</td>\n",
       "      <td>bachelor's degree</td>\n",
       "      <td>standard</td>\n",
       "      <td>completed</td>\n",
       "      <td>5.80</td>\n",
       "      <td>5.68</td>\n",
       "      <td>5.86</td>\n",
       "      <td>5.78</td>\n",
       "    </tr>\n",
       "    <tr>\n",
       "      <th>2</th>\n",
       "      <td>Brian Young</td>\n",
       "      <td>male</td>\n",
       "      <td>group C</td>\n",
       "      <td>some high school</td>\n",
       "      <td>standard</td>\n",
       "      <td>none</td>\n",
       "      <td>5.38</td>\n",
       "      <td>4.96</td>\n",
       "      <td>4.78</td>\n",
       "      <td>5.04</td>\n",
       "    </tr>\n",
       "    <tr>\n",
       "      <th>3</th>\n",
       "      <td>Howard Jimenez</td>\n",
       "      <td>male</td>\n",
       "      <td>group E</td>\n",
       "      <td>some high school</td>\n",
       "      <td>standard</td>\n",
       "      <td>completed</td>\n",
       "      <td>5.86</td>\n",
       "      <td>5.50</td>\n",
       "      <td>5.56</td>\n",
       "      <td>5.64</td>\n",
       "    </tr>\n",
       "    <tr>\n",
       "      <th>4</th>\n",
       "      <td>Wayne Wilson</td>\n",
       "      <td>male</td>\n",
       "      <td>group B</td>\n",
       "      <td>some high school</td>\n",
       "      <td>standard</td>\n",
       "      <td>completed</td>\n",
       "      <td>6.64</td>\n",
       "      <td>6.16</td>\n",
       "      <td>6.22</td>\n",
       "      <td>6.34</td>\n",
       "    </tr>\n",
       "    <tr>\n",
       "      <th>...</th>\n",
       "      <td>...</td>\n",
       "      <td>...</td>\n",
       "      <td>...</td>\n",
       "      <td>...</td>\n",
       "      <td>...</td>\n",
       "      <td>...</td>\n",
       "      <td>...</td>\n",
       "      <td>...</td>\n",
       "      <td>...</td>\n",
       "      <td>...</td>\n",
       "    </tr>\n",
       "    <tr>\n",
       "      <th>870</th>\n",
       "      <td>Richard Young</td>\n",
       "      <td>male</td>\n",
       "      <td>group D</td>\n",
       "      <td>high school</td>\n",
       "      <td>standard</td>\n",
       "      <td>none</td>\n",
       "      <td>5.14</td>\n",
       "      <td>5.50</td>\n",
       "      <td>5.26</td>\n",
       "      <td>5.3</td>\n",
       "    </tr>\n",
       "    <tr>\n",
       "      <th>871</th>\n",
       "      <td>Wanda Russell</td>\n",
       "      <td>female</td>\n",
       "      <td>group B</td>\n",
       "      <td>high school</td>\n",
       "      <td>free/reduced</td>\n",
       "      <td>completed</td>\n",
       "      <td>2.38</td>\n",
       "      <td>3.64</td>\n",
       "      <td>3.16</td>\n",
       "      <td>R</td>\n",
       "    </tr>\n",
       "    <tr>\n",
       "      <th>872</th>\n",
       "      <td>Marina Zeigler</td>\n",
       "      <td>female</td>\n",
       "      <td>group C</td>\n",
       "      <td>bachelor's degree</td>\n",
       "      <td>free/reduced</td>\n",
       "      <td>completed</td>\n",
       "      <td>4.96</td>\n",
       "      <td>5.44</td>\n",
       "      <td>5.86</td>\n",
       "      <td>5.42</td>\n",
       "    </tr>\n",
       "    <tr>\n",
       "      <th>873</th>\n",
       "      <td>Laurie Carter</td>\n",
       "      <td>female</td>\n",
       "      <td>group B</td>\n",
       "      <td>some high school</td>\n",
       "      <td>standard</td>\n",
       "      <td>completed</td>\n",
       "      <td>4.24</td>\n",
       "      <td>4.66</td>\n",
       "      <td>4.72</td>\n",
       "      <td>4.54</td>\n",
       "    </tr>\n",
       "    <tr>\n",
       "      <th>874</th>\n",
       "      <td>Amanda Perez</td>\n",
       "      <td>female</td>\n",
       "      <td>group A</td>\n",
       "      <td>high school</td>\n",
       "      <td>standard</td>\n",
       "      <td>completed</td>\n",
       "      <td>5.08</td>\n",
       "      <td>5.80</td>\n",
       "      <td>5.56</td>\n",
       "      <td>5.48</td>\n",
       "    </tr>\n",
       "  </tbody>\n",
       "</table>\n",
       "<p>875 rows × 10 columns</p>\n",
       "</div>"
      ],
      "text/plain": [
       "                names  gender race/ethnicity parental level of education  \\\n",
       "0       Rita Courtney  female        group B            some high school   \n",
       "1    Charles Linstrom    male        group A           bachelor's degree   \n",
       "2         Brian Young    male        group C            some high school   \n",
       "3      Howard Jimenez    male        group E            some high school   \n",
       "4        Wayne Wilson    male        group B            some high school   \n",
       "..                ...     ...            ...                         ...   \n",
       "870     Richard Young    male        group D                 high school   \n",
       "871     Wanda Russell  female        group B                 high school   \n",
       "872    Marina Zeigler  female        group C           bachelor's degree   \n",
       "873     Laurie Carter  female        group B            some high school   \n",
       "874      Amanda Perez  female        group A                 high school   \n",
       "\n",
       "            lunch test preparation course  math score  reading score  \\\n",
       "0        standard                    none        3.22           3.76   \n",
       "1        standard               completed        5.80           5.68   \n",
       "2        standard                    none        5.38           4.96   \n",
       "3        standard               completed        5.86           5.50   \n",
       "4        standard               completed        6.64           6.16   \n",
       "..            ...                     ...         ...            ...   \n",
       "870      standard                    none        5.14           5.50   \n",
       "871  free/reduced               completed        2.38           3.64   \n",
       "872  free/reduced               completed        4.96           5.44   \n",
       "873      standard               completed        4.24           4.66   \n",
       "874      standard               completed        5.08           5.80   \n",
       "\n",
       "     writing score   GPA  \n",
       "0             3.76     R  \n",
       "1             5.86  5.78  \n",
       "2             4.78  5.04  \n",
       "3             5.56  5.64  \n",
       "4             6.22  6.34  \n",
       "..             ...   ...  \n",
       "870           5.26   5.3  \n",
       "871           3.16     R  \n",
       "872           5.86  5.42  \n",
       "873           4.72  4.54  \n",
       "874           5.56  5.48  \n",
       "\n",
       "[875 rows x 10 columns]"
      ]
     },
     "execution_count": 16,
     "metadata": {},
     "output_type": "execute_result"
    }
   ],
   "source": [
    "dataframe2"
   ]
  },
  {
   "cell_type": "code",
   "execution_count": 17,
   "metadata": {
    "cell_id": "00050-19596313-6c35-480a-b2e2-0e17df76f2b9",
    "deepnote_cell_type": "code",
    "deepnote_to_be_reexecuted": false,
    "execution_millis": 44,
    "execution_start": 1632493424750,
    "source_hash": "142d1b25",
    "tags": []
   },
   "outputs": [
    {
     "data": {
      "text/html": [
       "<div>\n",
       "<style scoped>\n",
       "    .dataframe tbody tr th:only-of-type {\n",
       "        vertical-align: middle;\n",
       "    }\n",
       "\n",
       "    .dataframe tbody tr th {\n",
       "        vertical-align: top;\n",
       "    }\n",
       "\n",
       "    .dataframe thead th {\n",
       "        text-align: right;\n",
       "    }\n",
       "</style>\n",
       "<table border=\"1\" class=\"dataframe\">\n",
       "  <thead>\n",
       "    <tr style=\"text-align: right;\">\n",
       "      <th></th>\n",
       "      <th>names</th>\n",
       "      <th>gender</th>\n",
       "      <th>race/ethnicity</th>\n",
       "      <th>parental level of education</th>\n",
       "      <th>lunch</th>\n",
       "      <th>test preparation course</th>\n",
       "      <th>math score</th>\n",
       "      <th>reading score</th>\n",
       "      <th>writing score</th>\n",
       "      <th>GPA</th>\n",
       "    </tr>\n",
       "  </thead>\n",
       "  <tbody>\n",
       "    <tr>\n",
       "      <th>0</th>\n",
       "      <td>Richard Pryor</td>\n",
       "      <td>male</td>\n",
       "      <td>group E</td>\n",
       "      <td>bachelor's degree</td>\n",
       "      <td>standard</td>\n",
       "      <td>completed</td>\n",
       "      <td>7.00</td>\n",
       "      <td>7.00</td>\n",
       "      <td>7.00</td>\n",
       "      <td>7.00</td>\n",
       "    </tr>\n",
       "    <tr>\n",
       "      <th>1</th>\n",
       "      <td>Sandra Pompey</td>\n",
       "      <td>female</td>\n",
       "      <td>group E</td>\n",
       "      <td>associate's degree</td>\n",
       "      <td>standard</td>\n",
       "      <td>none</td>\n",
       "      <td>7.00</td>\n",
       "      <td>7.00</td>\n",
       "      <td>7.00</td>\n",
       "      <td>7.00</td>\n",
       "    </tr>\n",
       "    <tr>\n",
       "      <th>2</th>\n",
       "      <td>Elizabeth Beasley</td>\n",
       "      <td>female</td>\n",
       "      <td>group E</td>\n",
       "      <td>bachelor's degree</td>\n",
       "      <td>standard</td>\n",
       "      <td>none</td>\n",
       "      <td>7.00</td>\n",
       "      <td>7.00</td>\n",
       "      <td>7.00</td>\n",
       "      <td>7.00</td>\n",
       "    </tr>\n",
       "    <tr>\n",
       "      <th>3</th>\n",
       "      <td>Emma Gray</td>\n",
       "      <td>female</td>\n",
       "      <td>group E</td>\n",
       "      <td>bachelor's degree</td>\n",
       "      <td>standard</td>\n",
       "      <td>completed</td>\n",
       "      <td>6.94</td>\n",
       "      <td>7.00</td>\n",
       "      <td>7.00</td>\n",
       "      <td>6.98</td>\n",
       "    </tr>\n",
       "    <tr>\n",
       "      <th>4</th>\n",
       "      <td>Emma Brasher</td>\n",
       "      <td>female</td>\n",
       "      <td>group D</td>\n",
       "      <td>some high school</td>\n",
       "      <td>standard</td>\n",
       "      <td>completed</td>\n",
       "      <td>6.82</td>\n",
       "      <td>7.00</td>\n",
       "      <td>7.00</td>\n",
       "      <td>6.94</td>\n",
       "    </tr>\n",
       "    <tr>\n",
       "      <th>...</th>\n",
       "      <td>...</td>\n",
       "      <td>...</td>\n",
       "      <td>...</td>\n",
       "      <td>...</td>\n",
       "      <td>...</td>\n",
       "      <td>...</td>\n",
       "      <td>...</td>\n",
       "      <td>...</td>\n",
       "      <td>...</td>\n",
       "      <td>...</td>\n",
       "    </tr>\n",
       "    <tr>\n",
       "      <th>89</th>\n",
       "      <td>Rolando Widmer</td>\n",
       "      <td>male</td>\n",
       "      <td>group C</td>\n",
       "      <td>high school</td>\n",
       "      <td>standard</td>\n",
       "      <td>completed</td>\n",
       "      <td>5.92</td>\n",
       "      <td>6.04</td>\n",
       "      <td>5.92</td>\n",
       "      <td>5.96</td>\n",
       "    </tr>\n",
       "    <tr>\n",
       "      <th>90</th>\n",
       "      <td>Lucille Stanphill</td>\n",
       "      <td>female</td>\n",
       "      <td>group C</td>\n",
       "      <td>high school</td>\n",
       "      <td>standard</td>\n",
       "      <td>none</td>\n",
       "      <td>5.86</td>\n",
       "      <td>6.04</td>\n",
       "      <td>5.92</td>\n",
       "      <td>5.94</td>\n",
       "    </tr>\n",
       "    <tr>\n",
       "      <th>91</th>\n",
       "      <td>Steven Kelly</td>\n",
       "      <td>male</td>\n",
       "      <td>group D</td>\n",
       "      <td>some college</td>\n",
       "      <td>standard</td>\n",
       "      <td>none</td>\n",
       "      <td>5.86</td>\n",
       "      <td>5.92</td>\n",
       "      <td>6.04</td>\n",
       "      <td>5.94</td>\n",
       "    </tr>\n",
       "    <tr>\n",
       "      <th>92</th>\n",
       "      <td>Peter Perez</td>\n",
       "      <td>male</td>\n",
       "      <td>group D</td>\n",
       "      <td>master's degree</td>\n",
       "      <td>standard</td>\n",
       "      <td>none</td>\n",
       "      <td>5.86</td>\n",
       "      <td>5.86</td>\n",
       "      <td>6.04</td>\n",
       "      <td>5.92</td>\n",
       "    </tr>\n",
       "    <tr>\n",
       "      <th>93</th>\n",
       "      <td>Harry Berry</td>\n",
       "      <td>male</td>\n",
       "      <td>group B</td>\n",
       "      <td>associate's degree</td>\n",
       "      <td>standard</td>\n",
       "      <td>completed</td>\n",
       "      <td>5.86</td>\n",
       "      <td>5.92</td>\n",
       "      <td>5.92</td>\n",
       "      <td>5.90</td>\n",
       "    </tr>\n",
       "  </tbody>\n",
       "</table>\n",
       "<p>94 rows × 10 columns</p>\n",
       "</div>"
      ],
      "text/plain": [
       "                names  gender race/ethnicity parental level of education  \\\n",
       "0       Richard Pryor    male        group E           bachelor's degree   \n",
       "1       Sandra Pompey  female        group E          associate's degree   \n",
       "2   Elizabeth Beasley  female        group E           bachelor's degree   \n",
       "3           Emma Gray  female        group E           bachelor's degree   \n",
       "4        Emma Brasher  female        group D            some high school   \n",
       "..                ...     ...            ...                         ...   \n",
       "89     Rolando Widmer    male        group C                 high school   \n",
       "90  Lucille Stanphill  female        group C                 high school   \n",
       "91       Steven Kelly    male        group D                some college   \n",
       "92        Peter Perez    male        group D             master's degree   \n",
       "93        Harry Berry    male        group B          associate's degree   \n",
       "\n",
       "       lunch test preparation course  math score  reading score  \\\n",
       "0   standard               completed        7.00           7.00   \n",
       "1   standard                    none        7.00           7.00   \n",
       "2   standard                    none        7.00           7.00   \n",
       "3   standard               completed        6.94           7.00   \n",
       "4   standard               completed        6.82           7.00   \n",
       "..       ...                     ...         ...            ...   \n",
       "89  standard               completed        5.92           6.04   \n",
       "90  standard                    none        5.86           6.04   \n",
       "91  standard                    none        5.86           5.92   \n",
       "92  standard                    none        5.86           5.86   \n",
       "93  standard               completed        5.86           5.92   \n",
       "\n",
       "    writing score   GPA  \n",
       "0            7.00  7.00  \n",
       "1            7.00  7.00  \n",
       "2            7.00  7.00  \n",
       "3            7.00  6.98  \n",
       "4            7.00  6.94  \n",
       "..            ...   ...  \n",
       "89           5.92  5.96  \n",
       "90           5.92  5.94  \n",
       "91           6.04  5.94  \n",
       "92           6.04  5.92  \n",
       "93           5.92  5.90  \n",
       "\n",
       "[94 rows x 10 columns]"
      ]
     },
     "execution_count": 17,
     "metadata": {},
     "output_type": "execute_result"
    }
   ],
   "source": [
    "dataframe3"
   ]
  },
  {
   "cell_type": "markdown",
   "metadata": {
    "cell_id": "00051-1765b59c-25ca-4dc5-ac88-29805642f748",
    "deepnote_cell_type": "markdown",
    "id": "jb9sjfJlwolM"
   },
   "source": [
    "**Respuesta:**"
   ]
  },
  {
   "cell_type": "markdown",
   "metadata": {
    "cell_id": "00052-4e2f07e8-ce26-4d48-ba89-4c04132729ca",
    "deepnote_cell_type": "markdown",
    "id": "vDl7h7JbwrKh"
   },
   "source": [
    "```\n",
    "Escriba aqui su respuesta\n",
    "```"
   ]
  },
  {
   "cell_type": "markdown",
   "metadata": {
    "cell_id": "00053-c26e032f-9917-4088-ac1d-9ba2983ba419",
    "deepnote_cell_type": "markdown",
    "tags": []
   },
   "source": [
    "### 1.3.4 Consultas de Alumnos [0.5 Puntos]"
   ]
  },
  {
   "cell_type": "markdown",
   "metadata": {
    "cell_id": "00054-265dbcea-43c7-4418-b289-48906d0c1626",
    "deepnote_cell_type": "markdown",
    "tags": []
   },
   "source": [
    "Algunos padres (extremadamente entrometidos y...) preocupados por el desempeño de sus hijos, desean saber estos han aprobado o no el año. Como la tarea de buscar a mano cada uno de estos alumnos en el `DataFrame` resulta demasiado tedioso, el rector le solicita crear una función que tenga como entrada el `DataFrame` donde se realizará la busqueda y una lista con los nombres de los alumnos, luego la función deberá retornar un `DataFrame` con los nombres de los alumnos y el promedio general de cada uno. \n",
    "\n",
    "Creada la función busque el promedio general de los siguientes alumnos en el segundo Data frame creado en la sección 1.3.3:\n",
    "\n",
    "`['Lucille Stanphill','Marcus Mcfarland', 'Matthew Freeman', 'Dana Mojica', 'Paul Hyder', 'Jeffrey Korn', 'Robert Strain',\n",
    "'Ronald Jett', 'Lorena Reed', 'Hazel Posey']`\n",
    "\n",
    "**Hint:** Puede serle de utilidad utilizar `isin()`."
   ]
  },
  {
   "cell_type": "markdown",
   "metadata": {
    "cell_id": "00055-f296cada-4f15-4a9b-900c-cde55391c32b",
    "deepnote_cell_type": "markdown",
    "tags": []
   },
   "source": [
    "**Respuesta:**"
   ]
  },
  {
   "cell_type": "code",
   "execution_count": 18,
   "metadata": {},
   "outputs": [
    {
     "data": {
      "text/html": [
       "<div>\n",
       "<style scoped>\n",
       "    .dataframe tbody tr th:only-of-type {\n",
       "        vertical-align: middle;\n",
       "    }\n",
       "\n",
       "    .dataframe tbody tr th {\n",
       "        vertical-align: top;\n",
       "    }\n",
       "\n",
       "    .dataframe thead th {\n",
       "        text-align: right;\n",
       "    }\n",
       "</style>\n",
       "<table border=\"1\" class=\"dataframe\">\n",
       "  <thead>\n",
       "    <tr style=\"text-align: right;\">\n",
       "      <th></th>\n",
       "      <th>names</th>\n",
       "      <th>GPA</th>\n",
       "    </tr>\n",
       "  </thead>\n",
       "  <tbody>\n",
       "    <tr>\n",
       "      <th>198</th>\n",
       "      <td>Lucille Stanphill</td>\n",
       "      <td>5.94</td>\n",
       "    </tr>\n",
       "    <tr>\n",
       "      <th>372</th>\n",
       "      <td>Marcus Mcfarland</td>\n",
       "      <td>4.86</td>\n",
       "    </tr>\n",
       "    <tr>\n",
       "      <th>418</th>\n",
       "      <td>Matthew Freeman</td>\n",
       "      <td>R</td>\n",
       "    </tr>\n",
       "    <tr>\n",
       "      <th>421</th>\n",
       "      <td>Dana Mojica</td>\n",
       "      <td>R</td>\n",
       "    </tr>\n",
       "    <tr>\n",
       "      <th>675</th>\n",
       "      <td>Robert Strain</td>\n",
       "      <td>4.4</td>\n",
       "    </tr>\n",
       "    <tr>\n",
       "      <th>679</th>\n",
       "      <td>Ronald Jett</td>\n",
       "      <td>R</td>\n",
       "    </tr>\n",
       "    <tr>\n",
       "      <th>681</th>\n",
       "      <td>Hazel Posey</td>\n",
       "      <td>R</td>\n",
       "    </tr>\n",
       "    <tr>\n",
       "      <th>753</th>\n",
       "      <td>Lorena Reed</td>\n",
       "      <td>R</td>\n",
       "    </tr>\n",
       "  </tbody>\n",
       "</table>\n",
       "</div>"
      ],
      "text/plain": [
       "                 names   GPA\n",
       "198  Lucille Stanphill  5.94\n",
       "372   Marcus Mcfarland  4.86\n",
       "418    Matthew Freeman     R\n",
       "421        Dana Mojica     R\n",
       "675      Robert Strain   4.4\n",
       "679        Ronald Jett     R\n",
       "681        Hazel Posey     R\n",
       "753        Lorena Reed     R"
      ]
     },
     "execution_count": 18,
     "metadata": {},
     "output_type": "execute_result"
    }
   ],
   "source": [
    "def consulta_gpa(dataframe_in, lista_alumnos):\n",
    "    alumnos = dataframe_in.loc[dataframe_in[\"names\"].isin(lista_alumnos)]\n",
    "    return alumnos[[\"names\", \"GPA\"]]\n",
    "\n",
    "\n",
    "lista_alumnos = [\n",
    "    \"Lucille Stanphill\",\n",
    "    \"Marcus Mcfarland\",\n",
    "    \"Matthew Freeman\",\n",
    "    \"Dana Mojica\",\n",
    "    \"Paul Hyder\",\n",
    "    \"Jeffrey Korn\",\n",
    "    \"Robert Strain\",\n",
    "    \"Ronald Jett\",\n",
    "    \"Lorena Reed\",\n",
    "    \"Hazel Posey\",\n",
    "]\n",
    "consulta_gpa(dataframe2, lista_alumnos)"
   ]
  },
  {
   "cell_type": "markdown",
   "metadata": {
    "cell_id": "00057-ce0783ee-ebbf-47e2-a857-88811fd99f73",
    "deepnote_cell_type": "markdown",
    "tags": []
   },
   "source": [
    "### 1.3.5 Quintiles de Rendimiento [0.5 Puntos]"
   ]
  },
  {
   "cell_type": "markdown",
   "metadata": {
    "cell_id": "00058-f22b06aa-362f-481f-a003-b9e5796120b0",
    "deepnote_cell_type": "markdown",
    "tags": []
   },
   "source": [
    "El rector, intrigado por saber si existe una relación entre el nivel educacional de los padres y las notas de sus hijos les plantea estudiar dicha relación. Para esto, les solicita que desde el `DataFrame` que posee a todos los alumnos (`DataFrame` obtenido tras la limpieza), generen una nueva columna que clasifique en quintiles de rendimiento para sus alumnos: `['Bajísimo', 'Bajo', 'Medio', 'Alto', 'Muy alto']`. (investigar `qcut()`)\n",
    "\n",
    "Hecho esto, grafique a través de un scatter plot el nivel educacional de los padres v/s el promedio de los alumnos, utilice los cuantiles generados anteriormente para mostrar en que cuantil se encuentra cada uno de los datos.\n",
    "\n",
    "Realizado el grafico, responda la siguiente pregunta: **¿Es posible visualizar alguna tendencia en el gráfico?.**\n",
    "\n"
   ]
  },
  {
   "cell_type": "markdown",
   "metadata": {
    "cell_id": "00059-9f08f4c4-c59b-443a-83c3-677c0e9be877",
    "deepnote_cell_type": "markdown",
    "tags": []
   },
   "source": [
    "**Respuesta:**"
   ]
  },
  {
   "cell_type": "code",
   "execution_count": 19,
   "metadata": {
    "cell_id": "00061-795d8f8c-5718-4f38-adc1-4a1733bd3ccb",
    "deepnote_cell_type": "code",
    "deepnote_to_be_reexecuted": false,
    "execution_millis": 134,
    "execution_start": 1632493424819,
    "source_hash": "8fe13806",
    "tags": []
   },
   "outputs": [
    {
     "data": {
      "application/vnd.plotly.v1+json": {
       "config": {
        "plotlyServerURL": "https://plot.ly"
       },
       "data": [
        {
         "customdata": [
          [
           "female"
          ],
          [
           "female"
          ],
          [
           "male"
          ],
          [
           "male"
          ],
          [
           "female"
          ],
          [
           "male"
          ],
          [
           "female"
          ],
          [
           "female"
          ],
          [
           "female"
          ],
          [
           "male"
          ],
          [
           "male"
          ],
          [
           "female"
          ],
          [
           "female"
          ],
          [
           "female"
          ],
          [
           "male"
          ],
          [
           "female"
          ],
          [
           "female"
          ],
          [
           "male"
          ],
          [
           "female"
          ],
          [
           "male"
          ],
          [
           "male"
          ],
          [
           "male"
          ],
          [
           "female"
          ],
          [
           "male"
          ],
          [
           "male"
          ],
          [
           "male"
          ],
          [
           "male"
          ],
          [
           "male"
          ],
          [
           "female"
          ],
          [
           "female"
          ],
          [
           "male"
          ],
          [
           "female"
          ],
          [
           "female"
          ],
          [
           "female"
          ],
          [
           "male"
          ],
          [
           "male"
          ],
          [
           "male"
          ],
          [
           "female"
          ],
          [
           "female"
          ],
          [
           "female"
          ],
          [
           "male"
          ],
          [
           "male"
          ],
          [
           "female"
          ],
          [
           "male"
          ],
          [
           "female"
          ],
          [
           "male"
          ],
          [
           "male"
          ],
          [
           "male"
          ],
          [
           "female"
          ],
          [
           "male"
          ],
          [
           "female"
          ],
          [
           "male"
          ],
          [
           "male"
          ],
          [
           "male"
          ],
          [
           "male"
          ],
          [
           "male"
          ],
          [
           "male"
          ],
          [
           "male"
          ],
          [
           "female"
          ],
          [
           "male"
          ],
          [
           "male"
          ],
          [
           "male"
          ],
          [
           "male"
          ],
          [
           "male"
          ],
          [
           "male"
          ],
          [
           "male"
          ],
          [
           "male"
          ],
          [
           "male"
          ],
          [
           "male"
          ],
          [
           "male"
          ],
          [
           "female"
          ],
          [
           "female"
          ],
          [
           "male"
          ],
          [
           "male"
          ],
          [
           "male"
          ],
          [
           "male"
          ],
          [
           "female"
          ],
          [
           "male"
          ],
          [
           "female"
          ],
          [
           "male"
          ],
          [
           "male"
          ],
          [
           "male"
          ],
          [
           "male"
          ],
          [
           "female"
          ],
          [
           "male"
          ],
          [
           "male"
          ],
          [
           "female"
          ],
          [
           "male"
          ],
          [
           "female"
          ],
          [
           "female"
          ],
          [
           "male"
          ],
          [
           "female"
          ],
          [
           "male"
          ],
          [
           "male"
          ],
          [
           "male"
          ],
          [
           "male"
          ],
          [
           "female"
          ],
          [
           "male"
          ],
          [
           "male"
          ],
          [
           "female"
          ],
          [
           "female"
          ],
          [
           "male"
          ],
          [
           "male"
          ],
          [
           "male"
          ],
          [
           "female"
          ],
          [
           "male"
          ],
          [
           "male"
          ],
          [
           "male"
          ],
          [
           "female"
          ],
          [
           "female"
          ],
          [
           "male"
          ],
          [
           "male"
          ],
          [
           "female"
          ],
          [
           "female"
          ],
          [
           "male"
          ],
          [
           "male"
          ],
          [
           "male"
          ],
          [
           "female"
          ],
          [
           "female"
          ],
          [
           "male"
          ],
          [
           "male"
          ],
          [
           "female"
          ],
          [
           "male"
          ],
          [
           "female"
          ],
          [
           "male"
          ],
          [
           "female"
          ],
          [
           "male"
          ],
          [
           "male"
          ],
          [
           "male"
          ],
          [
           "female"
          ],
          [
           "male"
          ],
          [
           "female"
          ],
          [
           "female"
          ],
          [
           "female"
          ],
          [
           "female"
          ],
          [
           "female"
          ],
          [
           "male"
          ],
          [
           "male"
          ],
          [
           "female"
          ],
          [
           "female"
          ],
          [
           "female"
          ],
          [
           "female"
          ],
          [
           "male"
          ],
          [
           "male"
          ],
          [
           "female"
          ],
          [
           "male"
          ],
          [
           "male"
          ],
          [
           "female"
          ],
          [
           "male"
          ],
          [
           "female"
          ],
          [
           "female"
          ],
          [
           "male"
          ],
          [
           "male"
          ],
          [
           "female"
          ],
          [
           "female"
          ],
          [
           "male"
          ],
          [
           "male"
          ],
          [
           "female"
          ],
          [
           "male"
          ],
          [
           "male"
          ],
          [
           "male"
          ],
          [
           "female"
          ],
          [
           "male"
          ],
          [
           "female"
          ],
          [
           "male"
          ],
          [
           "male"
          ],
          [
           "female"
          ],
          [
           "female"
          ],
          [
           "male"
          ],
          [
           "male"
          ],
          [
           "male"
          ],
          [
           "male"
          ],
          [
           "male"
          ],
          [
           "female"
          ],
          [
           "male"
          ],
          [
           "female"
          ]
         ],
         "hovertemplate": "GPA cuantiles=Bajísimo<br>GPA=%{x}<br>parental level of education=%{y}<br>gender=%{customdata[0]}<extra></extra>",
         "legendgroup": "Bajísimo",
         "marker": {
          "color": "tomato",
          "symbol": "circle"
         },
         "mode": "markers",
         "name": "Bajísimo",
         "orientation": "h",
         "showlegend": true,
         "type": "scatter",
         "x": [
          1.54,
          2.1,
          2.38,
          2.4,
          2.56,
          2.56,
          2.76,
          2.78,
          2.78,
          2.8,
          2.84,
          2.86,
          2.88,
          2.9,
          2.94,
          3.06,
          3.08,
          3.24,
          3.26,
          3.28,
          3.3,
          3.32,
          3.34,
          3.36,
          3.38,
          3.38,
          3.4,
          3.44,
          3.44,
          3.46,
          3.46,
          3.48,
          3.54,
          3.58,
          3.6,
          3.6,
          3.6,
          3.6,
          3.64,
          3.64,
          3.66,
          3.68,
          3.68,
          3.68,
          3.68,
          3.7,
          3.72,
          3.72,
          3.74,
          3.76,
          3.76,
          3.76,
          3.78,
          3.78,
          3.78,
          3.78,
          3.78,
          3.8,
          3.8,
          3.8,
          3.8,
          3.82,
          3.84,
          3.84,
          3.86,
          3.86,
          3.88,
          3.88,
          3.88,
          3.88,
          3.9,
          3.9,
          3.9,
          3.9,
          3.92,
          3.92,
          3.92,
          3.92,
          3.94,
          3.94,
          3.94,
          3.94,
          3.96,
          3.96,
          3.96,
          3.98,
          4,
          4,
          4,
          4,
          4.02,
          4.02,
          4.02,
          4.02,
          4.02,
          4.02,
          4.02,
          4.04,
          4.04,
          4.04,
          4.06,
          4.06,
          4.06,
          4.06,
          4.06,
          4.08,
          4.08,
          4.08,
          4.08,
          4.08,
          4.08,
          4.1,
          4.1,
          4.1,
          4.1,
          4.1,
          4.1,
          4.1,
          4.1,
          4.1,
          4.12,
          4.12,
          4.12,
          4.12,
          4.14,
          4.14,
          4.14,
          4.14,
          4.16,
          4.16,
          4.16,
          4.16,
          4.16,
          4.16,
          4.16,
          4.18,
          4.18,
          4.2,
          4.2,
          4.2,
          4.2,
          4.22,
          4.22,
          4.22,
          4.22,
          4.22,
          4.24,
          4.24,
          4.24,
          4.24,
          4.24,
          4.26,
          4.26,
          4.26,
          4.26,
          4.28,
          4.28,
          4.28,
          4.28,
          4.28,
          4.28,
          4.28,
          4.28,
          4.3,
          4.3,
          4.32,
          4.32,
          4.32,
          4.32,
          4.32,
          4.34,
          4.34,
          4.34,
          4.34,
          4.34,
          4.34
         ],
         "xaxis": "x",
         "y": [
          "some high school",
          "high school",
          "high school",
          "some college",
          "some high school",
          "some high school",
          "high school",
          "some high school",
          "some college",
          "some college",
          "high school",
          "some high school",
          "some college",
          "associate's degree",
          "high school",
          "high school",
          "some high school",
          "some high school",
          "some high school",
          "some college",
          "high school",
          "high school",
          "bachelor's degree",
          "some high school",
          "some high school",
          "associate's degree",
          "some college",
          "some college",
          "some college",
          "high school",
          "associate's degree",
          "some high school",
          "some high school",
          "some high school",
          "some high school",
          "associate's degree",
          "some high school",
          "high school",
          "high school",
          "some high school",
          "associate's degree",
          "master's degree",
          "high school",
          "high school",
          "some high school",
          "associate's degree",
          "high school",
          "associate's degree",
          "high school",
          "associate's degree",
          "associate's degree",
          "associate's degree",
          "some college",
          "high school",
          "some high school",
          "high school",
          "some college",
          "bachelor's degree",
          "associate's degree",
          "high school",
          "bachelor's degree",
          "high school",
          "some college",
          "some high school",
          "high school",
          "associate's degree",
          "high school",
          "high school",
          "associate's degree",
          "some high school",
          "some high school",
          "high school",
          "some high school",
          "bachelor's degree",
          "some high school",
          "some high school",
          "associate's degree",
          "some high school",
          "some high school",
          "high school",
          "high school",
          "high school",
          "associate's degree",
          "bachelor's degree",
          "associate's degree",
          "high school",
          "associate's degree",
          "bachelor's degree",
          "some high school",
          "high school",
          "some college",
          "bachelor's degree",
          "some college",
          "associate's degree",
          "some college",
          "high school",
          "some college",
          "some college",
          "some college",
          "master's degree",
          "master's degree",
          "some college",
          "some college",
          "some college",
          "some college",
          "master's degree",
          "high school",
          "associate's degree",
          "some high school",
          "some college",
          "high school",
          "high school",
          "master's degree",
          "some high school",
          "associate's degree",
          "high school",
          "associate's degree",
          "associate's degree",
          "associate's degree",
          "some high school",
          "high school",
          "some high school",
          "associate's degree",
          "associate's degree",
          "some high school",
          "high school",
          "some college",
          "some college",
          "high school",
          "some high school",
          "high school",
          "associate's degree",
          "high school",
          "high school",
          "high school",
          "associate's degree",
          "associate's degree",
          "some high school",
          "associate's degree",
          "some high school",
          "associate's degree",
          "associate's degree",
          "high school",
          "high school",
          "associate's degree",
          "bachelor's degree",
          "some high school",
          "some high school",
          "high school",
          "some college",
          "associate's degree",
          "some high school",
          "master's degree",
          "high school",
          "high school",
          "high school",
          "some college",
          "high school",
          "associate's degree",
          "some college",
          "high school",
          "associate's degree",
          "bachelor's degree",
          "high school",
          "some college",
          "associate's degree",
          "some high school",
          "bachelor's degree",
          "bachelor's degree",
          "high school",
          "high school",
          "bachelor's degree",
          "associate's degree",
          "associate's degree",
          "associate's degree",
          "high school"
         ],
         "yaxis": "y"
        },
        {
         "customdata": [
          [
           "male"
          ],
          [
           "male"
          ],
          [
           "female"
          ],
          [
           "female"
          ],
          [
           "female"
          ],
          [
           "male"
          ],
          [
           "female"
          ],
          [
           "male"
          ],
          [
           "male"
          ],
          [
           "female"
          ],
          [
           "male"
          ],
          [
           "female"
          ],
          [
           "female"
          ],
          [
           "female"
          ],
          [
           "female"
          ],
          [
           "female"
          ],
          [
           "male"
          ],
          [
           "male"
          ],
          [
           "male"
          ],
          [
           "female"
          ],
          [
           "male"
          ],
          [
           "male"
          ],
          [
           "male"
          ],
          [
           "male"
          ],
          [
           "female"
          ],
          [
           "male"
          ],
          [
           "male"
          ],
          [
           "male"
          ],
          [
           "female"
          ],
          [
           "female"
          ],
          [
           "female"
          ],
          [
           "male"
          ],
          [
           "male"
          ],
          [
           "female"
          ],
          [
           "male"
          ],
          [
           "male"
          ],
          [
           "male"
          ],
          [
           "male"
          ],
          [
           "female"
          ],
          [
           "male"
          ],
          [
           "female"
          ],
          [
           "male"
          ],
          [
           "male"
          ],
          [
           "male"
          ],
          [
           "female"
          ],
          [
           "male"
          ],
          [
           "female"
          ],
          [
           "female"
          ],
          [
           "female"
          ],
          [
           "male"
          ],
          [
           "male"
          ],
          [
           "female"
          ],
          [
           "male"
          ],
          [
           "male"
          ],
          [
           "male"
          ],
          [
           "female"
          ],
          [
           "female"
          ],
          [
           "male"
          ],
          [
           "male"
          ],
          [
           "male"
          ],
          [
           "female"
          ],
          [
           "female"
          ],
          [
           "female"
          ],
          [
           "male"
          ],
          [
           "male"
          ],
          [
           "female"
          ],
          [
           "female"
          ],
          [
           "female"
          ],
          [
           "female"
          ],
          [
           "male"
          ],
          [
           "male"
          ],
          [
           "male"
          ],
          [
           "female"
          ],
          [
           "female"
          ],
          [
           "female"
          ],
          [
           "male"
          ],
          [
           "male"
          ],
          [
           "female"
          ],
          [
           "male"
          ],
          [
           "male"
          ],
          [
           "male"
          ],
          [
           "female"
          ],
          [
           "female"
          ],
          [
           "male"
          ],
          [
           "male"
          ],
          [
           "female"
          ],
          [
           "male"
          ],
          [
           "male"
          ],
          [
           "male"
          ],
          [
           "male"
          ],
          [
           "male"
          ],
          [
           "male"
          ],
          [
           "female"
          ],
          [
           "male"
          ],
          [
           "male"
          ],
          [
           "female"
          ],
          [
           "male"
          ],
          [
           "male"
          ],
          [
           "male"
          ],
          [
           "female"
          ],
          [
           "male"
          ],
          [
           "male"
          ],
          [
           "male"
          ],
          [
           "female"
          ],
          [
           "female"
          ],
          [
           "female"
          ],
          [
           "male"
          ],
          [
           "male"
          ],
          [
           "female"
          ],
          [
           "female"
          ],
          [
           "female"
          ],
          [
           "male"
          ],
          [
           "female"
          ],
          [
           "female"
          ],
          [
           "male"
          ],
          [
           "female"
          ],
          [
           "male"
          ],
          [
           "male"
          ],
          [
           "female"
          ],
          [
           "female"
          ],
          [
           "male"
          ],
          [
           "male"
          ],
          [
           "male"
          ],
          [
           "female"
          ],
          [
           "male"
          ],
          [
           "male"
          ],
          [
           "male"
          ],
          [
           "female"
          ],
          [
           "female"
          ],
          [
           "male"
          ],
          [
           "female"
          ],
          [
           "female"
          ],
          [
           "female"
          ],
          [
           "male"
          ],
          [
           "male"
          ],
          [
           "male"
          ],
          [
           "female"
          ],
          [
           "female"
          ],
          [
           "male"
          ],
          [
           "male"
          ],
          [
           "male"
          ],
          [
           "female"
          ],
          [
           "female"
          ],
          [
           "female"
          ],
          [
           "male"
          ],
          [
           "male"
          ],
          [
           "female"
          ],
          [
           "male"
          ],
          [
           "female"
          ],
          [
           "male"
          ],
          [
           "male"
          ],
          [
           "female"
          ],
          [
           "male"
          ],
          [
           "male"
          ],
          [
           "female"
          ],
          [
           "female"
          ],
          [
           "male"
          ],
          [
           "male"
          ],
          [
           "female"
          ],
          [
           "female"
          ],
          [
           "female"
          ],
          [
           "male"
          ],
          [
           "female"
          ],
          [
           "female"
          ],
          [
           "male"
          ],
          [
           "female"
          ],
          [
           "male"
          ],
          [
           "male"
          ],
          [
           "female"
          ],
          [
           "male"
          ],
          [
           "female"
          ],
          [
           "male"
          ],
          [
           "female"
          ],
          [
           "male"
          ],
          [
           "female"
          ],
          [
           "female"
          ],
          [
           "female"
          ]
         ],
         "hovertemplate": "GPA cuantiles=Bajo<br>GPA=%{x}<br>parental level of education=%{y}<br>gender=%{customdata[0]}<extra></extra>",
         "legendgroup": "Bajo",
         "marker": {
          "color": "orange",
          "symbol": "circle"
         },
         "mode": "markers",
         "name": "Bajo",
         "orientation": "h",
         "showlegend": true,
         "type": "scatter",
         "x": [
          4.36,
          4.36,
          4.36,
          4.36,
          4.36,
          4.36,
          4.36,
          4.36,
          4.36,
          4.38,
          4.38,
          4.38,
          4.38,
          4.38,
          4.4,
          4.4,
          4.4,
          4.42,
          4.42,
          4.42,
          4.42,
          4.44,
          4.44,
          4.44,
          4.44,
          4.44,
          4.44,
          4.44,
          4.44,
          4.46,
          4.46,
          4.46,
          4.46,
          4.46,
          4.46,
          4.48,
          4.48,
          4.5,
          4.5,
          4.5,
          4.5,
          4.5,
          4.5,
          4.5,
          4.52,
          4.52,
          4.52,
          4.52,
          4.52,
          4.52,
          4.52,
          4.52,
          4.52,
          4.54,
          4.54,
          4.54,
          4.54,
          4.54,
          4.54,
          4.54,
          4.54,
          4.56,
          4.56,
          4.56,
          4.56,
          4.58,
          4.58,
          4.58,
          4.58,
          4.6,
          4.6,
          4.6,
          4.6,
          4.6,
          4.6,
          4.6,
          4.62,
          4.62,
          4.62,
          4.62,
          4.62,
          4.64,
          4.64,
          4.64,
          4.64,
          4.64,
          4.64,
          4.64,
          4.66,
          4.66,
          4.66,
          4.66,
          4.66,
          4.68,
          4.68,
          4.68,
          4.68,
          4.68,
          4.68,
          4.68,
          4.7,
          4.7,
          4.7,
          4.7,
          4.7,
          4.7,
          4.7,
          4.72,
          4.72,
          4.72,
          4.72,
          4.72,
          4.72,
          4.74,
          4.74,
          4.74,
          4.74,
          4.74,
          4.74,
          4.74,
          4.76,
          4.76,
          4.76,
          4.78,
          4.78,
          4.78,
          4.78,
          4.78,
          4.78,
          4.8,
          4.8,
          4.8,
          4.8,
          4.82,
          4.82,
          4.82,
          4.82,
          4.82,
          4.82,
          4.84,
          4.84,
          4.84,
          4.84,
          4.84,
          4.84,
          4.84,
          4.84,
          4.84,
          4.86,
          4.86,
          4.86,
          4.86,
          4.86,
          4.86,
          4.86,
          4.86,
          4.86,
          4.86,
          4.88,
          4.88,
          4.88,
          4.88,
          4.88,
          4.88,
          4.88,
          4.88,
          4.88,
          4.88,
          4.88,
          4.9,
          4.9,
          4.9,
          4.9,
          4.9,
          4.9,
          4.9,
          4.9
         ],
         "xaxis": "x",
         "y": [
          "high school",
          "associate's degree",
          "some college",
          "associate's degree",
          "some college",
          "high school",
          "bachelor's degree",
          "associate's degree",
          "bachelor's degree",
          "bachelor's degree",
          "some college",
          "some college",
          "some high school",
          "bachelor's degree",
          "some high school",
          "high school",
          "associate's degree",
          "high school",
          "associate's degree",
          "some college",
          "high school",
          "high school",
          "associate's degree",
          "some high school",
          "high school",
          "some college",
          "some college",
          "high school",
          "master's degree",
          "associate's degree",
          "associate's degree",
          "some high school",
          "some high school",
          "some high school",
          "some high school",
          "some high school",
          "some high school",
          "some high school",
          "bachelor's degree",
          "some college",
          "some college",
          "some college",
          "associate's degree",
          "some college",
          "associate's degree",
          "associate's degree",
          "associate's degree",
          "some college",
          "some high school",
          "some high school",
          "high school",
          "some college",
          "high school",
          "some college",
          "some high school",
          "master's degree",
          "some high school",
          "some college",
          "some high school",
          "associate's degree",
          "some college",
          "some college",
          "master's degree",
          "associate's degree",
          "some college",
          "some high school",
          "high school",
          "high school",
          "bachelor's degree",
          "some college",
          "some high school",
          "high school",
          "high school",
          "some high school",
          "high school",
          "some college",
          "bachelor's degree",
          "bachelor's degree",
          "high school",
          "some college",
          "some college",
          "master's degree",
          "associate's degree",
          "some college",
          "some college",
          "some high school",
          "bachelor's degree",
          "some college",
          "some high school",
          "some college",
          "bachelor's degree",
          "master's degree",
          "some college",
          "associate's degree",
          "some college",
          "some college",
          "some college",
          "some high school",
          "bachelor's degree",
          "master's degree",
          "associate's degree",
          "some high school",
          "associate's degree",
          "master's degree",
          "some college",
          "some college",
          "high school",
          "some college",
          "some high school",
          "high school",
          "associate's degree",
          "bachelor's degree",
          "bachelor's degree",
          "some high school",
          "some college",
          "high school",
          "some college",
          "high school",
          "some college",
          "high school",
          "bachelor's degree",
          "high school",
          "high school",
          "some college",
          "associate's degree",
          "some college",
          "associate's degree",
          "master's degree",
          "high school",
          "some high school",
          "high school",
          "associate's degree",
          "master's degree",
          "some college",
          "high school",
          "some college",
          "some college",
          "high school",
          "associate's degree",
          "some high school",
          "associate's degree",
          "some high school",
          "associate's degree",
          "high school",
          "some college",
          "high school",
          "some college",
          "bachelor's degree",
          "associate's degree",
          "bachelor's degree",
          "associate's degree",
          "master's degree",
          "bachelor's degree",
          "associate's degree",
          "master's degree",
          "high school",
          "some high school",
          "some high school",
          "some college",
          "associate's degree",
          "associate's degree",
          "master's degree",
          "high school",
          "bachelor's degree",
          "associate's degree",
          "some college",
          "some high school",
          "high school",
          "associate's degree",
          "high school",
          "some college",
          "some college",
          "some college",
          "high school",
          "some college",
          "associate's degree",
          "high school"
         ],
         "yaxis": "y"
        },
        {
         "customdata": [
          [
           "female"
          ],
          [
           "female"
          ],
          [
           "male"
          ],
          [
           "female"
          ],
          [
           "male"
          ],
          [
           "male"
          ],
          [
           "male"
          ],
          [
           "male"
          ],
          [
           "female"
          ],
          [
           "male"
          ],
          [
           "female"
          ],
          [
           "male"
          ],
          [
           "male"
          ],
          [
           "female"
          ],
          [
           "female"
          ],
          [
           "female"
          ],
          [
           "female"
          ],
          [
           "male"
          ],
          [
           "female"
          ],
          [
           "female"
          ],
          [
           "female"
          ],
          [
           "male"
          ],
          [
           "male"
          ],
          [
           "female"
          ],
          [
           "female"
          ],
          [
           "female"
          ],
          [
           "female"
          ],
          [
           "male"
          ],
          [
           "male"
          ],
          [
           "male"
          ],
          [
           "female"
          ],
          [
           "male"
          ],
          [
           "female"
          ],
          [
           "female"
          ],
          [
           "female"
          ],
          [
           "female"
          ],
          [
           "female"
          ],
          [
           "female"
          ],
          [
           "female"
          ],
          [
           "male"
          ],
          [
           "male"
          ],
          [
           "female"
          ],
          [
           "male"
          ],
          [
           "female"
          ],
          [
           "male"
          ],
          [
           "male"
          ],
          [
           "male"
          ],
          [
           "male"
          ],
          [
           "female"
          ],
          [
           "female"
          ],
          [
           "male"
          ],
          [
           "male"
          ],
          [
           "male"
          ],
          [
           "female"
          ],
          [
           "female"
          ],
          [
           "male"
          ],
          [
           "male"
          ],
          [
           "male"
          ],
          [
           "female"
          ],
          [
           "male"
          ],
          [
           "female"
          ],
          [
           "male"
          ],
          [
           "female"
          ],
          [
           "male"
          ],
          [
           "female"
          ],
          [
           "male"
          ],
          [
           "male"
          ],
          [
           "female"
          ],
          [
           "male"
          ],
          [
           "female"
          ],
          [
           "female"
          ],
          [
           "male"
          ],
          [
           "male"
          ],
          [
           "female"
          ],
          [
           "male"
          ],
          [
           "male"
          ],
          [
           "male"
          ],
          [
           "male"
          ],
          [
           "male"
          ],
          [
           "male"
          ],
          [
           "male"
          ],
          [
           "female"
          ],
          [
           "female"
          ],
          [
           "male"
          ],
          [
           "female"
          ],
          [
           "female"
          ],
          [
           "male"
          ],
          [
           "female"
          ],
          [
           "female"
          ],
          [
           "male"
          ],
          [
           "female"
          ],
          [
           "female"
          ],
          [
           "male"
          ],
          [
           "male"
          ],
          [
           "female"
          ],
          [
           "female"
          ],
          [
           "male"
          ],
          [
           "female"
          ],
          [
           "female"
          ],
          [
           "female"
          ],
          [
           "male"
          ],
          [
           "male"
          ],
          [
           "male"
          ],
          [
           "male"
          ],
          [
           "female"
          ],
          [
           "female"
          ],
          [
           "female"
          ],
          [
           "male"
          ],
          [
           "female"
          ],
          [
           "male"
          ],
          [
           "female"
          ],
          [
           "male"
          ],
          [
           "male"
          ],
          [
           "male"
          ],
          [
           "female"
          ],
          [
           "female"
          ],
          [
           "male"
          ],
          [
           "male"
          ],
          [
           "male"
          ],
          [
           "male"
          ],
          [
           "female"
          ],
          [
           "male"
          ],
          [
           "female"
          ],
          [
           "female"
          ],
          [
           "male"
          ],
          [
           "male"
          ],
          [
           "female"
          ],
          [
           "female"
          ],
          [
           "female"
          ],
          [
           "female"
          ],
          [
           "female"
          ],
          [
           "female"
          ],
          [
           "male"
          ],
          [
           "female"
          ],
          [
           "male"
          ],
          [
           "female"
          ],
          [
           "female"
          ],
          [
           "male"
          ],
          [
           "male"
          ],
          [
           "female"
          ],
          [
           "male"
          ],
          [
           "female"
          ],
          [
           "female"
          ],
          [
           "male"
          ],
          [
           "female"
          ],
          [
           "female"
          ],
          [
           "male"
          ],
          [
           "male"
          ],
          [
           "female"
          ],
          [
           "female"
          ],
          [
           "male"
          ],
          [
           "female"
          ],
          [
           "female"
          ],
          [
           "female"
          ],
          [
           "male"
          ],
          [
           "male"
          ],
          [
           "male"
          ],
          [
           "female"
          ],
          [
           "female"
          ],
          [
           "female"
          ],
          [
           "male"
          ],
          [
           "male"
          ],
          [
           "male"
          ],
          [
           "male"
          ],
          [
           "female"
          ],
          [
           "male"
          ],
          [
           "female"
          ],
          [
           "female"
          ],
          [
           "male"
          ],
          [
           "female"
          ],
          [
           "female"
          ],
          [
           "female"
          ],
          [
           "male"
          ],
          [
           "male"
          ],
          [
           "female"
          ],
          [
           "female"
          ],
          [
           "female"
          ],
          [
           "male"
          ]
         ],
         "hovertemplate": "GPA cuantiles=Medio<br>GPA=%{x}<br>parental level of education=%{y}<br>gender=%{customdata[0]}<extra></extra>",
         "legendgroup": "Medio",
         "marker": {
          "color": "yellow",
          "symbol": "circle"
         },
         "mode": "markers",
         "name": "Medio",
         "orientation": "h",
         "showlegend": true,
         "type": "scatter",
         "x": [
          4.92,
          4.92,
          4.92,
          4.92,
          4.92,
          4.92,
          4.92,
          4.92,
          4.92,
          4.94,
          4.94,
          4.94,
          4.94,
          4.94,
          4.94,
          4.94,
          4.96,
          4.96,
          4.96,
          4.96,
          4.96,
          4.96,
          4.96,
          4.96,
          4.96,
          4.98,
          4.98,
          4.98,
          4.98,
          4.98,
          5,
          5,
          5,
          5,
          5,
          5,
          5,
          5.02,
          5.02,
          5.02,
          5.02,
          5.02,
          5.02,
          5.02,
          5.02,
          5.04,
          5.04,
          5.04,
          5.04,
          5.06,
          5.06,
          5.06,
          5.06,
          5.06,
          5.06,
          5.06,
          5.08,
          5.08,
          5.08,
          5.08,
          5.08,
          5.08,
          5.08,
          5.08,
          5.08,
          5.08,
          5.08,
          5.08,
          5.1,
          5.1,
          5.1,
          5.1,
          5.1,
          5.1,
          5.1,
          5.1,
          5.1,
          5.1,
          5.12,
          5.12,
          5.12,
          5.12,
          5.12,
          5.12,
          5.12,
          5.12,
          5.12,
          5.12,
          5.12,
          5.12,
          5.14,
          5.14,
          5.14,
          5.14,
          5.14,
          5.14,
          5.14,
          5.14,
          5.14,
          5.14,
          5.14,
          5.16,
          5.16,
          5.16,
          5.16,
          5.16,
          5.16,
          5.16,
          5.16,
          5.16,
          5.16,
          5.18,
          5.18,
          5.18,
          5.18,
          5.18,
          5.2,
          5.2,
          5.2,
          5.2,
          5.2,
          5.2,
          5.2,
          5.2,
          5.2,
          5.2,
          5.2,
          5.2,
          5.22,
          5.22,
          5.22,
          5.22,
          5.22,
          5.22,
          5.22,
          5.22,
          5.24,
          5.24,
          5.24,
          5.24,
          5.26,
          5.26,
          5.26,
          5.26,
          5.26,
          5.26,
          5.26,
          5.26,
          5.26,
          5.26,
          5.26,
          5.28,
          5.28,
          5.28,
          5.28,
          5.28,
          5.28,
          5.28,
          5.28,
          5.28,
          5.28,
          5.3,
          5.3,
          5.3,
          5.3,
          5.3,
          5.3,
          5.3,
          5.3,
          5.32,
          5.32,
          5.32,
          5.32,
          5.32,
          5.32,
          5.32,
          5.32,
          5.32
         ],
         "xaxis": "x",
         "y": [
          "some college",
          "some high school",
          "some high school",
          "some college",
          "some high school",
          "bachelor's degree",
          "some college",
          "bachelor's degree",
          "high school",
          "some college",
          "high school",
          "associate's degree",
          "some high school",
          "high school",
          "some college",
          "high school",
          "some high school",
          "high school",
          "associate's degree",
          "bachelor's degree",
          "high school",
          "high school",
          "some high school",
          "associate's degree",
          "high school",
          "high school",
          "associate's degree",
          "associate's degree",
          "some high school",
          "bachelor's degree",
          "some high school",
          "bachelor's degree",
          "associate's degree",
          "high school",
          "associate's degree",
          "some college",
          "some college",
          "some high school",
          "high school",
          "some college",
          "some high school",
          "high school",
          "some college",
          "bachelor's degree",
          "some college",
          "high school",
          "associate's degree",
          "some high school",
          "bachelor's degree",
          "bachelor's degree",
          "bachelor's degree",
          "some college",
          "bachelor's degree",
          "high school",
          "some high school",
          "high school",
          "bachelor's degree",
          "high school",
          "associate's degree",
          "high school",
          "associate's degree",
          "bachelor's degree",
          "some high school",
          "some high school",
          "some college",
          "high school",
          "high school",
          "some college",
          "master's degree",
          "high school",
          "some college",
          "high school",
          "high school",
          "associate's degree",
          "some college",
          "some high school",
          "associate's degree",
          "some high school",
          "associate's degree",
          "bachelor's degree",
          "associate's degree",
          "some high school",
          "associate's degree",
          "high school",
          "high school",
          "associate's degree",
          "associate's degree",
          "some college",
          "some college",
          "some college",
          "some high school",
          "some college",
          "associate's degree",
          "high school",
          "associate's degree",
          "bachelor's degree",
          "associate's degree",
          "master's degree",
          "associate's degree",
          "bachelor's degree",
          "some high school",
          "associate's degree",
          "some high school",
          "some high school",
          "high school",
          "bachelor's degree",
          "associate's degree",
          "some college",
          "high school",
          "some college",
          "some college",
          "high school",
          "high school",
          "some high school",
          "associate's degree",
          "associate's degree",
          "some college",
          "some college",
          "high school",
          "high school",
          "master's degree",
          "bachelor's degree",
          "high school",
          "some college",
          "some high school",
          "master's degree",
          "high school",
          "some high school",
          "some college",
          "bachelor's degree",
          "bachelor's degree",
          "associate's degree",
          "some college",
          "bachelor's degree",
          "high school",
          "some high school",
          "some college",
          "bachelor's degree",
          "high school",
          "master's degree",
          "high school",
          "some college",
          "some college",
          "high school",
          "bachelor's degree",
          "high school",
          "bachelor's degree",
          "some college",
          "high school",
          "some college",
          "associate's degree",
          "associate's degree",
          "associate's degree",
          "associate's degree",
          "associate's degree",
          "associate's degree",
          "some high school",
          "some high school",
          "bachelor's degree",
          "bachelor's degree",
          "associate's degree",
          "high school",
          "high school",
          "high school",
          "master's degree",
          "associate's degree",
          "some college",
          "some high school",
          "some high school",
          "some high school",
          "associate's degree",
          "associate's degree",
          "bachelor's degree",
          "some college",
          "associate's degree",
          "some high school",
          "associate's degree",
          "some college"
         ],
         "yaxis": "y"
        },
        {
         "customdata": [
          [
           "female"
          ],
          [
           "female"
          ],
          [
           "female"
          ],
          [
           "female"
          ],
          [
           "male"
          ],
          [
           "female"
          ],
          [
           "female"
          ],
          [
           "female"
          ],
          [
           "female"
          ],
          [
           "male"
          ],
          [
           "male"
          ],
          [
           "female"
          ],
          [
           "female"
          ],
          [
           "female"
          ],
          [
           "female"
          ],
          [
           "male"
          ],
          [
           "male"
          ],
          [
           "female"
          ],
          [
           "female"
          ],
          [
           "female"
          ],
          [
           "female"
          ],
          [
           "female"
          ],
          [
           "male"
          ],
          [
           "male"
          ],
          [
           "male"
          ],
          [
           "female"
          ],
          [
           "male"
          ],
          [
           "male"
          ],
          [
           "female"
          ],
          [
           "male"
          ],
          [
           "male"
          ],
          [
           "female"
          ],
          [
           "male"
          ],
          [
           "male"
          ],
          [
           "male"
          ],
          [
           "male"
          ],
          [
           "male"
          ],
          [
           "female"
          ],
          [
           "female"
          ],
          [
           "male"
          ],
          [
           "female"
          ],
          [
           "male"
          ],
          [
           "male"
          ],
          [
           "female"
          ],
          [
           "female"
          ],
          [
           "female"
          ],
          [
           "female"
          ],
          [
           "male"
          ],
          [
           "female"
          ],
          [
           "female"
          ],
          [
           "female"
          ],
          [
           "female"
          ],
          [
           "female"
          ],
          [
           "female"
          ],
          [
           "female"
          ],
          [
           "female"
          ],
          [
           "female"
          ],
          [
           "female"
          ],
          [
           "female"
          ],
          [
           "male"
          ],
          [
           "female"
          ],
          [
           "male"
          ],
          [
           "female"
          ],
          [
           "male"
          ],
          [
           "male"
          ],
          [
           "female"
          ],
          [
           "female"
          ],
          [
           "male"
          ],
          [
           "female"
          ],
          [
           "female"
          ],
          [
           "female"
          ],
          [
           "male"
          ],
          [
           "male"
          ],
          [
           "male"
          ],
          [
           "female"
          ],
          [
           "male"
          ],
          [
           "female"
          ],
          [
           "female"
          ],
          [
           "male"
          ],
          [
           "female"
          ],
          [
           "female"
          ],
          [
           "female"
          ],
          [
           "female"
          ],
          [
           "female"
          ],
          [
           "female"
          ],
          [
           "male"
          ],
          [
           "male"
          ],
          [
           "female"
          ],
          [
           "male"
          ],
          [
           "female"
          ],
          [
           "female"
          ],
          [
           "male"
          ],
          [
           "female"
          ],
          [
           "female"
          ],
          [
           "female"
          ],
          [
           "female"
          ],
          [
           "male"
          ],
          [
           "female"
          ],
          [
           "male"
          ],
          [
           "female"
          ],
          [
           "male"
          ],
          [
           "male"
          ],
          [
           "female"
          ],
          [
           "female"
          ],
          [
           "female"
          ],
          [
           "male"
          ],
          [
           "male"
          ],
          [
           "female"
          ],
          [
           "female"
          ],
          [
           "female"
          ],
          [
           "female"
          ],
          [
           "female"
          ],
          [
           "male"
          ],
          [
           "female"
          ],
          [
           "female"
          ],
          [
           "female"
          ],
          [
           "female"
          ],
          [
           "female"
          ],
          [
           "male"
          ],
          [
           "female"
          ],
          [
           "male"
          ],
          [
           "male"
          ],
          [
           "male"
          ],
          [
           "female"
          ],
          [
           "female"
          ],
          [
           "male"
          ],
          [
           "female"
          ],
          [
           "female"
          ],
          [
           "female"
          ],
          [
           "male"
          ],
          [
           "male"
          ],
          [
           "male"
          ],
          [
           "male"
          ],
          [
           "male"
          ],
          [
           "female"
          ],
          [
           "male"
          ],
          [
           "male"
          ],
          [
           "male"
          ],
          [
           "female"
          ],
          [
           "female"
          ],
          [
           "female"
          ],
          [
           "female"
          ],
          [
           "female"
          ],
          [
           "female"
          ],
          [
           "male"
          ],
          [
           "female"
          ],
          [
           "female"
          ],
          [
           "female"
          ],
          [
           "female"
          ],
          [
           "female"
          ],
          [
           "female"
          ],
          [
           "male"
          ],
          [
           "female"
          ],
          [
           "male"
          ],
          [
           "female"
          ],
          [
           "female"
          ],
          [
           "male"
          ],
          [
           "male"
          ],
          [
           "male"
          ],
          [
           "male"
          ],
          [
           "male"
          ],
          [
           "female"
          ],
          [
           "female"
          ],
          [
           "female"
          ],
          [
           "female"
          ],
          [
           "male"
          ],
          [
           "male"
          ],
          [
           "male"
          ],
          [
           "female"
          ],
          [
           "male"
          ],
          [
           "male"
          ],
          [
           "female"
          ]
         ],
         "hovertemplate": "GPA cuantiles=Alto<br>GPA=%{x}<br>parental level of education=%{y}<br>gender=%{customdata[0]}<extra></extra>",
         "legendgroup": "Alto",
         "marker": {
          "color": "greenyellow",
          "symbol": "circle"
         },
         "mode": "markers",
         "name": "Alto",
         "orientation": "h",
         "showlegend": true,
         "type": "scatter",
         "x": [
          5.34,
          5.34,
          5.34,
          5.34,
          5.34,
          5.34,
          5.36,
          5.36,
          5.36,
          5.36,
          5.36,
          5.36,
          5.36,
          5.36,
          5.36,
          5.38,
          5.38,
          5.38,
          5.38,
          5.38,
          5.38,
          5.38,
          5.38,
          5.38,
          5.38,
          5.38,
          5.38,
          5.4,
          5.4,
          5.4,
          5.4,
          5.4,
          5.4,
          5.4,
          5.4,
          5.4,
          5.42,
          5.42,
          5.42,
          5.42,
          5.42,
          5.44,
          5.44,
          5.44,
          5.44,
          5.44,
          5.44,
          5.46,
          5.46,
          5.46,
          5.46,
          5.46,
          5.46,
          5.46,
          5.46,
          5.46,
          5.46,
          5.48,
          5.48,
          5.48,
          5.48,
          5.48,
          5.48,
          5.48,
          5.5,
          5.5,
          5.5,
          5.5,
          5.5,
          5.5,
          5.5,
          5.5,
          5.5,
          5.52,
          5.52,
          5.52,
          5.52,
          5.52,
          5.52,
          5.54,
          5.54,
          5.54,
          5.54,
          5.54,
          5.54,
          5.54,
          5.54,
          5.54,
          5.56,
          5.56,
          5.56,
          5.56,
          5.56,
          5.56,
          5.56,
          5.56,
          5.56,
          5.58,
          5.58,
          5.58,
          5.58,
          5.58,
          5.58,
          5.6,
          5.6,
          5.6,
          5.6,
          5.62,
          5.62,
          5.62,
          5.62,
          5.62,
          5.62,
          5.64,
          5.64,
          5.64,
          5.64,
          5.64,
          5.64,
          5.64,
          5.64,
          5.64,
          5.64,
          5.64,
          5.66,
          5.66,
          5.66,
          5.66,
          5.68,
          5.68,
          5.68,
          5.68,
          5.68,
          5.68,
          5.68,
          5.68,
          5.7,
          5.7,
          5.7,
          5.7,
          5.7,
          5.7,
          5.7,
          5.7,
          5.72,
          5.72,
          5.72,
          5.72,
          5.72,
          5.72,
          5.72,
          5.74,
          5.74,
          5.74,
          5.74,
          5.74,
          5.74,
          5.74,
          5.76,
          5.76,
          5.76,
          5.76,
          5.76,
          5.76,
          5.76,
          5.76,
          5.78,
          5.78,
          5.78,
          5.78,
          5.78,
          5.78
         ],
         "xaxis": "x",
         "y": [
          "associate's degree",
          "some college",
          "associate's degree",
          "some college",
          "high school",
          "some college",
          "some college",
          "high school",
          "some high school",
          "some high school",
          "master's degree",
          "high school",
          "bachelor's degree",
          "associate's degree",
          "some college",
          "some college",
          "some high school",
          "high school",
          "high school",
          "bachelor's degree",
          "high school",
          "some high school",
          "bachelor's degree",
          "master's degree",
          "high school",
          "bachelor's degree",
          "some college",
          "some high school",
          "some high school",
          "associate's degree",
          "some high school",
          "some high school",
          "master's degree",
          "associate's degree",
          "some college",
          "some college",
          "high school",
          "bachelor's degree",
          "bachelor's degree",
          "high school",
          "some college",
          "bachelor's degree",
          "bachelor's degree",
          "some college",
          "some high school",
          "some high school",
          "some college",
          "associate's degree",
          "some college",
          "some college",
          "some college",
          "some college",
          "associate's degree",
          "high school",
          "some college",
          "some college",
          "some college",
          "some high school",
          "high school",
          "associate's degree",
          "high school",
          "some college",
          "high school",
          "associate's degree",
          "bachelor's degree",
          "bachelor's degree",
          "some high school",
          "associate's degree",
          "some high school",
          "associate's degree",
          "associate's degree",
          "bachelor's degree",
          "associate's degree",
          "associate's degree",
          "some college",
          "some college",
          "high school",
          "associate's degree",
          "high school",
          "some college",
          "associate's degree",
          "some college",
          "associate's degree",
          "master's degree",
          "high school",
          "some college",
          "high school",
          "bachelor's degree",
          "bachelor's degree",
          "some high school",
          "high school",
          "some college",
          "some high school",
          "some high school",
          "some college",
          "associate's degree",
          "associate's degree",
          "high school",
          "some high school",
          "some college",
          "some high school",
          "some college",
          "associate's degree",
          "bachelor's degree",
          "high school",
          "associate's degree",
          "some high school",
          "some high school",
          "some college",
          "some high school",
          "some high school",
          "some high school",
          "some college",
          "some high school",
          "associate's degree",
          "bachelor's degree",
          "associate's degree",
          "some college",
          "associate's degree",
          "associate's degree",
          "some high school",
          "associate's degree",
          "associate's degree",
          "associate's degree",
          "bachelor's degree",
          "associate's degree",
          "associate's degree",
          "some college",
          "associate's degree",
          "bachelor's degree",
          "master's degree",
          "high school",
          "associate's degree",
          "associate's degree",
          "some college",
          "some high school",
          "high school",
          "high school",
          "associate's degree",
          "master's degree",
          "high school",
          "some college",
          "some college",
          "some college",
          "some college",
          "bachelor's degree",
          "some high school",
          "some high school",
          "high school",
          "bachelor's degree",
          "some college",
          "high school",
          "some college",
          "associate's degree",
          "associate's degree",
          "associate's degree",
          "some high school",
          "some high school",
          "master's degree",
          "some high school",
          "some college",
          "some high school",
          "master's degree",
          "associate's degree",
          "associate's degree",
          "high school",
          "some college",
          "bachelor's degree",
          "bachelor's degree",
          "associate's degree",
          "bachelor's degree",
          "bachelor's degree"
         ],
         "yaxis": "y"
        },
        {
         "customdata": [
          [
           "female"
          ],
          [
           "female"
          ],
          [
           "female"
          ],
          [
           "male"
          ],
          [
           "female"
          ],
          [
           "male"
          ],
          [
           "male"
          ],
          [
           "male"
          ],
          [
           "male"
          ],
          [
           "male"
          ],
          [
           "male"
          ],
          [
           "male"
          ],
          [
           "female"
          ],
          [
           "female"
          ],
          [
           "female"
          ],
          [
           "male"
          ],
          [
           "female"
          ],
          [
           "male"
          ],
          [
           "female"
          ],
          [
           "male"
          ],
          [
           "male"
          ],
          [
           "male"
          ],
          [
           "male"
          ],
          [
           "male"
          ],
          [
           "male"
          ],
          [
           "female"
          ],
          [
           "male"
          ],
          [
           "male"
          ],
          [
           "female"
          ],
          [
           "female"
          ],
          [
           "male"
          ],
          [
           "male"
          ],
          [
           "female"
          ],
          [
           "female"
          ],
          [
           "female"
          ],
          [
           "male"
          ],
          [
           "female"
          ],
          [
           "male"
          ],
          [
           "female"
          ],
          [
           "male"
          ],
          [
           "female"
          ],
          [
           "male"
          ],
          [
           "female"
          ],
          [
           "male"
          ],
          [
           "female"
          ],
          [
           "female"
          ],
          [
           "female"
          ],
          [
           "male"
          ],
          [
           "male"
          ],
          [
           "male"
          ],
          [
           "female"
          ],
          [
           "female"
          ],
          [
           "male"
          ],
          [
           "female"
          ],
          [
           "female"
          ],
          [
           "male"
          ],
          [
           "female"
          ],
          [
           "male"
          ],
          [
           "male"
          ],
          [
           "female"
          ],
          [
           "female"
          ],
          [
           "male"
          ],
          [
           "female"
          ],
          [
           "female"
          ],
          [
           "male"
          ],
          [
           "female"
          ],
          [
           "male"
          ],
          [
           "female"
          ],
          [
           "female"
          ],
          [
           "female"
          ],
          [
           "female"
          ],
          [
           "male"
          ],
          [
           "male"
          ],
          [
           "male"
          ],
          [
           "male"
          ],
          [
           "male"
          ],
          [
           "female"
          ],
          [
           "female"
          ],
          [
           "male"
          ],
          [
           "female"
          ],
          [
           "female"
          ],
          [
           "female"
          ],
          [
           "male"
          ],
          [
           "female"
          ],
          [
           "male"
          ],
          [
           "female"
          ],
          [
           "female"
          ],
          [
           "male"
          ],
          [
           "male"
          ],
          [
           "female"
          ],
          [
           "male"
          ],
          [
           "male"
          ],
          [
           "female"
          ],
          [
           "male"
          ],
          [
           "female"
          ],
          [
           "female"
          ],
          [
           "female"
          ],
          [
           "male"
          ],
          [
           "male"
          ],
          [
           "female"
          ],
          [
           "male"
          ],
          [
           "female"
          ],
          [
           "female"
          ],
          [
           "male"
          ],
          [
           "male"
          ],
          [
           "male"
          ],
          [
           "female"
          ],
          [
           "female"
          ],
          [
           "female"
          ],
          [
           "female"
          ],
          [
           "female"
          ],
          [
           "female"
          ],
          [
           "male"
          ],
          [
           "female"
          ],
          [
           "female"
          ],
          [
           "male"
          ],
          [
           "male"
          ],
          [
           "female"
          ],
          [
           "female"
          ],
          [
           "male"
          ],
          [
           "male"
          ],
          [
           "male"
          ],
          [
           "female"
          ],
          [
           "female"
          ],
          [
           "female"
          ],
          [
           "female"
          ],
          [
           "female"
          ],
          [
           "female"
          ],
          [
           "female"
          ],
          [
           "female"
          ],
          [
           "female"
          ],
          [
           "female"
          ],
          [
           "male"
          ],
          [
           "female"
          ],
          [
           "female"
          ],
          [
           "male"
          ],
          [
           "female"
          ],
          [
           "female"
          ],
          [
           "male"
          ],
          [
           "female"
          ],
          [
           "male"
          ],
          [
           "female"
          ],
          [
           "female"
          ],
          [
           "female"
          ],
          [
           "male"
          ],
          [
           "male"
          ],
          [
           "female"
          ],
          [
           "female"
          ],
          [
           "male"
          ],
          [
           "male"
          ],
          [
           "female"
          ],
          [
           "female"
          ],
          [
           "male"
          ],
          [
           "female"
          ],
          [
           "female"
          ],
          [
           "female"
          ],
          [
           "female"
          ],
          [
           "female"
          ],
          [
           "female"
          ],
          [
           "female"
          ],
          [
           "female"
          ],
          [
           "female"
          ],
          [
           "male"
          ],
          [
           "female"
          ],
          [
           "male"
          ],
          [
           "female"
          ],
          [
           "female"
          ],
          [
           "female"
          ],
          [
           "female"
          ],
          [
           "female"
          ],
          [
           "male"
          ],
          [
           "female"
          ]
         ],
         "hovertemplate": "GPA cuantiles=Muy alto<br>GPA=%{x}<br>parental level of education=%{y}<br>gender=%{customdata[0]}<extra></extra>",
         "legendgroup": "Muy alto",
         "marker": {
          "color": "green",
          "symbol": "circle"
         },
         "mode": "markers",
         "name": "Muy alto",
         "orientation": "h",
         "showlegend": true,
         "type": "scatter",
         "x": [
          5.8,
          5.8,
          5.8,
          5.82,
          5.82,
          5.82,
          5.82,
          5.82,
          5.82,
          5.82,
          5.84,
          5.84,
          5.84,
          5.84,
          5.84,
          5.84,
          5.84,
          5.86,
          5.88,
          5.88,
          5.88,
          5.88,
          5.9,
          5.9,
          5.9,
          5.92,
          5.92,
          5.94,
          5.94,
          5.94,
          5.94,
          5.94,
          5.94,
          5.94,
          5.94,
          5.94,
          5.94,
          5.94,
          5.96,
          5.96,
          5.96,
          5.96,
          5.96,
          5.98,
          5.98,
          5.98,
          5.98,
          5.98,
          5.98,
          5.98,
          5.98,
          5.98,
          6,
          6,
          6,
          6,
          6,
          6.02,
          6.02,
          6.04,
          6.04,
          6.04,
          6.04,
          6.04,
          6.04,
          6.04,
          6.04,
          6.06,
          6.06,
          6.08,
          6.08,
          6.1,
          6.1,
          6.1,
          6.1,
          6.12,
          6.12,
          6.12,
          6.14,
          6.14,
          6.14,
          6.14,
          6.14,
          6.14,
          6.16,
          6.16,
          6.16,
          6.16,
          6.18,
          6.18,
          6.18,
          6.18,
          6.2,
          6.2,
          6.2,
          6.22,
          6.22,
          6.22,
          6.22,
          6.22,
          6.24,
          6.24,
          6.24,
          6.24,
          6.26,
          6.26,
          6.28,
          6.28,
          6.3,
          6.3,
          6.3,
          6.3,
          6.3,
          6.32,
          6.32,
          6.32,
          6.32,
          6.32,
          6.34,
          6.34,
          6.34,
          6.34,
          6.36,
          6.36,
          6.36,
          6.36,
          6.38,
          6.38,
          6.4,
          6.42,
          6.42,
          6.42,
          6.44,
          6.46,
          6.48,
          6.48,
          6.5,
          6.5,
          6.5,
          6.5,
          6.5,
          6.52,
          6.54,
          6.56,
          6.56,
          6.56,
          6.6,
          6.6,
          6.62,
          6.64,
          6.64,
          6.64,
          6.64,
          6.74,
          6.76,
          6.78,
          6.78,
          6.8,
          6.82,
          6.82,
          6.84,
          6.86,
          6.86,
          6.86,
          6.92,
          6.92,
          6.94,
          6.94,
          6.98,
          7,
          7,
          7
         ],
         "xaxis": "x",
         "y": [
          "some college",
          "high school",
          "high school",
          "some college",
          "some high school",
          "some high school",
          "high school",
          "some high school",
          "associate's degree",
          "associate's degree",
          "some high school",
          "high school",
          "bachelor's degree",
          "bachelor's degree",
          "some high school",
          "some college",
          "some high school",
          "associate's degree",
          "some high school",
          "high school",
          "associate's degree",
          "associate's degree",
          "some college",
          "some high school",
          "associate's degree",
          "bachelor's degree",
          "master's degree",
          "high school",
          "high school",
          "some college",
          "some college",
          "some high school",
          "some college",
          "associate's degree",
          "some college",
          "some high school",
          "some college",
          "some high school",
          "some college",
          "high school",
          "high school",
          "some high school",
          "high school",
          "bachelor's degree",
          "high school",
          "bachelor's degree",
          "bachelor's degree",
          "bachelor's degree",
          "some college",
          "associate's degree",
          "associate's degree",
          "some college",
          "some high school",
          "high school",
          "some high school",
          "some high school",
          "master's degree",
          "some college",
          "bachelor's degree",
          "some high school",
          "some high school",
          "some college",
          "associate's degree",
          "bachelor's degree",
          "some college",
          "some high school",
          "associate's degree",
          "associate's degree",
          "associate's degree",
          "some college",
          "some college",
          "master's degree",
          "bachelor's degree",
          "associate's degree",
          "high school",
          "associate's degree",
          "some college",
          "some high school",
          "some high school",
          "associate's degree",
          "bachelor's degree",
          "some college",
          "some college",
          "associate's degree",
          "master's degree",
          "associate's degree",
          "some college",
          "bachelor's degree",
          "master's degree",
          "master's degree",
          "some high school",
          "high school",
          "some high school",
          "some high school",
          "bachelor's degree",
          "associate's degree",
          "associate's degree",
          "associate's degree",
          "master's degree",
          "bachelor's degree",
          "associate's degree",
          "associate's degree",
          "some college",
          "associate's degree",
          "high school",
          "master's degree",
          "master's degree",
          "associate's degree",
          "some college",
          "bachelor's degree",
          "associate's degree",
          "master's degree",
          "bachelor's degree",
          "associate's degree",
          "some college",
          "some college",
          "some college",
          "bachelor's degree",
          "some high school",
          "associate's degree",
          "some college",
          "some high school",
          "associate's degree",
          "high school",
          "master's degree",
          "associate's degree",
          "associate's degree",
          "some college",
          "some high school",
          "associate's degree",
          "associate's degree",
          "bachelor's degree",
          "associate's degree",
          "associate's degree",
          "some high school",
          "some college",
          "some college",
          "associate's degree",
          "associate's degree",
          "some college",
          "associate's degree",
          "associate's degree",
          "some college",
          "master's degree",
          "bachelor's degree",
          "some college",
          "associate's degree",
          "master's degree",
          "associate's degree",
          "associate's degree",
          "high school",
          "master's degree",
          "some college",
          "high school",
          "associate's degree",
          "bachelor's degree",
          "some college",
          "bachelor's degree",
          "bachelor's degree",
          "associate's degree",
          "master's degree",
          "bachelor's degree",
          "associate's degree",
          "master's degree",
          "some college",
          "bachelor's degree",
          "some college",
          "some high school",
          "bachelor's degree",
          "bachelor's degree",
          "bachelor's degree",
          "associate's degree"
         ],
         "yaxis": "y"
        }
       ],
       "layout": {
        "legend": {
         "title": {
          "text": "GPA cuantiles"
         },
         "tracegroupgap": 0
        },
        "template": {
         "data": {
          "bar": [
           {
            "error_x": {
             "color": "#2a3f5f"
            },
            "error_y": {
             "color": "#2a3f5f"
            },
            "marker": {
             "line": {
              "color": "#E5ECF6",
              "width": 0.5
             },
             "pattern": {
              "fillmode": "overlay",
              "size": 10,
              "solidity": 0.2
             }
            },
            "type": "bar"
           }
          ],
          "barpolar": [
           {
            "marker": {
             "line": {
              "color": "#E5ECF6",
              "width": 0.5
             },
             "pattern": {
              "fillmode": "overlay",
              "size": 10,
              "solidity": 0.2
             }
            },
            "type": "barpolar"
           }
          ],
          "carpet": [
           {
            "aaxis": {
             "endlinecolor": "#2a3f5f",
             "gridcolor": "white",
             "linecolor": "white",
             "minorgridcolor": "white",
             "startlinecolor": "#2a3f5f"
            },
            "baxis": {
             "endlinecolor": "#2a3f5f",
             "gridcolor": "white",
             "linecolor": "white",
             "minorgridcolor": "white",
             "startlinecolor": "#2a3f5f"
            },
            "type": "carpet"
           }
          ],
          "choropleth": [
           {
            "colorbar": {
             "outlinewidth": 0,
             "ticks": ""
            },
            "type": "choropleth"
           }
          ],
          "contour": [
           {
            "colorbar": {
             "outlinewidth": 0,
             "ticks": ""
            },
            "colorscale": [
             [
              0,
              "#0d0887"
             ],
             [
              0.1111111111111111,
              "#46039f"
             ],
             [
              0.2222222222222222,
              "#7201a8"
             ],
             [
              0.3333333333333333,
              "#9c179e"
             ],
             [
              0.4444444444444444,
              "#bd3786"
             ],
             [
              0.5555555555555556,
              "#d8576b"
             ],
             [
              0.6666666666666666,
              "#ed7953"
             ],
             [
              0.7777777777777778,
              "#fb9f3a"
             ],
             [
              0.8888888888888888,
              "#fdca26"
             ],
             [
              1,
              "#f0f921"
             ]
            ],
            "type": "contour"
           }
          ],
          "contourcarpet": [
           {
            "colorbar": {
             "outlinewidth": 0,
             "ticks": ""
            },
            "type": "contourcarpet"
           }
          ],
          "heatmap": [
           {
            "colorbar": {
             "outlinewidth": 0,
             "ticks": ""
            },
            "colorscale": [
             [
              0,
              "#0d0887"
             ],
             [
              0.1111111111111111,
              "#46039f"
             ],
             [
              0.2222222222222222,
              "#7201a8"
             ],
             [
              0.3333333333333333,
              "#9c179e"
             ],
             [
              0.4444444444444444,
              "#bd3786"
             ],
             [
              0.5555555555555556,
              "#d8576b"
             ],
             [
              0.6666666666666666,
              "#ed7953"
             ],
             [
              0.7777777777777778,
              "#fb9f3a"
             ],
             [
              0.8888888888888888,
              "#fdca26"
             ],
             [
              1,
              "#f0f921"
             ]
            ],
            "type": "heatmap"
           }
          ],
          "heatmapgl": [
           {
            "colorbar": {
             "outlinewidth": 0,
             "ticks": ""
            },
            "colorscale": [
             [
              0,
              "#0d0887"
             ],
             [
              0.1111111111111111,
              "#46039f"
             ],
             [
              0.2222222222222222,
              "#7201a8"
             ],
             [
              0.3333333333333333,
              "#9c179e"
             ],
             [
              0.4444444444444444,
              "#bd3786"
             ],
             [
              0.5555555555555556,
              "#d8576b"
             ],
             [
              0.6666666666666666,
              "#ed7953"
             ],
             [
              0.7777777777777778,
              "#fb9f3a"
             ],
             [
              0.8888888888888888,
              "#fdca26"
             ],
             [
              1,
              "#f0f921"
             ]
            ],
            "type": "heatmapgl"
           }
          ],
          "histogram": [
           {
            "marker": {
             "pattern": {
              "fillmode": "overlay",
              "size": 10,
              "solidity": 0.2
             }
            },
            "type": "histogram"
           }
          ],
          "histogram2d": [
           {
            "colorbar": {
             "outlinewidth": 0,
             "ticks": ""
            },
            "colorscale": [
             [
              0,
              "#0d0887"
             ],
             [
              0.1111111111111111,
              "#46039f"
             ],
             [
              0.2222222222222222,
              "#7201a8"
             ],
             [
              0.3333333333333333,
              "#9c179e"
             ],
             [
              0.4444444444444444,
              "#bd3786"
             ],
             [
              0.5555555555555556,
              "#d8576b"
             ],
             [
              0.6666666666666666,
              "#ed7953"
             ],
             [
              0.7777777777777778,
              "#fb9f3a"
             ],
             [
              0.8888888888888888,
              "#fdca26"
             ],
             [
              1,
              "#f0f921"
             ]
            ],
            "type": "histogram2d"
           }
          ],
          "histogram2dcontour": [
           {
            "colorbar": {
             "outlinewidth": 0,
             "ticks": ""
            },
            "colorscale": [
             [
              0,
              "#0d0887"
             ],
             [
              0.1111111111111111,
              "#46039f"
             ],
             [
              0.2222222222222222,
              "#7201a8"
             ],
             [
              0.3333333333333333,
              "#9c179e"
             ],
             [
              0.4444444444444444,
              "#bd3786"
             ],
             [
              0.5555555555555556,
              "#d8576b"
             ],
             [
              0.6666666666666666,
              "#ed7953"
             ],
             [
              0.7777777777777778,
              "#fb9f3a"
             ],
             [
              0.8888888888888888,
              "#fdca26"
             ],
             [
              1,
              "#f0f921"
             ]
            ],
            "type": "histogram2dcontour"
           }
          ],
          "mesh3d": [
           {
            "colorbar": {
             "outlinewidth": 0,
             "ticks": ""
            },
            "type": "mesh3d"
           }
          ],
          "parcoords": [
           {
            "line": {
             "colorbar": {
              "outlinewidth": 0,
              "ticks": ""
             }
            },
            "type": "parcoords"
           }
          ],
          "pie": [
           {
            "automargin": true,
            "type": "pie"
           }
          ],
          "scatter": [
           {
            "fillpattern": {
             "fillmode": "overlay",
             "size": 10,
             "solidity": 0.2
            },
            "type": "scatter"
           }
          ],
          "scatter3d": [
           {
            "line": {
             "colorbar": {
              "outlinewidth": 0,
              "ticks": ""
             }
            },
            "marker": {
             "colorbar": {
              "outlinewidth": 0,
              "ticks": ""
             }
            },
            "type": "scatter3d"
           }
          ],
          "scattercarpet": [
           {
            "marker": {
             "colorbar": {
              "outlinewidth": 0,
              "ticks": ""
             }
            },
            "type": "scattercarpet"
           }
          ],
          "scattergeo": [
           {
            "marker": {
             "colorbar": {
              "outlinewidth": 0,
              "ticks": ""
             }
            },
            "type": "scattergeo"
           }
          ],
          "scattergl": [
           {
            "marker": {
             "colorbar": {
              "outlinewidth": 0,
              "ticks": ""
             }
            },
            "type": "scattergl"
           }
          ],
          "scattermapbox": [
           {
            "marker": {
             "colorbar": {
              "outlinewidth": 0,
              "ticks": ""
             }
            },
            "type": "scattermapbox"
           }
          ],
          "scatterpolar": [
           {
            "marker": {
             "colorbar": {
              "outlinewidth": 0,
              "ticks": ""
             }
            },
            "type": "scatterpolar"
           }
          ],
          "scatterpolargl": [
           {
            "marker": {
             "colorbar": {
              "outlinewidth": 0,
              "ticks": ""
             }
            },
            "type": "scatterpolargl"
           }
          ],
          "scatterternary": [
           {
            "marker": {
             "colorbar": {
              "outlinewidth": 0,
              "ticks": ""
             }
            },
            "type": "scatterternary"
           }
          ],
          "surface": [
           {
            "colorbar": {
             "outlinewidth": 0,
             "ticks": ""
            },
            "colorscale": [
             [
              0,
              "#0d0887"
             ],
             [
              0.1111111111111111,
              "#46039f"
             ],
             [
              0.2222222222222222,
              "#7201a8"
             ],
             [
              0.3333333333333333,
              "#9c179e"
             ],
             [
              0.4444444444444444,
              "#bd3786"
             ],
             [
              0.5555555555555556,
              "#d8576b"
             ],
             [
              0.6666666666666666,
              "#ed7953"
             ],
             [
              0.7777777777777778,
              "#fb9f3a"
             ],
             [
              0.8888888888888888,
              "#fdca26"
             ],
             [
              1,
              "#f0f921"
             ]
            ],
            "type": "surface"
           }
          ],
          "table": [
           {
            "cells": {
             "fill": {
              "color": "#EBF0F8"
             },
             "line": {
              "color": "white"
             }
            },
            "header": {
             "fill": {
              "color": "#C8D4E3"
             },
             "line": {
              "color": "white"
             }
            },
            "type": "table"
           }
          ]
         },
         "layout": {
          "annotationdefaults": {
           "arrowcolor": "#2a3f5f",
           "arrowhead": 0,
           "arrowwidth": 1
          },
          "autotypenumbers": "strict",
          "coloraxis": {
           "colorbar": {
            "outlinewidth": 0,
            "ticks": ""
           }
          },
          "colorscale": {
           "diverging": [
            [
             0,
             "#8e0152"
            ],
            [
             0.1,
             "#c51b7d"
            ],
            [
             0.2,
             "#de77ae"
            ],
            [
             0.3,
             "#f1b6da"
            ],
            [
             0.4,
             "#fde0ef"
            ],
            [
             0.5,
             "#f7f7f7"
            ],
            [
             0.6,
             "#e6f5d0"
            ],
            [
             0.7,
             "#b8e186"
            ],
            [
             0.8,
             "#7fbc41"
            ],
            [
             0.9,
             "#4d9221"
            ],
            [
             1,
             "#276419"
            ]
           ],
           "sequential": [
            [
             0,
             "#0d0887"
            ],
            [
             0.1111111111111111,
             "#46039f"
            ],
            [
             0.2222222222222222,
             "#7201a8"
            ],
            [
             0.3333333333333333,
             "#9c179e"
            ],
            [
             0.4444444444444444,
             "#bd3786"
            ],
            [
             0.5555555555555556,
             "#d8576b"
            ],
            [
             0.6666666666666666,
             "#ed7953"
            ],
            [
             0.7777777777777778,
             "#fb9f3a"
            ],
            [
             0.8888888888888888,
             "#fdca26"
            ],
            [
             1,
             "#f0f921"
            ]
           ],
           "sequentialminus": [
            [
             0,
             "#0d0887"
            ],
            [
             0.1111111111111111,
             "#46039f"
            ],
            [
             0.2222222222222222,
             "#7201a8"
            ],
            [
             0.3333333333333333,
             "#9c179e"
            ],
            [
             0.4444444444444444,
             "#bd3786"
            ],
            [
             0.5555555555555556,
             "#d8576b"
            ],
            [
             0.6666666666666666,
             "#ed7953"
            ],
            [
             0.7777777777777778,
             "#fb9f3a"
            ],
            [
             0.8888888888888888,
             "#fdca26"
            ],
            [
             1,
             "#f0f921"
            ]
           ]
          },
          "colorway": [
           "#636efa",
           "#EF553B",
           "#00cc96",
           "#ab63fa",
           "#FFA15A",
           "#19d3f3",
           "#FF6692",
           "#B6E880",
           "#FF97FF",
           "#FECB52"
          ],
          "font": {
           "color": "#2a3f5f"
          },
          "geo": {
           "bgcolor": "white",
           "lakecolor": "white",
           "landcolor": "#E5ECF6",
           "showlakes": true,
           "showland": true,
           "subunitcolor": "white"
          },
          "hoverlabel": {
           "align": "left"
          },
          "hovermode": "closest",
          "mapbox": {
           "style": "light"
          },
          "paper_bgcolor": "white",
          "plot_bgcolor": "#E5ECF6",
          "polar": {
           "angularaxis": {
            "gridcolor": "white",
            "linecolor": "white",
            "ticks": ""
           },
           "bgcolor": "#E5ECF6",
           "radialaxis": {
            "gridcolor": "white",
            "linecolor": "white",
            "ticks": ""
           }
          },
          "scene": {
           "xaxis": {
            "backgroundcolor": "#E5ECF6",
            "gridcolor": "white",
            "gridwidth": 2,
            "linecolor": "white",
            "showbackground": true,
            "ticks": "",
            "zerolinecolor": "white"
           },
           "yaxis": {
            "backgroundcolor": "#E5ECF6",
            "gridcolor": "white",
            "gridwidth": 2,
            "linecolor": "white",
            "showbackground": true,
            "ticks": "",
            "zerolinecolor": "white"
           },
           "zaxis": {
            "backgroundcolor": "#E5ECF6",
            "gridcolor": "white",
            "gridwidth": 2,
            "linecolor": "white",
            "showbackground": true,
            "ticks": "",
            "zerolinecolor": "white"
           }
          },
          "shapedefaults": {
           "line": {
            "color": "#2a3f5f"
           }
          },
          "ternary": {
           "aaxis": {
            "gridcolor": "white",
            "linecolor": "white",
            "ticks": ""
           },
           "baxis": {
            "gridcolor": "white",
            "linecolor": "white",
            "ticks": ""
           },
           "bgcolor": "#E5ECF6",
           "caxis": {
            "gridcolor": "white",
            "linecolor": "white",
            "ticks": ""
           }
          },
          "title": {
           "x": 0.05
          },
          "xaxis": {
           "automargin": true,
           "gridcolor": "white",
           "linecolor": "white",
           "ticks": "",
           "title": {
            "standoff": 15
           },
           "zerolinecolor": "white",
           "zerolinewidth": 2
          },
          "yaxis": {
           "automargin": true,
           "gridcolor": "white",
           "linecolor": "white",
           "ticks": "",
           "title": {
            "standoff": 15
           },
           "zerolinecolor": "white",
           "zerolinewidth": 2
          }
         }
        },
        "title": {
         "text": "GPA por Nivel de educación de los padres"
        },
        "xaxis": {
         "anchor": "y",
         "domain": [
          0,
          1
         ],
         "title": {
          "text": "GPA"
         }
        },
        "yaxis": {
         "anchor": "x",
         "domain": [
          0,
          1
         ],
         "title": {
          "text": "parental level of education"
         }
        }
       }
      }
     },
     "metadata": {},
     "output_type": "display_data"
    }
   ],
   "source": [
    "# Código para quintiles \n",
    "# La variable que contenga los quintiles debe llamarse GPA cuantiles para que el gráfico funcione.\n",
    "cuantiles = pd.qcut(\n",
    "    df_grades[\"GPA\"],\n",
    "    5,\n",
    "    labels=[\"Bajísimo\", \"Bajo\", \"Medio\", \"Alto\", \"Muy alto\"]\n",
    "    )\n",
    "\n",
    "df_grades[\"GPA cuantiles\"] = cuantiles\n",
    "\n",
    "\n",
    "# Código de gráfico \n",
    "fig = px.scatter(\n",
    "    df_grades.sort_values(by=\"GPA\"),\n",
    "    x=\"GPA\",\n",
    "    y=\"parental level of education\",\n",
    "    hover_data=[\"gender\"],\n",
    "    color=\"GPA cuantiles\",\n",
    "    title=\"GPA por Nivel de educación de los padres\",\n",
    "    color_discrete_sequence=[\"tomato\", \"orange\", \"yellow\", \"greenyellow\", \"green\"]\n",
    ")\n",
    "\n",
    "fig\n"
   ]
  },
  {
   "cell_type": "markdown",
   "metadata": {
    "cell_id": "00062-ad093927-5bf2-4f2f-bc1d-55aee96cf311",
    "deepnote_cell_type": "markdown",
    "tags": []
   },
   "source": [
    "```\n",
    "Escriba aqui su respuesta\n",
    "```"
   ]
  },
  {
   "cell_type": "markdown",
   "metadata": {
    "cell_id": "00063-0d54c0f4-3d67-4c1d-92c0-dcc7882faae0",
    "deepnote_cell_type": "markdown",
    "id": "Rg4ZMq8ezAH6",
    "owner_user_id": "badcc427-fd3d-4615-9296-faa43ec69cfb"
   },
   "source": [
    "# Conclusión\n",
    "Eso ha sido todo para el lab de hoy, recuerden que el laboratorio tiene un plazo de entrega de una semana. Cualquier duda del laboratorio, no duden en contactarnos por mail o U-cursos.\n",
    "\n",
    "<p align=\"center\">\n",
    "  <img src=\"https://media1.tenor.com/images/2f7df460196625edc45b8380d158e5ee/tenor.gif?itemid=16669403\">\n",
    "</p>"
   ]
  },
  {
   "cell_type": "markdown",
   "metadata": {
    "cell_id": "00064-230f1ae7-660b-4bae-822a-fee59dada1d1",
    "deepnote_cell_type": "markdown",
    "id": "wCL1lACBzAH7"
   },
   "source": [
    "<br>\n",
    "<center>\n",
    "<img src=\"https://i.kym-cdn.com/photos/images/original/001/194/195/b18.png\" width=100 height=50 />\n",
    "</center>\n",
    "<br>"
   ]
  },
  {
   "cell_type": "markdown",
   "metadata": {
    "created_in_deepnote_cell": true,
    "deepnote_cell_type": "markdown",
    "tags": []
   },
   "source": [
    "<a style='text-decoration:none;line-height:16px;display:flex;color:#5B5B62;padding:10px;justify-content:end;' href='https://deepnote.com?utm_source=created-in-deepnote-cell&projectId=87110296-876e-426f-b91d-aaf681223468' target=\"_blank\">\n",
    "<img alt='Created in deepnote.com' style='display:inline;max-height:16px;margin:0px;margin-right:7.5px;' src='data:image/svg+xml;base64,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' > </img>\n",
    "Created in <span style='font-weight:600;margin-left:4px;'>Deepnote</span></a>"
   ]
  }
 ],
 "metadata": {
  "colab": {
   "collapsed_sections": [],
   "name": "Laboratorio2.ipynb",
   "provenance": [],
   "toc_visible": true
  },
  "deepnote": {},
  "deepnote_execution_queue": [],
  "deepnote_notebook_id": "7ce98c1f-486d-455c-8cea-d01f96f5dab9",
  "kernelspec": {
   "display_name": "Python 3.9.7 ('sci-env')",
   "language": "python",
   "name": "python3"
  },
  "language_info": {
   "codemirror_mode": {
    "name": "ipython",
    "version": 3
   },
   "file_extension": ".py",
   "mimetype": "text/x-python",
   "name": "python",
   "nbconvert_exporter": "python",
   "pygments_lexer": "ipython3",
   "version": "3.9.7"
  },
  "toc": {
   "base_numbering": 1,
   "nav_menu": {},
   "number_sections": true,
   "sideBar": true,
   "skip_h1_title": true,
   "title_cell": "Tabla de Contenidos",
   "title_sidebar": "Contenidos",
   "toc_cell": false,
   "toc_position": {
    "height": "calc(100% - 180px)",
    "left": "10px",
    "top": "150px",
    "width": "241.867px"
   },
   "toc_section_display": true,
   "toc_window_display": true
  },
  "varInspector": {
   "cols": {
    "lenName": 16,
    "lenType": 16,
    "lenVar": 40
   },
   "kernels_config": {
    "python": {
     "delete_cmd_postfix": "",
     "delete_cmd_prefix": "del ",
     "library": "var_list.py",
     "varRefreshCmd": "print(var_dic_list())"
    },
    "r": {
     "delete_cmd_postfix": ") ",
     "delete_cmd_prefix": "rm(",
     "library": "var_list.r",
     "varRefreshCmd": "cat(var_dic_list()) "
    }
   },
   "types_to_exclude": [
    "module",
    "function",
    "builtin_function_or_method",
    "instance",
    "_Feature"
   ],
   "window_display": false
  },
  "vscode": {
   "interpreter": {
    "hash": "dc1234e22216377955d9bc7362d7ebbb02a7c5c0522bc6a497bbd20569fe2f72"
   }
  }
 },
 "nbformat": 4,
 "nbformat_minor": 0
}
